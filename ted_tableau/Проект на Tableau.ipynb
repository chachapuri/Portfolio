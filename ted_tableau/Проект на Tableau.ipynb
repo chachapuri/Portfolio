{
 "cells": [
  {
   "cell_type": "markdown",
   "id": "b1caf857",
   "metadata": {},
   "source": [
    "# Построение дашбордов в Tableau"
   ]
  },
  {
   "cell_type": "markdown",
   "id": "93beb1c0",
   "metadata": {},
   "source": [
    "## ВВЕДЕНИЕ"
   ]
  },
  {
   "cell_type": "markdown",
   "id": "e7ad4533",
   "metadata": {},
   "source": [
    "**Цель проекта:**   \n",
    "Необходимо создадить дашборд на основе данных о конференциях TED."
   ]
  },
  {
   "cell_type": "markdown",
   "id": "ab793942",
   "metadata": {},
   "source": [
    "Презентация - https://public.tableau.com/views/TED_Project_2/TED-?:language=en-GB&publish=yes&:sid=&:redirect=auth&:display_count=n&:origin=viz_share_link"
   ]
  },
  {
   "cell_type": "code",
   "execution_count": null,
   "id": "5a30ba6d-c9bb-488c-91a5-be0318635b1d",
   "metadata": {},
   "outputs": [],
   "source": []
  }
 ],
 "metadata": {
  "ExecuteTimeLog": [
   {
    "duration": 96,
    "start_time": "2024-12-25T12:25:11.578Z"
   }
  ],
  "kernelspec": {
   "display_name": "Python 3 (ipykernel)",
   "language": "python",
   "name": "python3"
  },
  "language_info": {
   "codemirror_mode": {
    "name": "ipython",
    "version": 3
   },
   "file_extension": ".py",
   "mimetype": "text/x-python",
   "name": "python",
   "nbconvert_exporter": "python",
   "pygments_lexer": "ipython3",
   "version": "3.9.19"
  },
  "toc": {
   "base_numbering": 1,
   "nav_menu": {},
   "number_sections": true,
   "sideBar": true,
   "skip_h1_title": true,
   "title_cell": "Table of Contents",
   "title_sidebar": "Contents",
   "toc_cell": false,
   "toc_position": {},
   "toc_section_display": true,
   "toc_window_display": false
  }
 },
 "nbformat": 4,
 "nbformat_minor": 5
}
