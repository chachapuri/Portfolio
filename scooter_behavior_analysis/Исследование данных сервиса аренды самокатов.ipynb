{
 "cells": [
  {
   "cell_type": "markdown",
   "id": "1c99a302-10a7-403f-a024-d0a0e6001b11",
   "metadata": {},
   "source": [
    "# Анализ и исследование данных сервиса аренды самокатов"
   ]
  },
  {
   "cell_type": "markdown",
   "id": "0e728abb-87a7-4e49-8f20-595e1b8a2eef",
   "metadata": {},
   "source": [
    "**Целью является предобработка полученных данных и проверка следующих гипотез:**  \n",
    "1. Тратят ли пользователи с подпиской больше времени на поездки, чем пользователи без подписки.\n",
    "2. Среднее расстояние, которое проезжают пользователи с подпиской за одну поездку, не превышает 3130 метров.\n",
    "3. Помесячная выручка от пользователей с подпиской по месяцам выше, чем выручка от пользователей без подписки."
   ]
  },
  {
   "cell_type": "markdown",
   "id": "c42cbe00",
   "metadata": {},
   "source": [
    "#### Шаг 1. Загрузка данных"
   ]
  },
  {
   "cell_type": "markdown",
   "id": "652527ef-896b-496d-be05-e65e4a47fc70",
   "metadata": {},
   "source": [
    "**Импортируем все необходимые библиотеки для анализа данных**"
   ]
  },
  {
   "cell_type": "code",
   "execution_count": 1,
   "id": "72576667",
   "metadata": {},
   "outputs": [],
   "source": [
    "import pandas as pd\n",
    "import matplotlib.pyplot as plt\n",
    "import numpy as np\n",
    "from scipy import stats as st\n",
    "from scipy.stats import binom, norm\n",
    "from math import sqrt"
   ]
  },
  {
   "cell_type": "markdown",
   "id": "27651245-e4b9-4248-9bbe-32fb63502115",
   "metadata": {},
   "source": [
    "**Загрузим данные и сохраним их в переменные**"
   ]
  },
  {
   "cell_type": "code",
   "execution_count": 2,
   "id": "eff9f206",
   "metadata": {},
   "outputs": [],
   "source": [
    "def load_data(filename):\n",
    "    try:\n",
    "        return pd.read_csv(f'C:/Users/mmeln/projects/Statistics/{filename}')\n",
    "    except FileNotFoundError:\n",
    "        return pd.read_csv(f'/datasets/{filename}')\n",
    "\n",
    "rides = load_data('rides_go.csv')\n",
    "subscriptions = load_data('subscriptions_go.csv')\n",
    "users = load_data('users_go.csv')"
   ]
  },
  {
   "cell_type": "markdown",
   "id": "bdefe51c-d1f9-4415-84f0-da05fbeebb54",
   "metadata": {},
   "source": [
    "**Выведем первые 20 строк таблицы с пользователями**"
   ]
  },
  {
   "cell_type": "code",
   "execution_count": 3,
   "id": "949d5b5f-66fa-461d-ad68-77ba7ffb249a",
   "metadata": {},
   "outputs": [
    {
     "data": {
      "text/html": [
       "<div>\n",
       "<style scoped>\n",
       "    .dataframe tbody tr th:only-of-type {\n",
       "        vertical-align: middle;\n",
       "    }\n",
       "\n",
       "    .dataframe tbody tr th {\n",
       "        vertical-align: top;\n",
       "    }\n",
       "\n",
       "    .dataframe thead th {\n",
       "        text-align: right;\n",
       "    }\n",
       "</style>\n",
       "<table border=\"1\" class=\"dataframe\">\n",
       "  <thead>\n",
       "    <tr style=\"text-align: right;\">\n",
       "      <th></th>\n",
       "      <th>user_id</th>\n",
       "      <th>name</th>\n",
       "      <th>age</th>\n",
       "      <th>city</th>\n",
       "      <th>subscription_type</th>\n",
       "    </tr>\n",
       "  </thead>\n",
       "  <tbody>\n",
       "    <tr>\n",
       "      <th>0</th>\n",
       "      <td>1</td>\n",
       "      <td>Кира</td>\n",
       "      <td>22</td>\n",
       "      <td>Тюмень</td>\n",
       "      <td>ultra</td>\n",
       "    </tr>\n",
       "    <tr>\n",
       "      <th>1</th>\n",
       "      <td>2</td>\n",
       "      <td>Станислав</td>\n",
       "      <td>31</td>\n",
       "      <td>Омск</td>\n",
       "      <td>ultra</td>\n",
       "    </tr>\n",
       "    <tr>\n",
       "      <th>2</th>\n",
       "      <td>3</td>\n",
       "      <td>Алексей</td>\n",
       "      <td>20</td>\n",
       "      <td>Москва</td>\n",
       "      <td>ultra</td>\n",
       "    </tr>\n",
       "    <tr>\n",
       "      <th>3</th>\n",
       "      <td>4</td>\n",
       "      <td>Константин</td>\n",
       "      <td>26</td>\n",
       "      <td>Ростов-на-Дону</td>\n",
       "      <td>ultra</td>\n",
       "    </tr>\n",
       "    <tr>\n",
       "      <th>4</th>\n",
       "      <td>5</td>\n",
       "      <td>Адель</td>\n",
       "      <td>28</td>\n",
       "      <td>Омск</td>\n",
       "      <td>ultra</td>\n",
       "    </tr>\n",
       "    <tr>\n",
       "      <th>5</th>\n",
       "      <td>6</td>\n",
       "      <td>Регина</td>\n",
       "      <td>25</td>\n",
       "      <td>Краснодар</td>\n",
       "      <td>ultra</td>\n",
       "    </tr>\n",
       "    <tr>\n",
       "      <th>6</th>\n",
       "      <td>7</td>\n",
       "      <td>Игорь</td>\n",
       "      <td>23</td>\n",
       "      <td>Омск</td>\n",
       "      <td>ultra</td>\n",
       "    </tr>\n",
       "    <tr>\n",
       "      <th>7</th>\n",
       "      <td>8</td>\n",
       "      <td>Юрий</td>\n",
       "      <td>23</td>\n",
       "      <td>Краснодар</td>\n",
       "      <td>ultra</td>\n",
       "    </tr>\n",
       "    <tr>\n",
       "      <th>8</th>\n",
       "      <td>9</td>\n",
       "      <td>Ян</td>\n",
       "      <td>21</td>\n",
       "      <td>Пятигорск</td>\n",
       "      <td>ultra</td>\n",
       "    </tr>\n",
       "    <tr>\n",
       "      <th>9</th>\n",
       "      <td>10</td>\n",
       "      <td>Валерий</td>\n",
       "      <td>18</td>\n",
       "      <td>Екатеринбург</td>\n",
       "      <td>ultra</td>\n",
       "    </tr>\n",
       "    <tr>\n",
       "      <th>10</th>\n",
       "      <td>11</td>\n",
       "      <td>Агата</td>\n",
       "      <td>31</td>\n",
       "      <td>Краснодар</td>\n",
       "      <td>ultra</td>\n",
       "    </tr>\n",
       "    <tr>\n",
       "      <th>11</th>\n",
       "      <td>12</td>\n",
       "      <td>Марк</td>\n",
       "      <td>27</td>\n",
       "      <td>Тюмень</td>\n",
       "      <td>ultra</td>\n",
       "    </tr>\n",
       "    <tr>\n",
       "      <th>12</th>\n",
       "      <td>13</td>\n",
       "      <td>Ева</td>\n",
       "      <td>24</td>\n",
       "      <td>Краснодар</td>\n",
       "      <td>ultra</td>\n",
       "    </tr>\n",
       "    <tr>\n",
       "      <th>13</th>\n",
       "      <td>14</td>\n",
       "      <td>Антонина</td>\n",
       "      <td>18</td>\n",
       "      <td>Пятигорск</td>\n",
       "      <td>ultra</td>\n",
       "    </tr>\n",
       "    <tr>\n",
       "      <th>14</th>\n",
       "      <td>15</td>\n",
       "      <td>Валерия</td>\n",
       "      <td>24</td>\n",
       "      <td>Тюмень</td>\n",
       "      <td>ultra</td>\n",
       "    </tr>\n",
       "    <tr>\n",
       "      <th>15</th>\n",
       "      <td>16</td>\n",
       "      <td>Амалия</td>\n",
       "      <td>27</td>\n",
       "      <td>Краснодар</td>\n",
       "      <td>ultra</td>\n",
       "    </tr>\n",
       "    <tr>\n",
       "      <th>16</th>\n",
       "      <td>17</td>\n",
       "      <td>Даниил</td>\n",
       "      <td>29</td>\n",
       "      <td>Москва</td>\n",
       "      <td>ultra</td>\n",
       "    </tr>\n",
       "    <tr>\n",
       "      <th>17</th>\n",
       "      <td>18</td>\n",
       "      <td>Аделина</td>\n",
       "      <td>24</td>\n",
       "      <td>Сочи</td>\n",
       "      <td>ultra</td>\n",
       "    </tr>\n",
       "    <tr>\n",
       "      <th>18</th>\n",
       "      <td>19</td>\n",
       "      <td>Регина</td>\n",
       "      <td>32</td>\n",
       "      <td>Тюмень</td>\n",
       "      <td>ultra</td>\n",
       "    </tr>\n",
       "    <tr>\n",
       "      <th>19</th>\n",
       "      <td>20</td>\n",
       "      <td>Игорь</td>\n",
       "      <td>23</td>\n",
       "      <td>Омск</td>\n",
       "      <td>ultra</td>\n",
       "    </tr>\n",
       "  </tbody>\n",
       "</table>\n",
       "</div>"
      ],
      "text/plain": [
       "    user_id        name  age            city subscription_type\n",
       "0         1        Кира   22          Тюмень             ultra\n",
       "1         2   Станислав   31            Омск             ultra\n",
       "2         3     Алексей   20          Москва             ultra\n",
       "3         4  Константин   26  Ростов-на-Дону             ultra\n",
       "4         5       Адель   28            Омск             ultra\n",
       "5         6      Регина   25       Краснодар             ultra\n",
       "6         7       Игорь   23            Омск             ultra\n",
       "7         8        Юрий   23       Краснодар             ultra\n",
       "8         9          Ян   21       Пятигорск             ultra\n",
       "9        10     Валерий   18    Екатеринбург             ultra\n",
       "10       11       Агата   31       Краснодар             ultra\n",
       "11       12        Марк   27          Тюмень             ultra\n",
       "12       13         Ева   24       Краснодар             ultra\n",
       "13       14    Антонина   18       Пятигорск             ultra\n",
       "14       15     Валерия   24          Тюмень             ultra\n",
       "15       16      Амалия   27       Краснодар             ultra\n",
       "16       17      Даниил   29          Москва             ultra\n",
       "17       18     Аделина   24            Сочи             ultra\n",
       "18       19      Регина   32          Тюмень             ultra\n",
       "19       20       Игорь   23            Омск             ultra"
      ]
     },
     "execution_count": 3,
     "metadata": {},
     "output_type": "execute_result"
    }
   ],
   "source": [
    "users.head(20)"
   ]
  },
  {
   "cell_type": "markdown",
   "id": "bb02f8b9-365a-4321-aa12-a1290cff00c3",
   "metadata": {},
   "source": [
    "**Изучим общую информацию**"
   ]
  },
  {
   "cell_type": "code",
   "execution_count": 4,
   "id": "0efd5e03-67d3-4ff8-a4db-862b8ef26ae9",
   "metadata": {},
   "outputs": [
    {
     "name": "stdout",
     "output_type": "stream",
     "text": [
      "<class 'pandas.core.frame.DataFrame'>\n",
      "RangeIndex: 1565 entries, 0 to 1564\n",
      "Data columns (total 5 columns):\n",
      " #   Column             Non-Null Count  Dtype \n",
      "---  ------             --------------  ----- \n",
      " 0   user_id            1565 non-null   int64 \n",
      " 1   name               1565 non-null   object\n",
      " 2   age                1565 non-null   int64 \n",
      " 3   city               1565 non-null   object\n",
      " 4   subscription_type  1565 non-null   object\n",
      "dtypes: int64(2), object(3)\n",
      "memory usage: 61.3+ KB\n"
     ]
    }
   ],
   "source": [
    "users.info()"
   ]
  },
  {
   "cell_type": "markdown",
   "id": "59221d26-0412-43ba-9fe7-2ee7cc105804",
   "metadata": {},
   "source": [
    "**Выведем первые 20 строк таблицы с поездками**"
   ]
  },
  {
   "cell_type": "code",
   "execution_count": 5,
   "id": "2b325906-e2fc-4b63-b1cc-2064f1fc7364",
   "metadata": {},
   "outputs": [
    {
     "data": {
      "text/html": [
       "<div>\n",
       "<style scoped>\n",
       "    .dataframe tbody tr th:only-of-type {\n",
       "        vertical-align: middle;\n",
       "    }\n",
       "\n",
       "    .dataframe tbody tr th {\n",
       "        vertical-align: top;\n",
       "    }\n",
       "\n",
       "    .dataframe thead th {\n",
       "        text-align: right;\n",
       "    }\n",
       "</style>\n",
       "<table border=\"1\" class=\"dataframe\">\n",
       "  <thead>\n",
       "    <tr style=\"text-align: right;\">\n",
       "      <th></th>\n",
       "      <th>user_id</th>\n",
       "      <th>distance</th>\n",
       "      <th>duration</th>\n",
       "      <th>date</th>\n",
       "    </tr>\n",
       "  </thead>\n",
       "  <tbody>\n",
       "    <tr>\n",
       "      <th>0</th>\n",
       "      <td>1</td>\n",
       "      <td>4409.919140</td>\n",
       "      <td>25.599769</td>\n",
       "      <td>2021-01-01</td>\n",
       "    </tr>\n",
       "    <tr>\n",
       "      <th>1</th>\n",
       "      <td>1</td>\n",
       "      <td>2617.592153</td>\n",
       "      <td>15.816871</td>\n",
       "      <td>2021-01-18</td>\n",
       "    </tr>\n",
       "    <tr>\n",
       "      <th>2</th>\n",
       "      <td>1</td>\n",
       "      <td>754.159807</td>\n",
       "      <td>6.232113</td>\n",
       "      <td>2021-04-20</td>\n",
       "    </tr>\n",
       "    <tr>\n",
       "      <th>3</th>\n",
       "      <td>1</td>\n",
       "      <td>2694.783254</td>\n",
       "      <td>18.511000</td>\n",
       "      <td>2021-08-11</td>\n",
       "    </tr>\n",
       "    <tr>\n",
       "      <th>4</th>\n",
       "      <td>1</td>\n",
       "      <td>4028.687306</td>\n",
       "      <td>26.265803</td>\n",
       "      <td>2021-08-28</td>\n",
       "    </tr>\n",
       "    <tr>\n",
       "      <th>5</th>\n",
       "      <td>1</td>\n",
       "      <td>2770.890808</td>\n",
       "      <td>16.650138</td>\n",
       "      <td>2021-10-09</td>\n",
       "    </tr>\n",
       "    <tr>\n",
       "      <th>6</th>\n",
       "      <td>1</td>\n",
       "      <td>3039.020292</td>\n",
       "      <td>14.927879</td>\n",
       "      <td>2021-10-19</td>\n",
       "    </tr>\n",
       "    <tr>\n",
       "      <th>7</th>\n",
       "      <td>1</td>\n",
       "      <td>2842.118050</td>\n",
       "      <td>23.117468</td>\n",
       "      <td>2021-11-06</td>\n",
       "    </tr>\n",
       "    <tr>\n",
       "      <th>8</th>\n",
       "      <td>1</td>\n",
       "      <td>3412.690668</td>\n",
       "      <td>15.238072</td>\n",
       "      <td>2021-11-14</td>\n",
       "    </tr>\n",
       "    <tr>\n",
       "      <th>9</th>\n",
       "      <td>1</td>\n",
       "      <td>748.690645</td>\n",
       "      <td>15.041884</td>\n",
       "      <td>2021-11-22</td>\n",
       "    </tr>\n",
       "    <tr>\n",
       "      <th>10</th>\n",
       "      <td>1</td>\n",
       "      <td>4031.020195</td>\n",
       "      <td>17.674448</td>\n",
       "      <td>2021-12-14</td>\n",
       "    </tr>\n",
       "    <tr>\n",
       "      <th>11</th>\n",
       "      <td>1</td>\n",
       "      <td>2720.609748</td>\n",
       "      <td>9.529463</td>\n",
       "      <td>2021-12-22</td>\n",
       "    </tr>\n",
       "    <tr>\n",
       "      <th>12</th>\n",
       "      <td>2</td>\n",
       "      <td>3105.086678</td>\n",
       "      <td>24.307514</td>\n",
       "      <td>2021-03-15</td>\n",
       "    </tr>\n",
       "    <tr>\n",
       "      <th>13</th>\n",
       "      <td>2</td>\n",
       "      <td>3053.519401</td>\n",
       "      <td>11.543256</td>\n",
       "      <td>2021-03-18</td>\n",
       "    </tr>\n",
       "    <tr>\n",
       "      <th>14</th>\n",
       "      <td>2</td>\n",
       "      <td>4029.116927</td>\n",
       "      <td>25.109188</td>\n",
       "      <td>2021-03-23</td>\n",
       "    </tr>\n",
       "    <tr>\n",
       "      <th>15</th>\n",
       "      <td>2</td>\n",
       "      <td>2805.786329</td>\n",
       "      <td>20.652145</td>\n",
       "      <td>2021-04-08</td>\n",
       "    </tr>\n",
       "    <tr>\n",
       "      <th>16</th>\n",
       "      <td>2</td>\n",
       "      <td>3358.595495</td>\n",
       "      <td>18.396489</td>\n",
       "      <td>2021-04-13</td>\n",
       "    </tr>\n",
       "    <tr>\n",
       "      <th>17</th>\n",
       "      <td>2</td>\n",
       "      <td>3255.338202</td>\n",
       "      <td>13.851127</td>\n",
       "      <td>2021-06-20</td>\n",
       "    </tr>\n",
       "    <tr>\n",
       "      <th>18</th>\n",
       "      <td>2</td>\n",
       "      <td>3942.817648</td>\n",
       "      <td>20.142725</td>\n",
       "      <td>2021-07-02</td>\n",
       "    </tr>\n",
       "    <tr>\n",
       "      <th>19</th>\n",
       "      <td>2</td>\n",
       "      <td>2837.905316</td>\n",
       "      <td>26.027432</td>\n",
       "      <td>2021-07-18</td>\n",
       "    </tr>\n",
       "  </tbody>\n",
       "</table>\n",
       "</div>"
      ],
      "text/plain": [
       "    user_id     distance   duration        date\n",
       "0         1  4409.919140  25.599769  2021-01-01\n",
       "1         1  2617.592153  15.816871  2021-01-18\n",
       "2         1   754.159807   6.232113  2021-04-20\n",
       "3         1  2694.783254  18.511000  2021-08-11\n",
       "4         1  4028.687306  26.265803  2021-08-28\n",
       "5         1  2770.890808  16.650138  2021-10-09\n",
       "6         1  3039.020292  14.927879  2021-10-19\n",
       "7         1  2842.118050  23.117468  2021-11-06\n",
       "8         1  3412.690668  15.238072  2021-11-14\n",
       "9         1   748.690645  15.041884  2021-11-22\n",
       "10        1  4031.020195  17.674448  2021-12-14\n",
       "11        1  2720.609748   9.529463  2021-12-22\n",
       "12        2  3105.086678  24.307514  2021-03-15\n",
       "13        2  3053.519401  11.543256  2021-03-18\n",
       "14        2  4029.116927  25.109188  2021-03-23\n",
       "15        2  2805.786329  20.652145  2021-04-08\n",
       "16        2  3358.595495  18.396489  2021-04-13\n",
       "17        2  3255.338202  13.851127  2021-06-20\n",
       "18        2  3942.817648  20.142725  2021-07-02\n",
       "19        2  2837.905316  26.027432  2021-07-18"
      ]
     },
     "execution_count": 5,
     "metadata": {},
     "output_type": "execute_result"
    }
   ],
   "source": [
    "rides.head(20)"
   ]
  },
  {
   "cell_type": "markdown",
   "id": "5d974318-b67a-4769-9152-8e859d992052",
   "metadata": {},
   "source": [
    "**Изучим общую информацию**"
   ]
  },
  {
   "cell_type": "code",
   "execution_count": 6,
   "id": "9251e612-4757-403f-8f18-052a63f9708e",
   "metadata": {
    "scrolled": true
   },
   "outputs": [
    {
     "name": "stdout",
     "output_type": "stream",
     "text": [
      "<class 'pandas.core.frame.DataFrame'>\n",
      "RangeIndex: 18068 entries, 0 to 18067\n",
      "Data columns (total 4 columns):\n",
      " #   Column    Non-Null Count  Dtype  \n",
      "---  ------    --------------  -----  \n",
      " 0   user_id   18068 non-null  int64  \n",
      " 1   distance  18068 non-null  float64\n",
      " 2   duration  18068 non-null  float64\n",
      " 3   date      18068 non-null  object \n",
      "dtypes: float64(2), int64(1), object(1)\n",
      "memory usage: 564.8+ KB\n"
     ]
    }
   ],
   "source": [
    "rides.info()"
   ]
  },
  {
   "cell_type": "markdown",
   "id": "4279617c-f0ec-4475-b4bc-290d6c7de412",
   "metadata": {},
   "source": [
    "**Выведем таблицу с подписками**"
   ]
  },
  {
   "cell_type": "code",
   "execution_count": 7,
   "id": "d50a4d78-cd1a-4667-85ae-13c5a2e1778f",
   "metadata": {},
   "outputs": [
    {
     "data": {
      "text/html": [
       "<div>\n",
       "<style scoped>\n",
       "    .dataframe tbody tr th:only-of-type {\n",
       "        vertical-align: middle;\n",
       "    }\n",
       "\n",
       "    .dataframe tbody tr th {\n",
       "        vertical-align: top;\n",
       "    }\n",
       "\n",
       "    .dataframe thead th {\n",
       "        text-align: right;\n",
       "    }\n",
       "</style>\n",
       "<table border=\"1\" class=\"dataframe\">\n",
       "  <thead>\n",
       "    <tr style=\"text-align: right;\">\n",
       "      <th></th>\n",
       "      <th>subscription_type</th>\n",
       "      <th>minute_price</th>\n",
       "      <th>start_ride_price</th>\n",
       "      <th>subscription_fee</th>\n",
       "    </tr>\n",
       "  </thead>\n",
       "  <tbody>\n",
       "    <tr>\n",
       "      <th>0</th>\n",
       "      <td>free</td>\n",
       "      <td>8</td>\n",
       "      <td>50</td>\n",
       "      <td>0</td>\n",
       "    </tr>\n",
       "    <tr>\n",
       "      <th>1</th>\n",
       "      <td>ultra</td>\n",
       "      <td>6</td>\n",
       "      <td>0</td>\n",
       "      <td>199</td>\n",
       "    </tr>\n",
       "  </tbody>\n",
       "</table>\n",
       "</div>"
      ],
      "text/plain": [
       "  subscription_type  minute_price  start_ride_price  subscription_fee\n",
       "0              free             8                50                 0\n",
       "1             ultra             6                 0               199"
      ]
     },
     "execution_count": 7,
     "metadata": {},
     "output_type": "execute_result"
    }
   ],
   "source": [
    "subscriptions"
   ]
  },
  {
   "cell_type": "markdown",
   "id": "1ce2e245-1d40-4f6f-9d42-33a6a01b5a1a",
   "metadata": {},
   "source": [
    "**Изучим общую информацию**"
   ]
  },
  {
   "cell_type": "code",
   "execution_count": 8,
   "id": "958cfb86-1c55-47db-8238-ba4cac441f0d",
   "metadata": {},
   "outputs": [
    {
     "name": "stdout",
     "output_type": "stream",
     "text": [
      "<class 'pandas.core.frame.DataFrame'>\n",
      "RangeIndex: 2 entries, 0 to 1\n",
      "Data columns (total 4 columns):\n",
      " #   Column             Non-Null Count  Dtype \n",
      "---  ------             --------------  ----- \n",
      " 0   subscription_type  2 non-null      object\n",
      " 1   minute_price       2 non-null      int64 \n",
      " 2   start_ride_price   2 non-null      int64 \n",
      " 3   subscription_fee   2 non-null      int64 \n",
      "dtypes: int64(3), object(1)\n",
      "memory usage: 192.0+ bytes\n"
     ]
    }
   ],
   "source": [
    "subscriptions.info()"
   ]
  },
  {
   "cell_type": "markdown",
   "id": "e71e41b4-05a3-4dd1-b8e5-1c294462f4d0",
   "metadata": {},
   "source": [
    "**Вывод:**  \n",
    "\n",
    "На первом шаге были считаны CSV-файлы с данными с помощью библиотеки pandas и сохранены в датафреймы:  \n",
    "\n",
    "    - Пользователи - users;\n",
    "    - Поездки - rides;\n",
    "    - Подписки - subscriptions.  \n",
    "    \n",
    "При первичном осмотре данных, было выявлено следующее:  \n",
    "\n",
    "    1. Cтолбец `date` в таблице `rides` имеет тип данных `object`. Необходимо преобразовать в тип дата. \n",
    "    2. Пропуски в данных, по полученной информации, с помощью метода `info()`, не обнаружены."
   ]
  },
  {
   "cell_type": "markdown",
   "id": "e95ebca7",
   "metadata": {},
   "source": [
    "#### Шаг 2. Предобработка данных"
   ]
  },
  {
   "cell_type": "markdown",
   "id": "91106cf0-8a09-43a9-9ebf-3e2c628126cd",
   "metadata": {},
   "source": [
    "**2.1 В таблице `rides` столбец `date` имеет тип данных object. Преобразуем тип в столбце в тип дата.**"
   ]
  },
  {
   "cell_type": "code",
   "execution_count": 9,
   "id": "af6d202c",
   "metadata": {
    "scrolled": true
   },
   "outputs": [
    {
     "data": {
      "text/html": [
       "<div>\n",
       "<style scoped>\n",
       "    .dataframe tbody tr th:only-of-type {\n",
       "        vertical-align: middle;\n",
       "    }\n",
       "\n",
       "    .dataframe tbody tr th {\n",
       "        vertical-align: top;\n",
       "    }\n",
       "\n",
       "    .dataframe thead th {\n",
       "        text-align: right;\n",
       "    }\n",
       "</style>\n",
       "<table border=\"1\" class=\"dataframe\">\n",
       "  <thead>\n",
       "    <tr style=\"text-align: right;\">\n",
       "      <th></th>\n",
       "      <th>user_id</th>\n",
       "      <th>distance</th>\n",
       "      <th>duration</th>\n",
       "      <th>date</th>\n",
       "    </tr>\n",
       "  </thead>\n",
       "  <tbody>\n",
       "    <tr>\n",
       "      <th>0</th>\n",
       "      <td>1</td>\n",
       "      <td>4409.919140</td>\n",
       "      <td>25.599769</td>\n",
       "      <td>2021-01-01</td>\n",
       "    </tr>\n",
       "    <tr>\n",
       "      <th>1</th>\n",
       "      <td>1</td>\n",
       "      <td>2617.592153</td>\n",
       "      <td>15.816871</td>\n",
       "      <td>2021-01-18</td>\n",
       "    </tr>\n",
       "    <tr>\n",
       "      <th>2</th>\n",
       "      <td>1</td>\n",
       "      <td>754.159807</td>\n",
       "      <td>6.232113</td>\n",
       "      <td>2021-04-20</td>\n",
       "    </tr>\n",
       "    <tr>\n",
       "      <th>3</th>\n",
       "      <td>1</td>\n",
       "      <td>2694.783254</td>\n",
       "      <td>18.511000</td>\n",
       "      <td>2021-08-11</td>\n",
       "    </tr>\n",
       "    <tr>\n",
       "      <th>4</th>\n",
       "      <td>1</td>\n",
       "      <td>4028.687306</td>\n",
       "      <td>26.265803</td>\n",
       "      <td>2021-08-28</td>\n",
       "    </tr>\n",
       "  </tbody>\n",
       "</table>\n",
       "</div>"
      ],
      "text/plain": [
       "   user_id     distance   duration       date\n",
       "0        1  4409.919140  25.599769 2021-01-01\n",
       "1        1  2617.592153  15.816871 2021-01-18\n",
       "2        1   754.159807   6.232113 2021-04-20\n",
       "3        1  2694.783254  18.511000 2021-08-11\n",
       "4        1  4028.687306  26.265803 2021-08-28"
      ]
     },
     "execution_count": 9,
     "metadata": {},
     "output_type": "execute_result"
    }
   ],
   "source": [
    "# Пример даты 2021-01-01\n",
    "rides['date'] =  pd.to_datetime(rides['date'], format='%Y-%m-%d')\n",
    "# Выведем первые пять строк датафрейма\n",
    "rides.head()"
   ]
  },
  {
   "cell_type": "markdown",
   "id": "081b3507-54ea-4b2e-993c-deb677d5352d",
   "metadata": {},
   "source": [
    "**Проверим, изменился ли тип в столбце `date`**"
   ]
  },
  {
   "cell_type": "code",
   "execution_count": 10,
   "id": "60153bc9-11b2-44cd-9c2c-90912d9798e0",
   "metadata": {},
   "outputs": [
    {
     "name": "stdout",
     "output_type": "stream",
     "text": [
      "<class 'pandas.core.frame.DataFrame'>\n",
      "RangeIndex: 18068 entries, 0 to 18067\n",
      "Data columns (total 4 columns):\n",
      " #   Column    Non-Null Count  Dtype         \n",
      "---  ------    --------------  -----         \n",
      " 0   user_id   18068 non-null  int64         \n",
      " 1   distance  18068 non-null  float64       \n",
      " 2   duration  18068 non-null  float64       \n",
      " 3   date      18068 non-null  datetime64[ns]\n",
      "dtypes: datetime64[ns](1), float64(2), int64(1)\n",
      "memory usage: 564.8 KB\n"
     ]
    }
   ],
   "source": [
    "rides.info()"
   ]
  },
  {
   "cell_type": "markdown",
   "id": "938c2ca6-d76d-4be2-8eae-82d4c92785a3",
   "metadata": {},
   "source": [
    "**2.2 Создадим новый столбец с номером месяца на основе столбца date.**"
   ]
  },
  {
   "cell_type": "code",
   "execution_count": 11,
   "id": "b4e016ff-c6dd-4571-8931-6334aba3acae",
   "metadata": {
    "scrolled": true
   },
   "outputs": [
    {
     "data": {
      "text/html": [
       "<div>\n",
       "<style scoped>\n",
       "    .dataframe tbody tr th:only-of-type {\n",
       "        vertical-align: middle;\n",
       "    }\n",
       "\n",
       "    .dataframe tbody tr th {\n",
       "        vertical-align: top;\n",
       "    }\n",
       "\n",
       "    .dataframe thead th {\n",
       "        text-align: right;\n",
       "    }\n",
       "</style>\n",
       "<table border=\"1\" class=\"dataframe\">\n",
       "  <thead>\n",
       "    <tr style=\"text-align: right;\">\n",
       "      <th></th>\n",
       "      <th>user_id</th>\n",
       "      <th>distance</th>\n",
       "      <th>duration</th>\n",
       "      <th>date</th>\n",
       "      <th>month</th>\n",
       "    </tr>\n",
       "  </thead>\n",
       "  <tbody>\n",
       "    <tr>\n",
       "      <th>0</th>\n",
       "      <td>1</td>\n",
       "      <td>4409.919140</td>\n",
       "      <td>25.599769</td>\n",
       "      <td>2021-01-01</td>\n",
       "      <td>1</td>\n",
       "    </tr>\n",
       "    <tr>\n",
       "      <th>1</th>\n",
       "      <td>1</td>\n",
       "      <td>2617.592153</td>\n",
       "      <td>15.816871</td>\n",
       "      <td>2021-01-18</td>\n",
       "      <td>1</td>\n",
       "    </tr>\n",
       "    <tr>\n",
       "      <th>2</th>\n",
       "      <td>1</td>\n",
       "      <td>754.159807</td>\n",
       "      <td>6.232113</td>\n",
       "      <td>2021-04-20</td>\n",
       "      <td>4</td>\n",
       "    </tr>\n",
       "    <tr>\n",
       "      <th>3</th>\n",
       "      <td>1</td>\n",
       "      <td>2694.783254</td>\n",
       "      <td>18.511000</td>\n",
       "      <td>2021-08-11</td>\n",
       "      <td>8</td>\n",
       "    </tr>\n",
       "    <tr>\n",
       "      <th>4</th>\n",
       "      <td>1</td>\n",
       "      <td>4028.687306</td>\n",
       "      <td>26.265803</td>\n",
       "      <td>2021-08-28</td>\n",
       "      <td>8</td>\n",
       "    </tr>\n",
       "  </tbody>\n",
       "</table>\n",
       "</div>"
      ],
      "text/plain": [
       "   user_id     distance   duration       date  month\n",
       "0        1  4409.919140  25.599769 2021-01-01      1\n",
       "1        1  2617.592153  15.816871 2021-01-18      1\n",
       "2        1   754.159807   6.232113 2021-04-20      4\n",
       "3        1  2694.783254  18.511000 2021-08-11      8\n",
       "4        1  4028.687306  26.265803 2021-08-28      8"
      ]
     },
     "execution_count": 11,
     "metadata": {},
     "output_type": "execute_result"
    }
   ],
   "source": [
    "rides['month'] = rides['date'].dt.month\n",
    "rides.head()"
   ]
  },
  {
   "cell_type": "markdown",
   "id": "be4e0cba-7d38-42b1-940c-a2cb159581c6",
   "metadata": {},
   "source": [
    "**Посмотрим за какой период имеются данные**"
   ]
  },
  {
   "cell_type": "code",
   "execution_count": 12,
   "id": "83a59d30-1eb2-49de-b08b-552f14166044",
   "metadata": {},
   "outputs": [
    {
     "data": {
      "text/plain": [
       "(Timestamp('2021-01-01 00:00:00'), Timestamp('2021-12-30 00:00:00'))"
      ]
     },
     "execution_count": 12,
     "metadata": {},
     "output_type": "execute_result"
    }
   ],
   "source": [
    "rides['date'].min(), rides['date'].max()"
   ]
  },
  {
   "cell_type": "markdown",
   "id": "883ae8e9-0b44-4825-b821-8125092ec2b0",
   "metadata": {},
   "source": [
    "*Период, за который берутся данные, составляет 12 месяцев в 2021 году.*"
   ]
  },
  {
   "cell_type": "markdown",
   "id": "39a9dad6-7c15-4ed1-afe4-1c14ff573f77",
   "metadata": {},
   "source": [
    "**2.3 Проверим наличие пропущенных значений и дубликатов в датафреймах**"
   ]
  },
  {
   "cell_type": "markdown",
   "id": "b32e0cba-13a0-4ea2-92e2-726fea8df507",
   "metadata": {},
   "source": [
    "**Проверим количество пропущенных значений для каждого датафрейма**"
   ]
  },
  {
   "cell_type": "code",
   "execution_count": 13,
   "id": "0aaea633-5231-4bf2-aabb-95805f221ac8",
   "metadata": {},
   "outputs": [
    {
     "data": {
      "text/plain": [
       "user_id              0\n",
       "name                 0\n",
       "age                  0\n",
       "city                 0\n",
       "subscription_type    0\n",
       "dtype: int64"
      ]
     },
     "execution_count": 13,
     "metadata": {},
     "output_type": "execute_result"
    }
   ],
   "source": [
    "#Выведим количество пропущенных значений для каждого столбца в таблице с пользователями\n",
    "users.isna().sum()"
   ]
  },
  {
   "cell_type": "code",
   "execution_count": 14,
   "id": "8bd63141-dfb0-42d6-b8a0-96eae69dab8b",
   "metadata": {},
   "outputs": [
    {
     "data": {
      "text/plain": [
       "array(['Тюмень', 'Омск', 'Москва', 'Ростов-на-Дону', 'Краснодар',\n",
       "       'Пятигорск', 'Екатеринбург', 'Сочи'], dtype=object)"
      ]
     },
     "execution_count": 14,
     "metadata": {},
     "output_type": "execute_result"
    }
   ],
   "source": [
    "#Выведим уникальные значения столбца `city` в таблице users\n",
    "users['city'].unique()"
   ]
  },
  {
   "cell_type": "code",
   "execution_count": 15,
   "id": "f4e1da7b-6486-4319-82ee-308ea0bb4fd9",
   "metadata": {},
   "outputs": [
    {
     "data": {
      "text/plain": [
       "user_id     0\n",
       "distance    0\n",
       "duration    0\n",
       "date        0\n",
       "month       0\n",
       "dtype: int64"
      ]
     },
     "execution_count": 15,
     "metadata": {},
     "output_type": "execute_result"
    }
   ],
   "source": [
    "#Выведим количество пропущенных значений для каждого столбца в таблице с поездками\n",
    "rides.isna().sum()"
   ]
  },
  {
   "cell_type": "code",
   "execution_count": 16,
   "id": "0c70fdc1-81f2-451a-bc77-daf17797bcff",
   "metadata": {},
   "outputs": [
    {
     "data": {
      "text/plain": [
       "subscription_type    0\n",
       "minute_price         0\n",
       "start_ride_price     0\n",
       "subscription_fee     0\n",
       "dtype: int64"
      ]
     },
     "execution_count": 16,
     "metadata": {},
     "output_type": "execute_result"
    }
   ],
   "source": [
    "#Выведим количество пропущенных значений для каждого столбца в таблице с подписками\n",
    "subscriptions.isna().sum()"
   ]
  },
  {
   "cell_type": "markdown",
   "id": "9b606fc8-2fa7-4258-a0ca-df97cc0f5f66",
   "metadata": {},
   "source": [
    "**В результате проверки пропущенных значений методом `isna` и `sum`, выявлено, что пропущенных значений в данных нет. Идем дальше. Посмотрим есть ли дубликаты в данных.**"
   ]
  },
  {
   "cell_type": "markdown",
   "id": "fcef7f9a-2d5d-4f10-a505-547a388f5a8d",
   "metadata": {},
   "source": [
    "**Найдем общее количество строк дубликатов в самом датафрейме**"
   ]
  },
  {
   "cell_type": "code",
   "execution_count": 17,
   "id": "ed94b8ec-49e6-4958-ace3-f85163873c13",
   "metadata": {},
   "outputs": [
    {
     "data": {
      "text/plain": [
       "0"
      ]
     },
     "execution_count": 17,
     "metadata": {},
     "output_type": "execute_result"
    }
   ],
   "source": [
    "#Общее количество строк дубликатов в таблице с поездками\n",
    "rides.duplicated().sum()"
   ]
  },
  {
   "cell_type": "code",
   "execution_count": 18,
   "id": "7a690ee0-e7c3-475e-9fad-8d9e085a7a02",
   "metadata": {},
   "outputs": [
    {
     "data": {
      "text/plain": [
       "31"
      ]
     },
     "execution_count": 18,
     "metadata": {},
     "output_type": "execute_result"
    }
   ],
   "source": [
    "#Общее количество строк дубликатов в таблице с пользователями\n",
    "users.duplicated().sum()"
   ]
  },
  {
   "cell_type": "code",
   "execution_count": 19,
   "id": "15bfac1e-1133-4866-9627-bcf64cec20a5",
   "metadata": {},
   "outputs": [
    {
     "data": {
      "text/plain": [
       "array(['ultra', 'free'], dtype=object)"
      ]
     },
     "execution_count": 19,
     "metadata": {},
     "output_type": "execute_result"
    }
   ],
   "source": [
    "#Выведим уникальные значения столбца `subscription` в таблице users\n",
    "users['subscription_type'].unique()"
   ]
  },
  {
   "cell_type": "code",
   "execution_count": 20,
   "id": "bc27eb19-b277-4c89-a329-936691c0a550",
   "metadata": {},
   "outputs": [
    {
     "data": {
      "text/plain": [
       "0"
      ]
     },
     "execution_count": 20,
     "metadata": {},
     "output_type": "execute_result"
    }
   ],
   "source": [
    "#Общее количество строк дубликатов в таблице с подписками\n",
    "subscriptions.duplicated().sum()"
   ]
  },
  {
   "cell_type": "markdown",
   "id": "6b9c0125-29d8-4f44-8986-21ad91783452",
   "metadata": {},
   "source": [
    "**Удалим дублирующие строки из таблицы `users` и обновим индексы таблицы**"
   ]
  },
  {
   "cell_type": "code",
   "execution_count": 21,
   "id": "d6636182-5ed0-41d1-accf-20e18a619f49",
   "metadata": {},
   "outputs": [
    {
     "data": {
      "text/plain": [
       "0"
      ]
     },
     "execution_count": 21,
     "metadata": {},
     "output_type": "execute_result"
    }
   ],
   "source": [
    "users = users.drop_duplicates().reset_index(drop=True)\n",
    "#Проверим удалились ли все дубликаты строк\n",
    "users.duplicated().sum()"
   ]
  },
  {
   "cell_type": "markdown",
   "id": "4d082e62-2d02-4d7f-a3bd-51b19e29c98e",
   "metadata": {},
   "source": [
    "**Вывод:**  \n",
    "В ходе предобработки данных выполнены следующие операции:  \n",
    "    1. Проверены столбцы таблиц на наличие пропущенных значений. Пропуски не обнаружены.  \n",
    "    2. Проведен поиск дубликатов. Дубликаты строк найдены только в таблице users и удалены.  \n",
    "    3. В таблице `rides` столбец `date` преобразован в тип дата.\n",
    "    4. Проверен период, за который берутся данные. Он составляет 12 месяцев в 2021 году."
   ]
  },
  {
   "cell_type": "markdown",
   "id": "212593c7",
   "metadata": {},
   "source": [
    "#### Шаг 3. Исследовательский анализ данных"
   ]
  },
  {
   "cell_type": "markdown",
   "id": "c60641d4-8880-406a-a68b-df68a0c0293e",
   "metadata": {},
   "source": [
    "**3.1 Визуализируем частоту встречаемости городов из таблицы `users`**"
   ]
  },
  {
   "cell_type": "markdown",
   "id": "ea68a560-e9e8-402d-8595-8737d227a374",
   "metadata": {},
   "source": [
    "**Создадим таблицу с групированными значениями по городам. Также посчитаем их количество в таблице users**"
   ]
  },
  {
   "cell_type": "code",
   "execution_count": 22,
   "id": "68f59a34-5712-4f7d-a85d-c4936682cf0d",
   "metadata": {},
   "outputs": [
    {
     "data": {
      "text/plain": [
       "Пятигорск         219\n",
       "Екатеринбург      204\n",
       "Ростов-на-Дону    198\n",
       "Краснодар         193\n",
       "Сочи              189\n",
       "Омск              183\n",
       "Тюмень            180\n",
       "Москва            168\n",
       "Name: city, dtype: int64"
      ]
     },
     "execution_count": 22,
     "metadata": {},
     "output_type": "execute_result"
    }
   ],
   "source": [
    "users_cities = users['city'].value_counts()\n",
    "users_cities"
   ]
  },
  {
   "cell_type": "markdown",
   "id": "a3ba966b-2e19-4f29-ad83-f254167e1e9d",
   "metadata": {},
   "source": [
    "**Построим столбчатую диаграмму**"
   ]
  },
  {
   "cell_type": "code",
   "execution_count": 23,
   "id": "039bb27a-9ed8-4033-ba22-ae151e8f4348",
   "metadata": {},
   "outputs": [
    {
     "data": {
      "image/png": "[encoded data removed]",
      "text/plain": [
       "<Figure size 720x432 with 1 Axes>"
      ]
     },
     "metadata": {
      "needs_background": "light"
     },
     "output_type": "display_data"
    }
   ],
   "source": [
    "# Построение столбчатой диаграммы\n",
    "ax = users_cities.plot(kind='barh', title='Частота встречаемости городов', figsize=(10, 6));\n",
    "ax.set_xlabel('Количество пользователей')\n",
    "ax.set_ylabel('Города')\n",
    "# Добавление количества над каждым столбцом\n",
    "for p in ax.patches:\n",
    "    ax.annotate(str(p.get_width()), (p.get_width() * 1.01, p.get_y() + p.get_height() / 2))\n",
    "plt.show()"
   ]
  },
  {
   "cell_type": "markdown",
   "id": "6c879716-ecd8-4d2a-8dee-3380267f8008",
   "metadata": {},
   "source": [
    "**Исследуем соотношение пользователей с подпиской и без**"
   ]
  },
  {
   "cell_type": "code",
   "execution_count": 24,
   "id": "c00286c3-3c24-47c8-be44-1e3233e28d93",
   "metadata": {},
   "outputs": [
    {
     "data": {
      "text/plain": [
       "free     835\n",
       "ultra    699\n",
       "Name: subscription_type, dtype: int64"
      ]
     },
     "execution_count": 24,
     "metadata": {},
     "output_type": "execute_result"
    }
   ],
   "source": [
    "users_grouped_by_subscription = users['subscription_type'].value_counts()\n",
    "users_grouped_by_subscription"
   ]
  },
  {
   "cell_type": "markdown",
   "id": "9b124d8f-fd3a-4381-8135-c0582c4a8543",
   "metadata": {},
   "source": [
    "**Визуализируем соотношение пользователей по типу подписки**"
   ]
  },
  {
   "cell_type": "code",
   "execution_count": 25,
   "id": "6c921b8e-7044-4e89-b44a-0858c38afc50",
   "metadata": {},
   "outputs": [
    {
     "data": {
      "image/png": "[encoded data removed]",
      "text/plain": [
       "<Figure size 432x288 with 1 Axes>"
      ]
     },
     "metadata": {},
     "output_type": "display_data"
    }
   ],
   "source": [
    "users_grouped_by_subscription.plot(kind='pie', \n",
    "                                   autopct='%1.2f%%', \n",
    "                                   startangle=90, \n",
    "                                   ylabel='',\n",
    "                                   wedgeprops = { 'linewidth' : 2, 'edgecolor' : 'white' },\n",
    "                                   title='Соотношение пользователей по типу подписки'\n",
    "                                  );"
   ]
  },
  {
   "cell_type": "markdown",
   "id": "27679a41-d45c-43cc-9e04-3f350ffdd3cd",
   "metadata": {},
   "source": [
    "**Исследуем возраст пользователей**"
   ]
  },
  {
   "cell_type": "code",
   "execution_count": 26,
   "id": "016de26d-917c-4a14-a737-41bbad2fd5d9",
   "metadata": {},
   "outputs": [
    {
     "data": {
      "text/plain": [
       "12      4\n",
       "13      8\n",
       "14      9\n",
       "15     13\n",
       "16     19\n",
       "17     26\n",
       "18     46\n",
       "19     47\n",
       "20     71\n",
       "21     93\n",
       "22    119\n",
       "23    129\n",
       "24    132\n",
       "25    145\n",
       "26    131\n",
       "27    119\n",
       "28    112\n",
       "29     68\n",
       "30     68\n",
       "31     48\n",
       "32     41\n",
       "33     39\n",
       "34     19\n",
       "35     15\n",
       "36      6\n",
       "37      2\n",
       "38      3\n",
       "39      1\n",
       "43      1\n",
       "Name: age, dtype: int64"
      ]
     },
     "execution_count": 26,
     "metadata": {},
     "output_type": "execute_result"
    }
   ],
   "source": [
    "users['age'].value_counts().sort_index()"
   ]
  },
  {
   "cell_type": "code",
   "execution_count": 27,
   "id": "aef23a26-9f66-4cc4-97ec-3da97008179e",
   "metadata": {},
   "outputs": [
    {
     "data": {
      "text/plain": [
       "count    1534.000000\n",
       "mean       24.903520\n",
       "std         4.572367\n",
       "min        12.000000\n",
       "25%        22.000000\n",
       "50%        25.000000\n",
       "75%        28.000000\n",
       "max        43.000000\n",
       "Name: age, dtype: float64"
      ]
     },
     "execution_count": 27,
     "metadata": {},
     "output_type": "execute_result"
    }
   ],
   "source": [
    "users['age'].describe()"
   ]
  },
  {
   "cell_type": "code",
   "execution_count": 28,
   "id": "a73eb022-51d1-4e2b-8d50-ef7b6192e132",
   "metadata": {},
   "outputs": [
    {
     "data": {
      "image/png": "[encoded data removed]",
      "text/plain": [
       "<Figure size 432x288 with 1 Axes>"
      ]
     },
     "metadata": {
      "needs_background": "light"
     },
     "output_type": "display_data"
    }
   ],
   "source": [
    "users['age'].plot(kind='hist', bins=30, title='Распределение возраста пользователей', edgecolor='black', xlabel='Возраст пользователей');\n",
    "plt.xlabel('Возраст пользователей')\n",
    "plt.ylabel('Частота')\n",
    "plt.show()"
   ]
  },
  {
   "cell_type": "markdown",
   "id": "222c9f6e-4860-4760-9985-12f71379d9ea",
   "metadata": {},
   "source": [
    "**Исследуем расстояние, которое пользователь преодолел за одну поездку**"
   ]
  },
  {
   "cell_type": "code",
   "execution_count": 29,
   "id": "ecc2955f-96dd-47fc-afaf-0dd32b4e00cb",
   "metadata": {},
   "outputs": [
    {
     "data": {
      "text/plain": [
       "count    18068.000000\n",
       "mean      3070.659976\n",
       "std       1116.831209\n",
       "min          0.855683\n",
       "25%       2543.226360\n",
       "50%       3133.609994\n",
       "75%       3776.222735\n",
       "max       7211.007745\n",
       "Name: distance, dtype: float64"
      ]
     },
     "execution_count": 29,
     "metadata": {},
     "output_type": "execute_result"
    }
   ],
   "source": [
    "rides['distance'].describe()"
   ]
  },
  {
   "cell_type": "code",
   "execution_count": 30,
   "id": "a0e821ce-70c6-431c-b4c0-976b49879c68",
   "metadata": {},
   "outputs": [
    {
     "data": {
      "image/png": "[encoded data removed]",
      "text/plain": [
       "<Figure size 432x288 with 1 Axes>"
      ]
     },
     "metadata": {
      "needs_background": "light"
     },
     "output_type": "display_data"
    }
   ],
   "source": [
    "rides['distance'].plot(kind='hist',\n",
    "                      title='Распределение расстоянии поездок',\n",
    "                      bins=200\n",
    "                      );\n",
    "plt.xlabel('Расстояние')\n",
    "plt.ylabel('Частота')\n",
    "plt.show()"
   ]
  },
  {
   "cell_type": "markdown",
   "id": "99c494b0-966a-40b8-a6b7-ac03a219bf2c",
   "metadata": {},
   "source": [
    "**Исследуем продолжительность, которую пользователь преодолел за одну поездку**"
   ]
  },
  {
   "cell_type": "code",
   "execution_count": 31,
   "id": "80b5afff-a6f5-4c6d-a420-896bb529eb05",
   "metadata": {},
   "outputs": [
    {
     "data": {
      "text/plain": [
       "count    18068.000000\n",
       "mean        17.805011\n",
       "std          6.091051\n",
       "min          0.500000\n",
       "25%         13.597563\n",
       "50%         17.678395\n",
       "75%         21.724800\n",
       "max         40.823963\n",
       "Name: duration, dtype: float64"
      ]
     },
     "execution_count": 31,
     "metadata": {},
     "output_type": "execute_result"
    }
   ],
   "source": [
    "rides['duration'].describe()"
   ]
  },
  {
   "cell_type": "code",
   "execution_count": 32,
   "id": "64c41ddf-4984-4189-8a35-3d9a4d3b5078",
   "metadata": {},
   "outputs": [
    {
     "data": {
      "image/png": "[encoded data removed]",
      "text/plain": [
       "<Figure size 432x288 with 1 Axes>"
      ]
     },
     "metadata": {
      "needs_background": "light"
     },
     "output_type": "display_data"
    }
   ],
   "source": [
    "rides['duration'].plot(kind='hist',\n",
    "                      title='Распределение продолжительности поездок',\n",
    "                      bins=200\n",
    "                      );\n",
    "plt.xlabel('Продолжительность')\n",
    "plt.ylabel('Частота')\n",
    "plt.show()"
   ]
  },
  {
   "cell_type": "markdown",
   "id": "499912f8-c104-4c29-b1f7-c8521e984848",
   "metadata": {},
   "source": [
    "**По гистаграммам продолжительности сессии и расстоянии, видно, что есть очень маленькие значения. Рассортируем таблицу `rides` по столбцу `duration` и посмотрим, какое расстояние, значения в столбце `distance`, проезжали пользователи за короткие промежутки времени**"
   ]
  },
  {
   "cell_type": "code",
   "execution_count": 33,
   "id": "9ee3d6fb-5dba-470d-9130-bb0ab6eb57e0",
   "metadata": {},
   "outputs": [
    {
     "data": {
      "text/html": [
       "<div>\n",
       "<style scoped>\n",
       "    .dataframe tbody tr th:only-of-type {\n",
       "        vertical-align: middle;\n",
       "    }\n",
       "\n",
       "    .dataframe tbody tr th {\n",
       "        vertical-align: top;\n",
       "    }\n",
       "\n",
       "    .dataframe thead th {\n",
       "        text-align: right;\n",
       "    }\n",
       "</style>\n",
       "<table border=\"1\" class=\"dataframe\">\n",
       "  <thead>\n",
       "    <tr style=\"text-align: right;\">\n",
       "      <th></th>\n",
       "      <th>user_id</th>\n",
       "      <th>distance</th>\n",
       "      <th>duration</th>\n",
       "      <th>date</th>\n",
       "      <th>month</th>\n",
       "    </tr>\n",
       "  </thead>\n",
       "  <tbody>\n",
       "    <tr>\n",
       "      <th>12013</th>\n",
       "      <td>1102</td>\n",
       "      <td>4602.122401</td>\n",
       "      <td>0.5</td>\n",
       "      <td>2021-08-01</td>\n",
       "      <td>8</td>\n",
       "    </tr>\n",
       "    <tr>\n",
       "      <th>17314</th>\n",
       "      <td>1483</td>\n",
       "      <td>4445.481070</td>\n",
       "      <td>0.5</td>\n",
       "      <td>2021-03-06</td>\n",
       "      <td>3</td>\n",
       "    </tr>\n",
       "    <tr>\n",
       "      <th>15029</th>\n",
       "      <td>1318</td>\n",
       "      <td>5894.633314</td>\n",
       "      <td>0.5</td>\n",
       "      <td>2021-03-28</td>\n",
       "      <td>3</td>\n",
       "    </tr>\n",
       "    <tr>\n",
       "      <th>7437</th>\n",
       "      <td>766</td>\n",
       "      <td>4539.088310</td>\n",
       "      <td>0.5</td>\n",
       "      <td>2021-12-22</td>\n",
       "      <td>12</td>\n",
       "    </tr>\n",
       "    <tr>\n",
       "      <th>12967</th>\n",
       "      <td>1172</td>\n",
       "      <td>4907.140751</td>\n",
       "      <td>0.5</td>\n",
       "      <td>2021-12-19</td>\n",
       "      <td>12</td>\n",
       "    </tr>\n",
       "    <tr>\n",
       "      <th>15015</th>\n",
       "      <td>1317</td>\n",
       "      <td>4593.389022</td>\n",
       "      <td>0.5</td>\n",
       "      <td>2021-07-16</td>\n",
       "      <td>7</td>\n",
       "    </tr>\n",
       "    <tr>\n",
       "      <th>13012</th>\n",
       "      <td>1176</td>\n",
       "      <td>4935.071045</td>\n",
       "      <td>0.5</td>\n",
       "      <td>2021-05-14</td>\n",
       "      <td>5</td>\n",
       "    </tr>\n",
       "    <tr>\n",
       "      <th>7508</th>\n",
       "      <td>772</td>\n",
       "      <td>4718.820996</td>\n",
       "      <td>0.5</td>\n",
       "      <td>2021-05-22</td>\n",
       "      <td>5</td>\n",
       "    </tr>\n",
       "    <tr>\n",
       "      <th>16589</th>\n",
       "      <td>1428</td>\n",
       "      <td>5059.187375</td>\n",
       "      <td>0.5</td>\n",
       "      <td>2021-05-06</td>\n",
       "      <td>5</td>\n",
       "    </tr>\n",
       "    <tr>\n",
       "      <th>9049</th>\n",
       "      <td>890</td>\n",
       "      <td>4848.485014</td>\n",
       "      <td>0.5</td>\n",
       "      <td>2021-11-20</td>\n",
       "      <td>11</td>\n",
       "    </tr>\n",
       "    <tr>\n",
       "      <th>7537</th>\n",
       "      <td>774</td>\n",
       "      <td>5488.141903</td>\n",
       "      <td>0.5</td>\n",
       "      <td>2021-05-27</td>\n",
       "      <td>5</td>\n",
       "    </tr>\n",
       "    <tr>\n",
       "      <th>16540</th>\n",
       "      <td>1425</td>\n",
       "      <td>5306.346398</td>\n",
       "      <td>0.5</td>\n",
       "      <td>2021-07-05</td>\n",
       "      <td>7</td>\n",
       "    </tr>\n",
       "    <tr>\n",
       "      <th>13266</th>\n",
       "      <td>1194</td>\n",
       "      <td>5636.253153</td>\n",
       "      <td>0.5</td>\n",
       "      <td>2021-11-20</td>\n",
       "      <td>11</td>\n",
       "    </tr>\n",
       "    <tr>\n",
       "      <th>10426</th>\n",
       "      <td>987</td>\n",
       "      <td>5375.139265</td>\n",
       "      <td>0.5</td>\n",
       "      <td>2021-03-16</td>\n",
       "      <td>3</td>\n",
       "    </tr>\n",
       "    <tr>\n",
       "      <th>11559</th>\n",
       "      <td>1069</td>\n",
       "      <td>5780.316092</td>\n",
       "      <td>0.5</td>\n",
       "      <td>2021-04-06</td>\n",
       "      <td>4</td>\n",
       "    </tr>\n",
       "    <tr>\n",
       "      <th>7612</th>\n",
       "      <td>780</td>\n",
       "      <td>6112.644835</td>\n",
       "      <td>0.5</td>\n",
       "      <td>2021-11-23</td>\n",
       "      <td>11</td>\n",
       "    </tr>\n",
       "    <tr>\n",
       "      <th>9077</th>\n",
       "      <td>893</td>\n",
       "      <td>4762.120493</td>\n",
       "      <td>0.5</td>\n",
       "      <td>2021-03-18</td>\n",
       "      <td>3</td>\n",
       "    </tr>\n",
       "    <tr>\n",
       "      <th>17909</th>\n",
       "      <td>1524</td>\n",
       "      <td>4103.998874</td>\n",
       "      <td>0.5</td>\n",
       "      <td>2021-06-18</td>\n",
       "      <td>6</td>\n",
       "    </tr>\n",
       "    <tr>\n",
       "      <th>16704</th>\n",
       "      <td>1436</td>\n",
       "      <td>5409.750250</td>\n",
       "      <td>0.5</td>\n",
       "      <td>2021-06-18</td>\n",
       "      <td>6</td>\n",
       "    </tr>\n",
       "    <tr>\n",
       "      <th>9698</th>\n",
       "      <td>937</td>\n",
       "      <td>4169.066800</td>\n",
       "      <td>0.5</td>\n",
       "      <td>2021-12-12</td>\n",
       "      <td>12</td>\n",
       "    </tr>\n",
       "  </tbody>\n",
       "</table>\n",
       "</div>"
      ],
      "text/plain": [
       "       user_id     distance  duration       date  month\n",
       "12013     1102  4602.122401       0.5 2021-08-01      8\n",
       "17314     1483  4445.481070       0.5 2021-03-06      3\n",
       "15029     1318  5894.633314       0.5 2021-03-28      3\n",
       "7437       766  4539.088310       0.5 2021-12-22     12\n",
       "12967     1172  4907.140751       0.5 2021-12-19     12\n",
       "15015     1317  4593.389022       0.5 2021-07-16      7\n",
       "13012     1176  4935.071045       0.5 2021-05-14      5\n",
       "7508       772  4718.820996       0.5 2021-05-22      5\n",
       "16589     1428  5059.187375       0.5 2021-05-06      5\n",
       "9049       890  4848.485014       0.5 2021-11-20     11\n",
       "7537       774  5488.141903       0.5 2021-05-27      5\n",
       "16540     1425  5306.346398       0.5 2021-07-05      7\n",
       "13266     1194  5636.253153       0.5 2021-11-20     11\n",
       "10426      987  5375.139265       0.5 2021-03-16      3\n",
       "11559     1069  5780.316092       0.5 2021-04-06      4\n",
       "7612       780  6112.644835       0.5 2021-11-23     11\n",
       "9077       893  4762.120493       0.5 2021-03-18      3\n",
       "17909     1524  4103.998874       0.5 2021-06-18      6\n",
       "16704     1436  5409.750250       0.5 2021-06-18      6\n",
       "9698       937  4169.066800       0.5 2021-12-12     12"
      ]
     },
     "execution_count": 33,
     "metadata": {},
     "output_type": "execute_result"
    }
   ],
   "source": [
    "rides.sort_values(by='duration', ascending=True).head(20)"
   ]
  },
  {
   "cell_type": "markdown",
   "id": "294ddbde",
   "metadata": {},
   "source": [
    "**Отфильтруем таблицу `rides` по условию `duration` < 1**"
   ]
  },
  {
   "cell_type": "code",
   "execution_count": 34,
   "id": "9bf06a0d",
   "metadata": {},
   "outputs": [
    {
     "data": {
      "text/html": [
       "<div>\n",
       "<style scoped>\n",
       "    .dataframe tbody tr th:only-of-type {\n",
       "        vertical-align: middle;\n",
       "    }\n",
       "\n",
       "    .dataframe tbody tr th {\n",
       "        vertical-align: top;\n",
       "    }\n",
       "\n",
       "    .dataframe thead th {\n",
       "        text-align: right;\n",
       "    }\n",
       "</style>\n",
       "<table border=\"1\" class=\"dataframe\">\n",
       "  <thead>\n",
       "    <tr style=\"text-align: right;\">\n",
       "      <th></th>\n",
       "      <th>user_id</th>\n",
       "      <th>distance</th>\n",
       "      <th>duration</th>\n",
       "      <th>date</th>\n",
       "      <th>month</th>\n",
       "    </tr>\n",
       "  </thead>\n",
       "  <tbody>\n",
       "    <tr>\n",
       "      <th>6531</th>\n",
       "      <td>701</td>\n",
       "      <td>4196.445201</td>\n",
       "      <td>0.5</td>\n",
       "      <td>2021-08-31</td>\n",
       "      <td>8</td>\n",
       "    </tr>\n",
       "    <tr>\n",
       "      <th>6570</th>\n",
       "      <td>704</td>\n",
       "      <td>4830.824371</td>\n",
       "      <td>0.5</td>\n",
       "      <td>2021-10-14</td>\n",
       "      <td>10</td>\n",
       "    </tr>\n",
       "    <tr>\n",
       "      <th>6680</th>\n",
       "      <td>712</td>\n",
       "      <td>4684.004397</td>\n",
       "      <td>0.5</td>\n",
       "      <td>2021-03-04</td>\n",
       "      <td>3</td>\n",
       "    </tr>\n",
       "    <tr>\n",
       "      <th>6695</th>\n",
       "      <td>713</td>\n",
       "      <td>5215.642710</td>\n",
       "      <td>0.5</td>\n",
       "      <td>2021-02-25</td>\n",
       "      <td>2</td>\n",
       "    </tr>\n",
       "    <tr>\n",
       "      <th>6768</th>\n",
       "      <td>718</td>\n",
       "      <td>5197.436649</td>\n",
       "      <td>0.5</td>\n",
       "      <td>2021-02-11</td>\n",
       "      <td>2</td>\n",
       "    </tr>\n",
       "  </tbody>\n",
       "</table>\n",
       "</div>"
      ],
      "text/plain": [
       "      user_id     distance  duration       date  month\n",
       "6531      701  4196.445201       0.5 2021-08-31      8\n",
       "6570      704  4830.824371       0.5 2021-10-14     10\n",
       "6680      712  4684.004397       0.5 2021-03-04      3\n",
       "6695      713  5215.642710       0.5 2021-02-25      2\n",
       "6768      718  5197.436649       0.5 2021-02-11      2"
      ]
     },
     "execution_count": 34,
     "metadata": {},
     "output_type": "execute_result"
    }
   ],
   "source": [
    "rides_quick = rides.query('duration < 1')\n",
    "rides_quick.head()"
   ]
  },
  {
   "cell_type": "markdown",
   "id": "282714e7",
   "metadata": {},
   "source": [
    "**Посмотрим на параметры `distance` в таблице `rides_quick`**"
   ]
  },
  {
   "cell_type": "code",
   "execution_count": 35,
   "id": "6529f239",
   "metadata": {},
   "outputs": [
    {
     "data": {
      "text/plain": [
       "count      95.000000\n",
       "mean     5113.176549\n",
       "std       658.254104\n",
       "min      4030.308008\n",
       "25%      4611.510820\n",
       "50%      5052.769411\n",
       "75%      5488.459099\n",
       "max      7211.007745\n",
       "Name: distance, dtype: float64"
      ]
     },
     "execution_count": 35,
     "metadata": {},
     "output_type": "execute_result"
    }
   ],
   "source": [
    "rides_quick['distance'].describe()"
   ]
  },
  {
   "cell_type": "markdown",
   "id": "3fa03ea1",
   "metadata": {},
   "source": [
    "*В таблице `rides_quick` содержатся данные о поездках продолжительностью меньше 1 минуты. Посмотрев поподробнее на значения расстояния поездок, в данной таблице, обнаружено, что минимальное расстояние за меньше чем в 1 минуту составляет 4030м. Скорее всего это ошибки в данных.*"
   ]
  },
  {
   "cell_type": "markdown",
   "id": "b6415b34-afe4-482f-b221-54951df8e17e",
   "metadata": {},
   "source": [
    "**Вывод:**  \n",
    "Проанализированы параметры и сделаны следующие выводы:  \n",
    "1. *Частота встречаемости городов.* Величина является категориальной переменной, поэтому для нее построена столбчатая диаграмма. Выявлено, что в городе \"Пятигорск\" самое большое количество поездок - 219, а в городе \"Москва\" меньше - 168. Сервис больше всего популярен в городе \"Пятигорск\".\n",
    "2. *Соотношение пользователей с подпиской и без подписки.* Для визуализации соотношения, построена диаграмма типа pie. Пользователей без подписки больше - примерно 54.43% от общего числа пользователей, пользователей с подпиской меньше - 45.57% от общего числа. Разница составляет 8.86%.\n",
    "3. *Возраст пользователей.* Эта величина относится к количественной дискретной переменной. Для визуализации построена гистограмма. Гистограмма имеет нормальное распределение со средним значением в 25 лет, по обе строны от этого значения количество пользователей меньшего или большего возраста идет на спад. Основная масса пользователей находится в возрасте от 22-х до 28-ми лет.\n",
    "4. *Расстояние поездки.* Эта величина относится к количественной непрерывной величине. Ее гистограмма напоминает нормальное распределение, но с двумя пиками. Среднее значение составляет 3.1 км примерно. Большое количество пользователей берут самокать для расстояний от 2.5км до 3.8км. Однако есть маленькие значения расстояний. Нужно будет выяснить, это ошибки в данных или все-таки есть пользователи, которые берут самокат на маленькие расстояния.\n",
    "5. *Продолжительность поездки.* Эта величина относится к количественной непрерывной величине. Ее гистограмма имеет нормальное непрерыввное распределение с выбросом. Большинство поездок имеют интервал от 14 до 22 минут. Среднее значение примерно 18 минут. Однако можно заметить, что в данных есть короткие промежутки времени в 30 секунд. По таблице с отсортированным столбцом `duration` видно, что есть пользователи, которые за 30 секнд проезжают минимум 4030м. Это выглядит как аномалия, которая, вероятно, связана с ошибками в данных."
   ]
  },
  {
   "cell_type": "markdown",
   "id": "4ef51331",
   "metadata": {},
   "source": [
    "#### Шаг 4. Объединение данных"
   ]
  },
  {
   "cell_type": "code",
   "execution_count": 36,
   "id": "6bf288b5",
   "metadata": {
    "scrolled": true
   },
   "outputs": [
    {
     "data": {
      "text/html": [
       "<div>\n",
       "<style scoped>\n",
       "    .dataframe tbody tr th:only-of-type {\n",
       "        vertical-align: middle;\n",
       "    }\n",
       "\n",
       "    .dataframe tbody tr th {\n",
       "        vertical-align: top;\n",
       "    }\n",
       "\n",
       "    .dataframe thead th {\n",
       "        text-align: right;\n",
       "    }\n",
       "</style>\n",
       "<table border=\"1\" class=\"dataframe\">\n",
       "  <thead>\n",
       "    <tr style=\"text-align: right;\">\n",
       "      <th></th>\n",
       "      <th>user_id</th>\n",
       "      <th>name</th>\n",
       "      <th>age</th>\n",
       "      <th>city</th>\n",
       "      <th>subscription_type</th>\n",
       "      <th>distance</th>\n",
       "      <th>duration</th>\n",
       "      <th>date</th>\n",
       "      <th>month</th>\n",
       "      <th>minute_price</th>\n",
       "      <th>start_ride_price</th>\n",
       "      <th>subscription_fee</th>\n",
       "    </tr>\n",
       "  </thead>\n",
       "  <tbody>\n",
       "    <tr>\n",
       "      <th>0</th>\n",
       "      <td>1</td>\n",
       "      <td>Кира</td>\n",
       "      <td>22</td>\n",
       "      <td>Тюмень</td>\n",
       "      <td>ultra</td>\n",
       "      <td>4409.919140</td>\n",
       "      <td>25.599769</td>\n",
       "      <td>2021-01-01</td>\n",
       "      <td>1</td>\n",
       "      <td>6</td>\n",
       "      <td>0</td>\n",
       "      <td>199</td>\n",
       "    </tr>\n",
       "    <tr>\n",
       "      <th>1</th>\n",
       "      <td>1</td>\n",
       "      <td>Кира</td>\n",
       "      <td>22</td>\n",
       "      <td>Тюмень</td>\n",
       "      <td>ultra</td>\n",
       "      <td>2617.592153</td>\n",
       "      <td>15.816871</td>\n",
       "      <td>2021-01-18</td>\n",
       "      <td>1</td>\n",
       "      <td>6</td>\n",
       "      <td>0</td>\n",
       "      <td>199</td>\n",
       "    </tr>\n",
       "    <tr>\n",
       "      <th>2</th>\n",
       "      <td>1</td>\n",
       "      <td>Кира</td>\n",
       "      <td>22</td>\n",
       "      <td>Тюмень</td>\n",
       "      <td>ultra</td>\n",
       "      <td>754.159807</td>\n",
       "      <td>6.232113</td>\n",
       "      <td>2021-04-20</td>\n",
       "      <td>4</td>\n",
       "      <td>6</td>\n",
       "      <td>0</td>\n",
       "      <td>199</td>\n",
       "    </tr>\n",
       "    <tr>\n",
       "      <th>3</th>\n",
       "      <td>1</td>\n",
       "      <td>Кира</td>\n",
       "      <td>22</td>\n",
       "      <td>Тюмень</td>\n",
       "      <td>ultra</td>\n",
       "      <td>2694.783254</td>\n",
       "      <td>18.511000</td>\n",
       "      <td>2021-08-11</td>\n",
       "      <td>8</td>\n",
       "      <td>6</td>\n",
       "      <td>0</td>\n",
       "      <td>199</td>\n",
       "    </tr>\n",
       "    <tr>\n",
       "      <th>4</th>\n",
       "      <td>1</td>\n",
       "      <td>Кира</td>\n",
       "      <td>22</td>\n",
       "      <td>Тюмень</td>\n",
       "      <td>ultra</td>\n",
       "      <td>4028.687306</td>\n",
       "      <td>26.265803</td>\n",
       "      <td>2021-08-28</td>\n",
       "      <td>8</td>\n",
       "      <td>6</td>\n",
       "      <td>0</td>\n",
       "      <td>199</td>\n",
       "    </tr>\n",
       "  </tbody>\n",
       "</table>\n",
       "</div>"
      ],
      "text/plain": [
       "   user_id  name  age    city subscription_type     distance   duration  \\\n",
       "0        1  Кира   22  Тюмень             ultra  4409.919140  25.599769   \n",
       "1        1  Кира   22  Тюмень             ultra  2617.592153  15.816871   \n",
       "2        1  Кира   22  Тюмень             ultra   754.159807   6.232113   \n",
       "3        1  Кира   22  Тюмень             ultra  2694.783254  18.511000   \n",
       "4        1  Кира   22  Тюмень             ultra  4028.687306  26.265803   \n",
       "\n",
       "        date  month  minute_price  start_ride_price  subscription_fee  \n",
       "0 2021-01-01      1             6                 0               199  \n",
       "1 2021-01-18      1             6                 0               199  \n",
       "2 2021-04-20      4             6                 0               199  \n",
       "3 2021-08-11      8             6                 0               199  \n",
       "4 2021-08-28      8             6                 0               199  "
      ]
     },
     "execution_count": 36,
     "metadata": {},
     "output_type": "execute_result"
    }
   ],
   "source": [
    "full_data = (users.merge(rides, on='user_id', how='inner')\n",
    "             .merge(subscriptions, on='subscription_type', how='inner')\n",
    "            )\n",
    "full_data.head()"
   ]
  },
  {
   "cell_type": "markdown",
   "id": "5556d3e5-8fd3-4535-9be8-e8d047dfa63c",
   "metadata": {},
   "source": [
    "**Проверим длину получившейся таблицы с одной из исходной таблицы `rides`**"
   ]
  },
  {
   "cell_type": "code",
   "execution_count": 37,
   "id": "577610dd-21a2-436d-918c-13e5e22b3174",
   "metadata": {},
   "outputs": [
    {
     "data": {
      "text/plain": [
       "(18068, 18068)"
      ]
     },
     "execution_count": 37,
     "metadata": {},
     "output_type": "execute_result"
    }
   ],
   "source": [
    "len(rides), len(full_data)"
   ]
  },
  {
   "cell_type": "markdown",
   "id": "3eae1c15-d288-487d-a7de-b8c6e3c9fe02",
   "metadata": {},
   "source": [
    "**Проверим, нету ли пропущенных значений в датафрейме**"
   ]
  },
  {
   "cell_type": "code",
   "execution_count": 38,
   "id": "661fde15-fc1c-4c11-948e-cd9299f2e27e",
   "metadata": {},
   "outputs": [
    {
     "data": {
      "text/plain": [
       "user_id              0\n",
       "name                 0\n",
       "age                  0\n",
       "city                 0\n",
       "subscription_type    0\n",
       "distance             0\n",
       "duration             0\n",
       "date                 0\n",
       "month                0\n",
       "minute_price         0\n",
       "start_ride_price     0\n",
       "subscription_fee     0\n",
       "dtype: int64"
      ]
     },
     "execution_count": 38,
     "metadata": {},
     "output_type": "execute_result"
    }
   ],
   "source": [
    "full_data.isna().sum()"
   ]
  },
  {
   "cell_type": "markdown",
   "id": "db6577df-3a8a-4bb0-841b-cc44440e61be",
   "metadata": {},
   "source": [
    "**Проверим есть ли дубликаты строк**"
   ]
  },
  {
   "cell_type": "code",
   "execution_count": 39,
   "id": "a210ff36-8aff-442e-8f21-253cafa50488",
   "metadata": {},
   "outputs": [
    {
     "data": {
      "text/plain": [
       "0"
      ]
     },
     "execution_count": 39,
     "metadata": {},
     "output_type": "execute_result"
    }
   ],
   "source": [
    "full_data.duplicated().sum()"
   ]
  },
  {
   "cell_type": "markdown",
   "id": "b22b5ebd-7a0b-410d-886e-0cd865381184",
   "metadata": {},
   "source": [
    "**По проведенным проверкам на наличие дубликатов, пропущенных значений, количество записей, делаем вывод, что объединение данных прошло успешно.**"
   ]
  },
  {
   "cell_type": "markdown",
   "id": "04df3c67-b8b5-4631-918b-eeb59ed4176d",
   "metadata": {},
   "source": [
    "**4.2 Создадим еще два датафрейма c данными о пользователях без подписки и с подпиской.**"
   ]
  },
  {
   "cell_type": "code",
   "execution_count": 40,
   "id": "72acd4a2-5689-483a-b442-d6a2e186440e",
   "metadata": {},
   "outputs": [
    {
     "data": {
      "text/plain": [
       "array(['ultra'], dtype=object)"
      ]
     },
     "execution_count": 40,
     "metadata": {},
     "output_type": "execute_result"
    }
   ],
   "source": [
    "users_with_subscription = full_data.query('subscription_type == \"ultra\"')\n",
    "users_with_subscription['subscription_type'].unique()"
   ]
  },
  {
   "cell_type": "code",
   "execution_count": 41,
   "id": "a8bfc251-5bcc-42c4-8a90-f21bc6196b0d",
   "metadata": {},
   "outputs": [
    {
     "data": {
      "text/html": [
       "<div>\n",
       "<style scoped>\n",
       "    .dataframe tbody tr th:only-of-type {\n",
       "        vertical-align: middle;\n",
       "    }\n",
       "\n",
       "    .dataframe tbody tr th {\n",
       "        vertical-align: top;\n",
       "    }\n",
       "\n",
       "    .dataframe thead th {\n",
       "        text-align: right;\n",
       "    }\n",
       "</style>\n",
       "<table border=\"1\" class=\"dataframe\">\n",
       "  <thead>\n",
       "    <tr style=\"text-align: right;\">\n",
       "      <th></th>\n",
       "      <th>user_id</th>\n",
       "      <th>name</th>\n",
       "      <th>age</th>\n",
       "      <th>city</th>\n",
       "      <th>subscription_type</th>\n",
       "      <th>distance</th>\n",
       "      <th>duration</th>\n",
       "      <th>date</th>\n",
       "      <th>month</th>\n",
       "      <th>minute_price</th>\n",
       "      <th>start_ride_price</th>\n",
       "      <th>subscription_fee</th>\n",
       "    </tr>\n",
       "  </thead>\n",
       "  <tbody>\n",
       "    <tr>\n",
       "      <th>0</th>\n",
       "      <td>1</td>\n",
       "      <td>Кира</td>\n",
       "      <td>22</td>\n",
       "      <td>Тюмень</td>\n",
       "      <td>ultra</td>\n",
       "      <td>4409.919140</td>\n",
       "      <td>25.599769</td>\n",
       "      <td>2021-01-01</td>\n",
       "      <td>1</td>\n",
       "      <td>6</td>\n",
       "      <td>0</td>\n",
       "      <td>199</td>\n",
       "    </tr>\n",
       "    <tr>\n",
       "      <th>1</th>\n",
       "      <td>1</td>\n",
       "      <td>Кира</td>\n",
       "      <td>22</td>\n",
       "      <td>Тюмень</td>\n",
       "      <td>ultra</td>\n",
       "      <td>2617.592153</td>\n",
       "      <td>15.816871</td>\n",
       "      <td>2021-01-18</td>\n",
       "      <td>1</td>\n",
       "      <td>6</td>\n",
       "      <td>0</td>\n",
       "      <td>199</td>\n",
       "    </tr>\n",
       "    <tr>\n",
       "      <th>2</th>\n",
       "      <td>1</td>\n",
       "      <td>Кира</td>\n",
       "      <td>22</td>\n",
       "      <td>Тюмень</td>\n",
       "      <td>ultra</td>\n",
       "      <td>754.159807</td>\n",
       "      <td>6.232113</td>\n",
       "      <td>2021-04-20</td>\n",
       "      <td>4</td>\n",
       "      <td>6</td>\n",
       "      <td>0</td>\n",
       "      <td>199</td>\n",
       "    </tr>\n",
       "    <tr>\n",
       "      <th>3</th>\n",
       "      <td>1</td>\n",
       "      <td>Кира</td>\n",
       "      <td>22</td>\n",
       "      <td>Тюмень</td>\n",
       "      <td>ultra</td>\n",
       "      <td>2694.783254</td>\n",
       "      <td>18.511000</td>\n",
       "      <td>2021-08-11</td>\n",
       "      <td>8</td>\n",
       "      <td>6</td>\n",
       "      <td>0</td>\n",
       "      <td>199</td>\n",
       "    </tr>\n",
       "    <tr>\n",
       "      <th>4</th>\n",
       "      <td>1</td>\n",
       "      <td>Кира</td>\n",
       "      <td>22</td>\n",
       "      <td>Тюмень</td>\n",
       "      <td>ultra</td>\n",
       "      <td>4028.687306</td>\n",
       "      <td>26.265803</td>\n",
       "      <td>2021-08-28</td>\n",
       "      <td>8</td>\n",
       "      <td>6</td>\n",
       "      <td>0</td>\n",
       "      <td>199</td>\n",
       "    </tr>\n",
       "  </tbody>\n",
       "</table>\n",
       "</div>"
      ],
      "text/plain": [
       "   user_id  name  age    city subscription_type     distance   duration  \\\n",
       "0        1  Кира   22  Тюмень             ultra  4409.919140  25.599769   \n",
       "1        1  Кира   22  Тюмень             ultra  2617.592153  15.816871   \n",
       "2        1  Кира   22  Тюмень             ultra   754.159807   6.232113   \n",
       "3        1  Кира   22  Тюмень             ultra  2694.783254  18.511000   \n",
       "4        1  Кира   22  Тюмень             ultra  4028.687306  26.265803   \n",
       "\n",
       "        date  month  minute_price  start_ride_price  subscription_fee  \n",
       "0 2021-01-01      1             6                 0               199  \n",
       "1 2021-01-18      1             6                 0               199  \n",
       "2 2021-04-20      4             6                 0               199  \n",
       "3 2021-08-11      8             6                 0               199  \n",
       "4 2021-08-28      8             6                 0               199  "
      ]
     },
     "execution_count": 41,
     "metadata": {},
     "output_type": "execute_result"
    }
   ],
   "source": [
    "users_with_subscription.head()"
   ]
  },
  {
   "cell_type": "code",
   "execution_count": 42,
   "id": "efd6c2e0-93ac-476c-82e3-beb3c768c33c",
   "metadata": {},
   "outputs": [
    {
     "data": {
      "text/plain": [
       "array(['free'], dtype=object)"
      ]
     },
     "execution_count": 42,
     "metadata": {},
     "output_type": "execute_result"
    }
   ],
   "source": [
    "users_no_subscription = full_data.query('subscription_type == \"free\"')\n",
    "users_no_subscription['subscription_type'].unique()"
   ]
  },
  {
   "cell_type": "code",
   "execution_count": 43,
   "id": "b8d85444-0510-45b1-8034-1dfe826e7942",
   "metadata": {},
   "outputs": [
    {
     "data": {
      "text/html": [
       "<div>\n",
       "<style scoped>\n",
       "    .dataframe tbody tr th:only-of-type {\n",
       "        vertical-align: middle;\n",
       "    }\n",
       "\n",
       "    .dataframe tbody tr th {\n",
       "        vertical-align: top;\n",
       "    }\n",
       "\n",
       "    .dataframe thead th {\n",
       "        text-align: right;\n",
       "    }\n",
       "</style>\n",
       "<table border=\"1\" class=\"dataframe\">\n",
       "  <thead>\n",
       "    <tr style=\"text-align: right;\">\n",
       "      <th></th>\n",
       "      <th>user_id</th>\n",
       "      <th>name</th>\n",
       "      <th>age</th>\n",
       "      <th>city</th>\n",
       "      <th>subscription_type</th>\n",
       "      <th>distance</th>\n",
       "      <th>duration</th>\n",
       "      <th>date</th>\n",
       "      <th>month</th>\n",
       "      <th>minute_price</th>\n",
       "      <th>start_ride_price</th>\n",
       "      <th>subscription_fee</th>\n",
       "    </tr>\n",
       "  </thead>\n",
       "  <tbody>\n",
       "    <tr>\n",
       "      <th>6500</th>\n",
       "      <td>700</td>\n",
       "      <td>Айдар</td>\n",
       "      <td>22</td>\n",
       "      <td>Омск</td>\n",
       "      <td>free</td>\n",
       "      <td>2515.690719</td>\n",
       "      <td>14.944286</td>\n",
       "      <td>2021-01-02</td>\n",
       "      <td>1</td>\n",
       "      <td>8</td>\n",
       "      <td>50</td>\n",
       "      <td>0</td>\n",
       "    </tr>\n",
       "    <tr>\n",
       "      <th>6501</th>\n",
       "      <td>700</td>\n",
       "      <td>Айдар</td>\n",
       "      <td>22</td>\n",
       "      <td>Омск</td>\n",
       "      <td>free</td>\n",
       "      <td>846.932642</td>\n",
       "      <td>16.234663</td>\n",
       "      <td>2021-02-01</td>\n",
       "      <td>2</td>\n",
       "      <td>8</td>\n",
       "      <td>50</td>\n",
       "      <td>0</td>\n",
       "    </tr>\n",
       "    <tr>\n",
       "      <th>6502</th>\n",
       "      <td>700</td>\n",
       "      <td>Айдар</td>\n",
       "      <td>22</td>\n",
       "      <td>Омск</td>\n",
       "      <td>free</td>\n",
       "      <td>4004.434142</td>\n",
       "      <td>20.016628</td>\n",
       "      <td>2021-02-04</td>\n",
       "      <td>2</td>\n",
       "      <td>8</td>\n",
       "      <td>50</td>\n",
       "      <td>0</td>\n",
       "    </tr>\n",
       "    <tr>\n",
       "      <th>6503</th>\n",
       "      <td>700</td>\n",
       "      <td>Айдар</td>\n",
       "      <td>22</td>\n",
       "      <td>Омск</td>\n",
       "      <td>free</td>\n",
       "      <td>1205.911290</td>\n",
       "      <td>9.782872</td>\n",
       "      <td>2021-02-10</td>\n",
       "      <td>2</td>\n",
       "      <td>8</td>\n",
       "      <td>50</td>\n",
       "      <td>0</td>\n",
       "    </tr>\n",
       "    <tr>\n",
       "      <th>6504</th>\n",
       "      <td>700</td>\n",
       "      <td>Айдар</td>\n",
       "      <td>22</td>\n",
       "      <td>Омск</td>\n",
       "      <td>free</td>\n",
       "      <td>3047.379435</td>\n",
       "      <td>17.427673</td>\n",
       "      <td>2021-02-14</td>\n",
       "      <td>2</td>\n",
       "      <td>8</td>\n",
       "      <td>50</td>\n",
       "      <td>0</td>\n",
       "    </tr>\n",
       "  </tbody>\n",
       "</table>\n",
       "</div>"
      ],
      "text/plain": [
       "      user_id   name  age  city subscription_type     distance   duration  \\\n",
       "6500      700  Айдар   22  Омск              free  2515.690719  14.944286   \n",
       "6501      700  Айдар   22  Омск              free   846.932642  16.234663   \n",
       "6502      700  Айдар   22  Омск              free  4004.434142  20.016628   \n",
       "6503      700  Айдар   22  Омск              free  1205.911290   9.782872   \n",
       "6504      700  Айдар   22  Омск              free  3047.379435  17.427673   \n",
       "\n",
       "           date  month  minute_price  start_ride_price  subscription_fee  \n",
       "6500 2021-01-02      1             8                50                 0  \n",
       "6501 2021-02-01      2             8                50                 0  \n",
       "6502 2021-02-04      2             8                50                 0  \n",
       "6503 2021-02-10      2             8                50                 0  \n",
       "6504 2021-02-14      2             8                50                 0  "
      ]
     },
     "execution_count": 43,
     "metadata": {},
     "output_type": "execute_result"
    }
   ],
   "source": [
    "users_no_subscription.head()"
   ]
  },
  {
   "cell_type": "code",
   "execution_count": 44,
   "id": "e4606237-e295-4ff1-b087-71a141ec51c2",
   "metadata": {},
   "outputs": [
    {
     "name": "stdout",
     "output_type": "stream",
     "text": [
      "Cовокупный размер датафреймов совпадает с количеством строк в исходной таблице.\n"
     ]
    }
   ],
   "source": [
    "if len(users_no_subscription) + len(users_with_subscription) == len(full_data):\n",
    "    print('Cовокупный размер датафреймов совпадает с количеством строк в исходной таблице.')\n",
    "else:\n",
    "    print('Cовокупный размер датафреймов НЕ совпадает с количеством строк в исходной таблице.')"
   ]
  },
  {
   "cell_type": "markdown",
   "id": "cb2e0ab7-6794-4cae-94d8-b431bbd2358d",
   "metadata": {},
   "source": [
    "**4.3 Визуализируем информацию о расстоянии и времени поездок для пользователей обеих категорий.**"
   ]
  },
  {
   "cell_type": "code",
   "execution_count": 45,
   "id": "ff7b53f8-b018-43e8-bc21-6ee518b36d63",
   "metadata": {},
   "outputs": [
    {
     "data": {
      "image/png": "[encoded data removed]",
      "text/plain": [
       "<Figure size 432x288 with 1 Axes>"
      ]
     },
     "metadata": {
      "needs_background": "light"
     },
     "output_type": "display_data"
    }
   ],
   "source": [
    "# Гистограмма для пользователей с подпиской\n",
    "users_with_subscription['distance'].plot(kind='hist',\n",
    "                                         bins=200,\n",
    "                                         label='Пользователи с подпиской')\n",
    "\n",
    "# Гистограмма для пользователей без подписки\n",
    "users_no_subscription['distance'].plot(kind='hist',\n",
    "                                       bins=200,\n",
    "                                       alpha=0.4,\n",
    "                                       label='Пользователи без подписки')\n",
    "\n",
    "# Добавление подписей и легенды\n",
    "plt.title('Распределение расстояний поездок')\n",
    "plt.xlabel('Расстояние')\n",
    "plt.ylabel('Частота')\n",
    "plt.legend()\n",
    "\n",
    "# Показ графика\n",
    "plt.show()"
   ]
  },
  {
   "cell_type": "code",
   "execution_count": 46,
   "id": "990580de-ad2a-4fc7-be6b-8c7520c80b32",
   "metadata": {},
   "outputs": [
    {
     "data": {
      "text/plain": [
       "count    6500.000000\n",
       "mean     3115.445388\n",
       "std       836.895330\n",
       "min       244.210438\n",
       "25%      2785.444017\n",
       "50%      3148.637229\n",
       "75%      3560.574425\n",
       "max      5699.769662\n",
       "Name: distance, dtype: float64"
      ]
     },
     "execution_count": 46,
     "metadata": {},
     "output_type": "execute_result"
    }
   ],
   "source": [
    "users_with_subscription['distance'].describe()"
   ]
  },
  {
   "cell_type": "code",
   "execution_count": 47,
   "id": "8f9abf19-b1ce-4fb3-9bda-ed97653992e6",
   "metadata": {},
   "outputs": [
    {
     "data": {
      "text/plain": [
       "count    11568.000000\n",
       "mean      3045.495282\n",
       "std       1246.173806\n",
       "min          0.855683\n",
       "25%       2366.562689\n",
       "50%       3114.648465\n",
       "75%       3905.697894\n",
       "max       7211.007745\n",
       "Name: distance, dtype: float64"
      ]
     },
     "execution_count": 47,
     "metadata": {},
     "output_type": "execute_result"
    }
   ],
   "source": [
    "users_no_subscription['distance'].describe()"
   ]
  },
  {
   "cell_type": "code",
   "execution_count": 48,
   "id": "676563be-dd32-4687-a2cd-f211dce16777",
   "metadata": {},
   "outputs": [
    {
     "data": {
      "image/png": "[encoded data removed]",
      "text/plain": [
       "<Figure size 432x288 with 1 Axes>"
      ]
     },
     "metadata": {
      "needs_background": "light"
     },
     "output_type": "display_data"
    }
   ],
   "source": [
    "users_with_subscription['duration'].plot(kind='hist',\n",
    "                      title='Распределение продолжительности поездок. Пользователи с подпиской',\n",
    "                      bins=200,\n",
    "                      label='Пользователи с подпиской'\n",
    "                      );\n",
    "users_no_subscription['duration'].plot(kind='hist',\n",
    "                      title='Распределение продолжительности поездок. Пользователи без подписки',\n",
    "                      bins=200,\n",
    "                      alpha=0.5,\n",
    "                      label='Пользователи без подписки'\n",
    "                      );\n",
    "plt.xlabel('Продолжительность')\n",
    "plt.ylabel('Частота')\n",
    "plt.legend()\n",
    "plt.show()"
   ]
  },
  {
   "cell_type": "code",
   "execution_count": 49,
   "id": "b0c09086-8978-41dc-b62e-41d36ccfffeb",
   "metadata": {},
   "outputs": [
    {
     "data": {
      "text/plain": [
       "count    6500.000000\n",
       "mean       18.541985\n",
       "std         5.572048\n",
       "min         3.760353\n",
       "25%        14.524654\n",
       "50%        18.178153\n",
       "75%        21.884129\n",
       "max        40.823963\n",
       "Name: duration, dtype: float64"
      ]
     },
     "execution_count": 49,
     "metadata": {},
     "output_type": "execute_result"
    }
   ],
   "source": [
    "users_with_subscription['duration'].describe()"
   ]
  },
  {
   "cell_type": "code",
   "execution_count": 50,
   "id": "6e046f55-1bb5-4835-ba52-6bb8d31324e4",
   "metadata": {},
   "outputs": [
    {
     "data": {
      "text/plain": [
       "count    11568.000000\n",
       "mean        17.390909\n",
       "std          6.326803\n",
       "min          0.500000\n",
       "25%         12.958437\n",
       "50%         17.326890\n",
       "75%         21.594071\n",
       "max         34.948498\n",
       "Name: duration, dtype: float64"
      ]
     },
     "execution_count": 50,
     "metadata": {},
     "output_type": "execute_result"
    }
   ],
   "source": [
    "users_no_subscription['duration'].describe()"
   ]
  },
  {
   "cell_type": "markdown",
   "id": "86e33dd0-f796-4108-b715-918f28504152",
   "metadata": {},
   "source": [
    "**Вывод:**  \n",
    "В результате отдельной визуализации данных пользователей с подпиской и без, было выявлено следующее:  \n",
    "1. Распределение расстояний поездок для пользователей с подпиской имеет два пика. Первый пик со средним значением в 1 км имеет примерно 20 поездок из выборки. Второй пик со средним значением 3-3.2 км чуть больше 140 поездок из выборки.\n",
    "2. Распределение продолжительности поездок для пользователей с подпиской имеет нормальное распределение со средним значением в 19 минут для 100 поездок.\n",
    "3. Распределение расстоянии поездок для пользователей без подписки имеет два пика. Первый пик со средним значением в 500 м имеет примерно 55 поездок из выборки. Второй пик со средним значением 2.5 км чуть больше 170 поездок из выборки\n",
    "4. Распределение продолжительности поездок для пользователей с подпиской имеет нормальное распределение с одним выбросом в 1 минуту. Нормальное распределение имеет среднее значение в 18 минут для 140 поездок.\n",
    "\n",
    "   Поездки на большие расстояния пользуются популярностю у пользователей с подпиской. А вот продолжительность поездки у обеих групп практически одинаковая, за исключением того, что у пользователей без подписки имеется выбросом меньше 1 минуты для 100 поездок. В общем по гистограмме видно, что пользователей без подписки больше, чем с подпиской."
   ]
  },
  {
   "cell_type": "markdown",
   "id": "402d620f",
   "metadata": {},
   "source": [
    "#### Шаг 5. Подсчёт выручки"
   ]
  },
  {
   "cell_type": "markdown",
   "id": "d3f9d7a0",
   "metadata": {},
   "source": [
    "**Изменим в таблице `full_data` тип `float` в столбце `duration` на `int`**"
   ]
  },
  {
   "cell_type": "code",
   "execution_count": 51,
   "id": "c29531f2",
   "metadata": {},
   "outputs": [
    {
     "data": {
      "text/html": [
       "<div>\n",
       "<style scoped>\n",
       "    .dataframe tbody tr th:only-of-type {\n",
       "        vertical-align: middle;\n",
       "    }\n",
       "\n",
       "    .dataframe tbody tr th {\n",
       "        vertical-align: top;\n",
       "    }\n",
       "\n",
       "    .dataframe thead th {\n",
       "        text-align: right;\n",
       "    }\n",
       "</style>\n",
       "<table border=\"1\" class=\"dataframe\">\n",
       "  <thead>\n",
       "    <tr style=\"text-align: right;\">\n",
       "      <th></th>\n",
       "      <th>user_id</th>\n",
       "      <th>name</th>\n",
       "      <th>age</th>\n",
       "      <th>city</th>\n",
       "      <th>subscription_type</th>\n",
       "      <th>distance</th>\n",
       "      <th>duration</th>\n",
       "      <th>date</th>\n",
       "      <th>month</th>\n",
       "      <th>minute_price</th>\n",
       "      <th>start_ride_price</th>\n",
       "      <th>subscription_fee</th>\n",
       "    </tr>\n",
       "  </thead>\n",
       "  <tbody>\n",
       "    <tr>\n",
       "      <th>0</th>\n",
       "      <td>1</td>\n",
       "      <td>Кира</td>\n",
       "      <td>22</td>\n",
       "      <td>Тюмень</td>\n",
       "      <td>ultra</td>\n",
       "      <td>4409.919140</td>\n",
       "      <td>26</td>\n",
       "      <td>2021-01-01</td>\n",
       "      <td>1</td>\n",
       "      <td>6</td>\n",
       "      <td>0</td>\n",
       "      <td>199</td>\n",
       "    </tr>\n",
       "    <tr>\n",
       "      <th>1</th>\n",
       "      <td>1</td>\n",
       "      <td>Кира</td>\n",
       "      <td>22</td>\n",
       "      <td>Тюмень</td>\n",
       "      <td>ultra</td>\n",
       "      <td>2617.592153</td>\n",
       "      <td>16</td>\n",
       "      <td>2021-01-18</td>\n",
       "      <td>1</td>\n",
       "      <td>6</td>\n",
       "      <td>0</td>\n",
       "      <td>199</td>\n",
       "    </tr>\n",
       "    <tr>\n",
       "      <th>2</th>\n",
       "      <td>1</td>\n",
       "      <td>Кира</td>\n",
       "      <td>22</td>\n",
       "      <td>Тюмень</td>\n",
       "      <td>ultra</td>\n",
       "      <td>754.159807</td>\n",
       "      <td>7</td>\n",
       "      <td>2021-04-20</td>\n",
       "      <td>4</td>\n",
       "      <td>6</td>\n",
       "      <td>0</td>\n",
       "      <td>199</td>\n",
       "    </tr>\n",
       "    <tr>\n",
       "      <th>3</th>\n",
       "      <td>1</td>\n",
       "      <td>Кира</td>\n",
       "      <td>22</td>\n",
       "      <td>Тюмень</td>\n",
       "      <td>ultra</td>\n",
       "      <td>2694.783254</td>\n",
       "      <td>19</td>\n",
       "      <td>2021-08-11</td>\n",
       "      <td>8</td>\n",
       "      <td>6</td>\n",
       "      <td>0</td>\n",
       "      <td>199</td>\n",
       "    </tr>\n",
       "    <tr>\n",
       "      <th>4</th>\n",
       "      <td>1</td>\n",
       "      <td>Кира</td>\n",
       "      <td>22</td>\n",
       "      <td>Тюмень</td>\n",
       "      <td>ultra</td>\n",
       "      <td>4028.687306</td>\n",
       "      <td>27</td>\n",
       "      <td>2021-08-28</td>\n",
       "      <td>8</td>\n",
       "      <td>6</td>\n",
       "      <td>0</td>\n",
       "      <td>199</td>\n",
       "    </tr>\n",
       "  </tbody>\n",
       "</table>\n",
       "</div>"
      ],
      "text/plain": [
       "   user_id  name  age    city subscription_type     distance  duration  \\\n",
       "0        1  Кира   22  Тюмень             ultra  4409.919140        26   \n",
       "1        1  Кира   22  Тюмень             ultra  2617.592153        16   \n",
       "2        1  Кира   22  Тюмень             ultra   754.159807         7   \n",
       "3        1  Кира   22  Тюмень             ultra  2694.783254        19   \n",
       "4        1  Кира   22  Тюмень             ultra  4028.687306        27   \n",
       "\n",
       "        date  month  minute_price  start_ride_price  subscription_fee  \n",
       "0 2021-01-01      1             6                 0               199  \n",
       "1 2021-01-18      1             6                 0               199  \n",
       "2 2021-04-20      4             6                 0               199  \n",
       "3 2021-08-11      8             6                 0               199  \n",
       "4 2021-08-28      8             6                 0               199  "
      ]
     },
     "execution_count": 51,
     "metadata": {},
     "output_type": "execute_result"
    }
   ],
   "source": [
    "full_data['duration'] = np.ceil(full_data['duration']).astype(int)\n",
    "full_data.head()"
   ]
  },
  {
   "cell_type": "markdown",
   "id": "2b3d8d30-3d49-48a2-a257-27c7019327fb",
   "metadata": {},
   "source": [
    "**Создадим датафрейм с агрегированными данными о поездках на основе датафрейма с объединёнными данными из шага 4: найдем суммарное расстояние, количество поездок и суммарное время для каждого пользователя за каждый месяц.**"
   ]
  },
  {
   "cell_type": "code",
   "execution_count": 52,
   "id": "53049e0a",
   "metadata": {
    "scrolled": true
   },
   "outputs": [
    {
     "data": {
      "text/html": [
       "<div>\n",
       "<style scoped>\n",
       "    .dataframe tbody tr th:only-of-type {\n",
       "        vertical-align: middle;\n",
       "    }\n",
       "\n",
       "    .dataframe tbody tr th {\n",
       "        vertical-align: top;\n",
       "    }\n",
       "\n",
       "    .dataframe thead th {\n",
       "        text-align: right;\n",
       "    }\n",
       "</style>\n",
       "<table border=\"1\" class=\"dataframe\">\n",
       "  <thead>\n",
       "    <tr style=\"text-align: right;\">\n",
       "      <th></th>\n",
       "      <th></th>\n",
       "      <th>distance</th>\n",
       "      <th>duration</th>\n",
       "      <th>minute_price</th>\n",
       "      <th>start_ride_price</th>\n",
       "      <th>subscription_fee</th>\n",
       "      <th>user_id</th>\n",
       "    </tr>\n",
       "    <tr>\n",
       "      <th>user_id</th>\n",
       "      <th>month</th>\n",
       "      <th></th>\n",
       "      <th></th>\n",
       "      <th></th>\n",
       "      <th></th>\n",
       "      <th></th>\n",
       "      <th></th>\n",
       "    </tr>\n",
       "  </thead>\n",
       "  <tbody>\n",
       "    <tr>\n",
       "      <th rowspan=\"5\" valign=\"top\">1</th>\n",
       "      <th>1</th>\n",
       "      <td>7027.511294</td>\n",
       "      <td>42</td>\n",
       "      <td>6</td>\n",
       "      <td>0</td>\n",
       "      <td>199</td>\n",
       "      <td>2</td>\n",
       "    </tr>\n",
       "    <tr>\n",
       "      <th>4</th>\n",
       "      <td>754.159807</td>\n",
       "      <td>7</td>\n",
       "      <td>6</td>\n",
       "      <td>0</td>\n",
       "      <td>199</td>\n",
       "      <td>1</td>\n",
       "    </tr>\n",
       "    <tr>\n",
       "      <th>8</th>\n",
       "      <td>6723.470560</td>\n",
       "      <td>46</td>\n",
       "      <td>6</td>\n",
       "      <td>0</td>\n",
       "      <td>199</td>\n",
       "      <td>2</td>\n",
       "    </tr>\n",
       "    <tr>\n",
       "      <th>10</th>\n",
       "      <td>5809.911100</td>\n",
       "      <td>32</td>\n",
       "      <td>6</td>\n",
       "      <td>0</td>\n",
       "      <td>199</td>\n",
       "      <td>2</td>\n",
       "    </tr>\n",
       "    <tr>\n",
       "      <th>11</th>\n",
       "      <td>7003.499363</td>\n",
       "      <td>56</td>\n",
       "      <td>6</td>\n",
       "      <td>0</td>\n",
       "      <td>199</td>\n",
       "      <td>3</td>\n",
       "    </tr>\n",
       "  </tbody>\n",
       "</table>\n",
       "</div>"
      ],
      "text/plain": [
       "                  distance  duration  minute_price  start_ride_price  \\\n",
       "user_id month                                                          \n",
       "1       1      7027.511294        42             6                 0   \n",
       "        4       754.159807         7             6                 0   \n",
       "        8      6723.470560        46             6                 0   \n",
       "        10     5809.911100        32             6                 0   \n",
       "        11     7003.499363        56             6                 0   \n",
       "\n",
       "               subscription_fee  user_id  \n",
       "user_id month                             \n",
       "1       1                   199        2  \n",
       "        4                   199        1  \n",
       "        8                   199        2  \n",
       "        10                  199        2  \n",
       "        11                  199        3  "
      ]
     },
     "execution_count": 52,
     "metadata": {},
     "output_type": "execute_result"
    }
   ],
   "source": [
    "users_grouped = full_data.pivot_table(\n",
    "                            index=['user_id', 'month'],\n",
    "                            values=['distance', 'duration', 'start_ride_price', 'minute_price', 'subscription_fee'],\n",
    "                            aggfunc={'distance': 'sum', 'duration': 'sum', 'start_ride_price': 'first', \n",
    "                                     'minute_price': 'first', \n",
    "                                     'subscription_fee': 'first' ,'user_id': 'count'}\n",
    "                )\n",
    "users_grouped.head()"
   ]
  },
  {
   "cell_type": "markdown",
   "id": "38e657d7-bd11-43d8-98d8-923da7976d98",
   "metadata": {},
   "source": [
    "**Переименуем столбцы и сбросим индекс**"
   ]
  },
  {
   "cell_type": "code",
   "execution_count": 53,
   "id": "a1190d80-c8d3-46c0-bf69-11bb079d3ae2",
   "metadata": {},
   "outputs": [
    {
     "data": {
      "text/html": [
       "<div>\n",
       "<style scoped>\n",
       "    .dataframe tbody tr th:only-of-type {\n",
       "        vertical-align: middle;\n",
       "    }\n",
       "\n",
       "    .dataframe tbody tr th {\n",
       "        vertical-align: top;\n",
       "    }\n",
       "\n",
       "    .dataframe thead th {\n",
       "        text-align: right;\n",
       "    }\n",
       "</style>\n",
       "<table border=\"1\" class=\"dataframe\">\n",
       "  <thead>\n",
       "    <tr style=\"text-align: right;\">\n",
       "      <th></th>\n",
       "      <th>user_id</th>\n",
       "      <th>month</th>\n",
       "      <th>total_distance</th>\n",
       "      <th>total_duration</th>\n",
       "      <th>minute_price</th>\n",
       "      <th>start_ride_price</th>\n",
       "      <th>subscription_fee</th>\n",
       "      <th>ride_count</th>\n",
       "    </tr>\n",
       "  </thead>\n",
       "  <tbody>\n",
       "    <tr>\n",
       "      <th>0</th>\n",
       "      <td>1</td>\n",
       "      <td>1</td>\n",
       "      <td>7027.511294</td>\n",
       "      <td>42</td>\n",
       "      <td>6</td>\n",
       "      <td>0</td>\n",
       "      <td>199</td>\n",
       "      <td>2</td>\n",
       "    </tr>\n",
       "    <tr>\n",
       "      <th>1</th>\n",
       "      <td>1</td>\n",
       "      <td>4</td>\n",
       "      <td>754.159807</td>\n",
       "      <td>7</td>\n",
       "      <td>6</td>\n",
       "      <td>0</td>\n",
       "      <td>199</td>\n",
       "      <td>1</td>\n",
       "    </tr>\n",
       "    <tr>\n",
       "      <th>2</th>\n",
       "      <td>1</td>\n",
       "      <td>8</td>\n",
       "      <td>6723.470560</td>\n",
       "      <td>46</td>\n",
       "      <td>6</td>\n",
       "      <td>0</td>\n",
       "      <td>199</td>\n",
       "      <td>2</td>\n",
       "    </tr>\n",
       "    <tr>\n",
       "      <th>3</th>\n",
       "      <td>1</td>\n",
       "      <td>10</td>\n",
       "      <td>5809.911100</td>\n",
       "      <td>32</td>\n",
       "      <td>6</td>\n",
       "      <td>0</td>\n",
       "      <td>199</td>\n",
       "      <td>2</td>\n",
       "    </tr>\n",
       "    <tr>\n",
       "      <th>4</th>\n",
       "      <td>1</td>\n",
       "      <td>11</td>\n",
       "      <td>7003.499363</td>\n",
       "      <td>56</td>\n",
       "      <td>6</td>\n",
       "      <td>0</td>\n",
       "      <td>199</td>\n",
       "      <td>3</td>\n",
       "    </tr>\n",
       "  </tbody>\n",
       "</table>\n",
       "</div>"
      ],
      "text/plain": [
       "   user_id  month  total_distance  total_duration  minute_price  \\\n",
       "0        1      1     7027.511294              42             6   \n",
       "1        1      4      754.159807               7             6   \n",
       "2        1      8     6723.470560              46             6   \n",
       "3        1     10     5809.911100              32             6   \n",
       "4        1     11     7003.499363              56             6   \n",
       "\n",
       "   start_ride_price  subscription_fee  ride_count  \n",
       "0                 0               199           2  \n",
       "1                 0               199           1  \n",
       "2                 0               199           2  \n",
       "3                 0               199           2  \n",
       "4                 0               199           3  "
      ]
     },
     "execution_count": 53,
     "metadata": {},
     "output_type": "execute_result"
    }
   ],
   "source": [
    "users_grouped = users_grouped.rename(columns={\n",
    "    'distance': 'total_distance', \n",
    "    'duration': 'total_duration',\n",
    "    'user_id': 'ride_count'\n",
    "})\n",
    "users_grouped = users_grouped.reset_index()\n",
    "users_grouped.head()"
   ]
  },
  {
   "cell_type": "markdown",
   "id": "e62c3488-d28c-4421-a139-e8b64d471960",
   "metadata": {},
   "source": [
    "**Добавим столбец с месячной выручкой от каждого пользователя**"
   ]
  },
  {
   "cell_type": "code",
   "execution_count": 54,
   "id": "0825a55d-287b-4cfd-99ce-68cf7535102d",
   "metadata": {
    "scrolled": true
   },
   "outputs": [
    {
     "data": {
      "text/html": [
       "<div>\n",
       "<style scoped>\n",
       "    .dataframe tbody tr th:only-of-type {\n",
       "        vertical-align: middle;\n",
       "    }\n",
       "\n",
       "    .dataframe tbody tr th {\n",
       "        vertical-align: top;\n",
       "    }\n",
       "\n",
       "    .dataframe thead th {\n",
       "        text-align: right;\n",
       "    }\n",
       "</style>\n",
       "<table border=\"1\" class=\"dataframe\">\n",
       "  <thead>\n",
       "    <tr style=\"text-align: right;\">\n",
       "      <th></th>\n",
       "      <th>user_id</th>\n",
       "      <th>month</th>\n",
       "      <th>total_distance</th>\n",
       "      <th>total_duration</th>\n",
       "      <th>minute_price</th>\n",
       "      <th>start_ride_price</th>\n",
       "      <th>subscription_fee</th>\n",
       "      <th>ride_count</th>\n",
       "      <th>monthly_income</th>\n",
       "    </tr>\n",
       "  </thead>\n",
       "  <tbody>\n",
       "    <tr>\n",
       "      <th>0</th>\n",
       "      <td>1</td>\n",
       "      <td>1</td>\n",
       "      <td>7027.511294</td>\n",
       "      <td>42</td>\n",
       "      <td>6</td>\n",
       "      <td>0</td>\n",
       "      <td>199</td>\n",
       "      <td>2</td>\n",
       "      <td>451</td>\n",
       "    </tr>\n",
       "    <tr>\n",
       "      <th>1</th>\n",
       "      <td>1</td>\n",
       "      <td>4</td>\n",
       "      <td>754.159807</td>\n",
       "      <td>7</td>\n",
       "      <td>6</td>\n",
       "      <td>0</td>\n",
       "      <td>199</td>\n",
       "      <td>1</td>\n",
       "      <td>241</td>\n",
       "    </tr>\n",
       "    <tr>\n",
       "      <th>2</th>\n",
       "      <td>1</td>\n",
       "      <td>8</td>\n",
       "      <td>6723.470560</td>\n",
       "      <td>46</td>\n",
       "      <td>6</td>\n",
       "      <td>0</td>\n",
       "      <td>199</td>\n",
       "      <td>2</td>\n",
       "      <td>475</td>\n",
       "    </tr>\n",
       "    <tr>\n",
       "      <th>3</th>\n",
       "      <td>1</td>\n",
       "      <td>10</td>\n",
       "      <td>5809.911100</td>\n",
       "      <td>32</td>\n",
       "      <td>6</td>\n",
       "      <td>0</td>\n",
       "      <td>199</td>\n",
       "      <td>2</td>\n",
       "      <td>391</td>\n",
       "    </tr>\n",
       "    <tr>\n",
       "      <th>4</th>\n",
       "      <td>1</td>\n",
       "      <td>11</td>\n",
       "      <td>7003.499363</td>\n",
       "      <td>56</td>\n",
       "      <td>6</td>\n",
       "      <td>0</td>\n",
       "      <td>199</td>\n",
       "      <td>3</td>\n",
       "      <td>535</td>\n",
       "    </tr>\n",
       "  </tbody>\n",
       "</table>\n",
       "</div>"
      ],
      "text/plain": [
       "   user_id  month  total_distance  total_duration  minute_price  \\\n",
       "0        1      1     7027.511294              42             6   \n",
       "1        1      4      754.159807               7             6   \n",
       "2        1      8     6723.470560              46             6   \n",
       "3        1     10     5809.911100              32             6   \n",
       "4        1     11     7003.499363              56             6   \n",
       "\n",
       "   start_ride_price  subscription_fee  ride_count  monthly_income  \n",
       "0                 0               199           2             451  \n",
       "1                 0               199           1             241  \n",
       "2                 0               199           2             475  \n",
       "3                 0               199           2             391  \n",
       "4                 0               199           3             535  "
      ]
     },
     "execution_count": 54,
     "metadata": {},
     "output_type": "execute_result"
    }
   ],
   "source": [
    "users_grouped['monthly_income'] = (users_grouped['start_ride_price'] * users_grouped['ride_count'] \n",
    "                                   + users_grouped['minute_price'] * users_grouped['total_duration'] \n",
    "                                   + users_grouped['subscription_fee']\n",
    "                                  )\n",
    "users_grouped.head()"
   ]
  },
  {
   "cell_type": "code",
   "execution_count": 55,
   "id": "15ccc3f6-e8ee-4a94-ac84-ccef0d852588",
   "metadata": {},
   "outputs": [
    {
     "data": {
      "text/plain": [
       "array([199,   0])"
      ]
     },
     "execution_count": 55,
     "metadata": {},
     "output_type": "execute_result"
    }
   ],
   "source": [
    "users_grouped['subscription_fee'].unique()"
   ]
  },
  {
   "cell_type": "code",
   "execution_count": 56,
   "id": "902aec1e-8b06-4b74-8573-6f2db62a7ce5",
   "metadata": {},
   "outputs": [
    {
     "data": {
      "text/plain": [
       "count    11331.000000\n",
       "mean       342.303504\n",
       "std        153.875346\n",
       "min         58.000000\n",
       "25%        234.000000\n",
       "50%        319.000000\n",
       "75%        415.000000\n",
       "max       1444.000000\n",
       "Name: monthly_income, dtype: float64"
      ]
     },
     "execution_count": 56,
     "metadata": {},
     "output_type": "execute_result"
    }
   ],
   "source": [
    "users_grouped['monthly_income'].describe()"
   ]
  },
  {
   "cell_type": "markdown",
   "id": "db0e9dcb-43c6-4663-b9e0-055393ab01a8",
   "metadata": {},
   "source": [
    "**Вывод:**  \n",
    "Для подсчета выручки от каждого пользователя, были проведены следующие действия: \n",
    "\n",
    "    - Создан датафрейм с агрегированными данными о поездках на основе датафрейма с объединёнными данными: найдено суммарное расстояние, количество поездок и суммарное время для каждого пользователя за каждый месяц.\n",
    "    - Преобразован тип данных float столбца duration в тип int.\n",
    "    - Добавлен столбец с месячной выручкой от каждого пользователя.  \n",
    "Минимальная месячная выручка составляет 58р, максимальная - 1444р, а средняя выручка по всем пользователям равна 319р."
   ]
  },
  {
   "cell_type": "markdown",
   "id": "41545ac0",
   "metadata": {},
   "source": [
    "#### Шаг 6. Проверка гипотез"
   ]
  },
  {
   "cell_type": "markdown",
   "id": "1f7c6bd4-c329-4608-a888-751f12086129",
   "metadata": {},
   "source": [
    "**6.1 Проверим гипотезу. Используем исходные данные о продолжительности каждой сессии — отдельно для подписчиков и тех, у кого нет подписки. Тратят ли пользователи с подпиской больше времени на поездки? Сформулируем нулевую гипотезу так - H<sub>0</sub> = Среднее время поездки у пользователей с подпиской и без подписки одинаковое. H<sub>1</sub>= Среднее время на поездку для пользователей с подпиской больше, чем среднее время на поездку для пользователей без подписки.**"
   ]
  },
  {
   "cell_type": "code",
   "execution_count": 57,
   "id": "3ad4aa73-6e32-4f43-aac6-8cc3dfa75bf2",
   "metadata": {},
   "outputs": [
    {
     "name": "stdout",
     "output_type": "stream",
     "text": [
      "p-значение: 1.2804098316645618e-34\n",
      "Отвергаем нулевую гипотезу\n"
     ]
    }
   ],
   "source": [
    "#уровень статистической значимости\n",
    "alpha = 0.05\n",
    "results = st.ttest_ind(\n",
    "    users_with_subscription['duration'],\n",
    "    users_no_subscription['duration'],\n",
    "    alternative='greater'\n",
    ")\n",
    "print('p-значение:', results.pvalue)\n",
    "\n",
    "#вывод об отвержении или неотвержении нулевой гипотезы\n",
    "if results.pvalue < alpha:\n",
    "    print('Отвергаем нулевую гипотезу')\n",
    "else:\n",
    "    print('Не получилось отвергнуть нулевую гипотезу')"
   ]
  },
  {
   "cell_type": "markdown",
   "id": "aba2c8aa-cd94-4e82-8bfd-7ee745c2078d",
   "metadata": {},
   "source": [
    "**Вывод:**\n",
    " Гипотеза о равенстве среднего времени поездки у пользователей с подпиской и без подписки была отвергнута. По результатам проведенного t-теста можно утверждать, что пользователи с подпиской действительно тратят больше времени на поездки, чем пользователи без подписки. Альтернативная гипотеза, что среднее время поездки у пользователей с подпиской больше, чем у пользователей без подписки, подтверждается."
   ]
  },
  {
   "cell_type": "markdown",
   "id": "21769681-7e21-4768-bd1d-896cd7a89504",
   "metadata": {},
   "source": [
    "**6.2 Расстояние одной поездки в 3130 метров — оптимальное с точки зрения износа самоката. Гипотеза - Среднее расстояние одной поездки для пользователей с подпиской не превышает 3130 метров. H<sub>0</sub> = среднее расстояние, которое проезжают пользователи с подпиской за одну поездку равна 3130 метров. H<sub>1</sub> =  Среднее расстояние поездки для пользователей с подпиской больше 3130 метров.**"
   ]
  },
  {
   "cell_type": "code",
   "execution_count": 58,
   "id": "5dccd583-c9ea-49bb-a4a3-104fc36223b3",
   "metadata": {},
   "outputs": [
    {
     "name": "stdout",
     "output_type": "stream",
     "text": [
      "Среднее выборки: 3115.4453880370247\n",
      "p-значение: 0.9195368847849785\n",
      "Не получилось отвергнуть нулевую гипотезу\n"
     ]
    }
   ],
   "source": [
    "print('Среднее выборки:', users_with_subscription['distance'].mean())\n",
    "value = 3130\n",
    "#уровень статистической значимости\n",
    "alpha = 0.05\n",
    "results = st.ttest_1samp(\n",
    "    users_with_subscription['distance'], \n",
    "    value,\n",
    "    alternative='greater'\n",
    ")\n",
    "print('p-значение:', results.pvalue)\n",
    "\n",
    "#вывод об отвержении или неотвержении нулевой гипотезы\n",
    "if results.pvalue < alpha:\n",
    "    print('Отвергаем нулевую гипотезу')\n",
    "else:\n",
    "    print('Не получилось отвергнуть нулевую гипотезу')"
   ]
  },
  {
   "cell_type": "markdown",
   "id": "3b8d81b2-03ac-41d7-b229-0c3fdc13396d",
   "metadata": {},
   "source": [
    "**Вывод:**\n",
    "Выборочное среднее равно 3115.445м и отличается от 3130м - предложенного в нулевой гипотезе значения. Но это отличие недостаточно велико, чтобы сделать вывод о том, что истинное среднее ГС отличается от 3130м. Таким образом, гипотезу о том, что среднее расстояние, которое проезжают пользователи с подпиской за одну поездку, равна 3130 метров или больше не отвергаем."
   ]
  },
  {
   "cell_type": "markdown",
   "id": "df2672b9-9ab8-4650-9637-152ab2697fc4",
   "metadata": {},
   "source": [
    "**6.3 Гипотеза - Помесячная выручка от пользователей с подпиской выше, чем выручка от пользователей без подписки.  H<sub>0</sub> = помесячная выручка от пользователей с подпиской равна выручке от пользователей без подписки. H<sub>1</sub> = Помесячная выручка от пользователей с подпиской больше выручки от пользователей без подписки.**"
   ]
  },
  {
   "cell_type": "code",
   "execution_count": 59,
   "id": "80376acb-89ec-4cff-8b2f-04a5b9f7acb0",
   "metadata": {},
   "outputs": [],
   "source": [
    "ultra = users_grouped.query('subscription_fee == 199')\n",
    "free = users_grouped.query('subscription_fee == 0')"
   ]
  },
  {
   "cell_type": "code",
   "execution_count": 60,
   "id": "535d7c3e-4ffe-44b1-929d-d10b6e641187",
   "metadata": {},
   "outputs": [
    {
     "name": "stdout",
     "output_type": "stream",
     "text": [
      "Среднее выборки пользователей с подпиской: 362.7921906022502\n",
      "Среднее выборки пользователей без подписки: 328.6413651073845\n",
      "p-значение: 1.8850394384715216e-31\n",
      "Отвергаем нулевую гипотезу\n"
     ]
    }
   ],
   "source": [
    "print('Среднее выборки пользователей с подпиской:', ultra['monthly_income'].mean())\n",
    "print('Среднее выборки пользователей без подписки:', free['monthly_income'].mean())\n",
    "#уровень статистической значимости\n",
    "alpha = 0.05\n",
    "results = st.ttest_ind(\n",
    "    ultra['monthly_income'],\n",
    "    free['monthly_income'],\n",
    "    alternative='greater'\n",
    ")\n",
    "print('p-значение:', results.pvalue)\n",
    "\n",
    "#вывод об отвержении или неотвержении нулевой гипотезы\n",
    "if results.pvalue < alpha:\n",
    "    print('Отвергаем нулевую гипотезу')\n",
    "else:\n",
    "    print('Не получилось отвергнуть нулевую гипотезу')"
   ]
  },
  {
   "cell_type": "markdown",
   "id": "88b93eae-cdc0-41b9-86ae-59dc9d4ebfea",
   "metadata": {},
   "source": [
    "**Вывод:** \n",
    "Так как p-значение значительно меньше статистической значимости 0.05, нулевая гипотеза отвергается. Можно сделать вывод, что пользователи с подпиской приносят в среднем больший доход по сравнению с пользователями без подпиской"
   ]
  },
  {
   "cell_type": "markdown",
   "id": "2a4c10ce-e8dd-4981-b0e4-cd033f63a57c",
   "metadata": {},
   "source": [
    "**6.4 Представим такую ситуацию: техническая команда сервиса обновила сервера, с которыми взаимодействует мобильное приложение. Она надеется, что из-за этого количество обращений в техподдержку значимо снизилось. Некоторый файл содержит для каждого пользователя данные о количестве обращений до обновления и после него. Какой тест понадобился бы для проверки этой гипотезы?**"
   ]
  },
  {
   "cell_type": "markdown",
   "id": "197565d5-7ff8-4473-8a7f-0310882ae6c5",
   "metadata": {},
   "source": [
    "Так как мы имеем дело с зависимыми выборками, то есть рассматривается одна и та же выборка и переменная - количество обращений, измерена два раза для одних и тех же пользователей, до и после обновления сервера, то нужно использовать двухвыборочный t-тест для зависимых выборок scipy.stats.ttest_rel. Аргументы: наборы данных - парные выборки до и после изменения.  \n",
    "Так как выдвигается гипотеза о том, что количество обращений в техподдержку снизилось после обновления сервера, то это одностороння гипотеза. В параметре alternative нужно указать 'less'."
   ]
  },
  {
   "cell_type": "markdown",
   "id": "7e9753a8",
   "metadata": {},
   "source": [
    "<div class=\"alert alert-warning\" style=\"border-radius: 15px; box-shadow: 4px 4px 4px; border: 1px solid \">\n",
    "<h2> Комментарий ревьюера v_1: <a class=\"tocSkip\"> </h2>\n",
    "    \n",
    "⚠️ Подходит тест st.ttest_rel(). Но в задании еще написано: \"Она надеется, что из-за этого количество обращений в техподдержку значимо снизилось\". Какая должна быть гипотеза, односторонняя или двухсторонняя? Какие должны быть аргументы в тесте, что нужно указать в alternative?"
   ]
  },
  {
   "cell_type": "markdown",
   "id": "578dc02a-38e8-44ee-a405-507941ef8546",
   "metadata": {},
   "source": [
    "<div class=\"alert alert-info\"  style=\"border-radius: 15px; box-shadow: 4px 4px 4px; border: 1px solid \">\n",
    "    \n",
    "<h2>Комментарий студента v_1: <a class=\"tocSkip\"> </h2>\n",
    "готово"
   ]
  },
  {
   "cell_type": "markdown",
   "id": "ed74a680",
   "metadata": {},
   "source": [
    "<div class=\"alert alert-success\" style=\"border-radius: 15px; box-shadow: 4px 4px 4px; border: 1px solid \">\n",
    "<h2> Комментарий ревьюера v_2: <a class=\"tocSkip\"> </h2>\n",
    "    \n",
    "✅ Да, здесь левосторонняя гипотеза"
   ]
  },
  {
   "cell_type": "markdown",
   "id": "d7d1bbb7-1f60-4ce1-804b-6d2633f5d3d7",
   "metadata": {},
   "source": [
    "**Вывод:**  \n",
    "Были проверены следующие гипотезы:  \n",
    "\n",
    "    - Тратят ли пользователи с подпиской больше времени на поездки, чем пользователи без подписки.  \n",
    "    - Среднее расстояние, которое проезжают пользователи с подпиской за одну поездку, не превышает 3130 метров.\n",
    "    - Помесячная выручка от пользователей с подпиской по месяцам выше, чем выручка от пользователей без подписки.  \n",
    "    \n",
    "Получены следующие результаты:    \n",
    "\n",
    "    - Гипотеза, что среднее время поездки у пользователей с подпиской больше, чем у пользователей без подписки, подтверждается.\n",
    "    - Гипотезу о том, что среднее расстояние, которое проезжают пользователи с подпиской за одну поездку, не превышает 3130 метров не отвергаем.\n",
    "    - Пользователи с подпиской приносят в среднем больший доход по сравнению с пользователями без подпиской \n",
    "\n",
    "Также проанализирована гипотетическая ситуация: техническая команда сервиса обновила сервера, с которыми взаимодействует мобильное приложение. Она надеется, что из-за этого количество обращений в техподдержку значимо снизилось. Некоторый файл содержит для каждого пользователя данные о количестве обращений до обновления и после него. Какой тест понадобился бы для проверки этой гипотезы?  \n",
    "\n",
    "В данном случае, сделан вывод: Так как мы имеем дело с зависимыми выборками, то есть рассматривается одна и та же выборка и переменная - количество обращений, измерена два раза для одних и тех же пользователей, до и после обновления сервера, то нужно использовать двухвыборочный t-тест для зависимых выборок scipy.stats.ttest_rel. Аргументы: наборы данных - парные выборки до и после изменения.  \n",
    "Так как выдвигается гипотеза о том, что количество обращений в техподдержку снизилось после обновления сервера, то это одностороння гипотеза. В параметре alternative нужно указать 'less'."
   ]
  },
  {
   "cell_type": "markdown",
   "id": "61213c5e",
   "metadata": {},
   "source": [
    "#### Шаг 7. Распределения"
   ]
  },
  {
   "cell_type": "markdown",
   "id": "a145e1ef-db1e-4034-99e9-fc4246dfa823",
   "metadata": {},
   "source": [
    "7.1 Отделу маркетинга GoFast поставили задачу: нужно провести акцию с раздачей промокодов на один бесплатный месяц подписки, в рамках которой как минимум 100 существующих клиентов должны продлить эту подписку. То есть по завершении периода действия подписки пользователь может либо отказаться от неё, либо продлить, совершив соответствующий платёж. Эта акция уже проводилась ранее и по итогу выяснилось, что после бесплатного пробного периода подписку продлевают 10 % пользователей. Выясните, какое минимальное количество промокодов нужно разослать, чтобы вероятность не выполнить план была примерно 5 %. Подберите параметры распределения, описывающего эту ситуацию, постройте график распределения и сформулируйте ответ на вопрос о количестве промокодов."
   ]
  },
  {
   "cell_type": "code",
   "execution_count": 61,
   "id": "52fc75d8-5b2f-4c47-8b51-bcd121715d0d",
   "metadata": {},
   "outputs": [
    {
     "name": "stdout",
     "output_type": "stream",
     "text": [
      "Минимальное количество промокодов, чтобы вероятность не выполнить план была ≈5%: 1161\n"
     ]
    },
    {
     "name": "stderr",
     "output_type": "stream",
     "text": [
      "/opt/conda/lib/python3.9/site-packages/scipy/stats/_discrete_distns.py:78: RuntimeWarning: divide by zero encountered in _binom_pdf\n",
      "  return _boost._binom_pdf(x, n, p)\n"
     ]
    },
    {
     "data": {
      "image/png": "[encoded data removed]",
      "text/plain": [
       "<Figure size 720x432 with 1 Axes>"
      ]
     },
     "metadata": {
      "needs_background": "light"
     },
     "output_type": "display_data"
    }
   ],
   "source": [
    "p = 0.1 # вероятность успеха\n",
    "k=100 #количество успехов\n",
    "N = 100\n",
    "alpha = 0.05\n",
    "distr = []\n",
    "\n",
    "while True:\n",
    "    # Рассчитываем вероятность того, что количество успехов будет меньше 100\n",
    "    probability = binom.cdf(k - 1, N, p)\n",
    "    \n",
    "    # Проверяем, удовлетворяет ли это условие\n",
    "    if probability <= alpha:\n",
    "        break\n",
    "    N += 1\n",
    "    \n",
    "\n",
    "print(f\"Минимальное количество промокодов, чтобы вероятность не выполнить план была ≈5%: {N}\")\n",
    "distr = []\n",
    "\n",
    "for i in range(0, N + 1):\n",
    "    current_value = binom.pmf(i, N, p)\n",
    "    distr.append(current_value)\n",
    "    \n",
    "plt.figure(figsize=(10, 6))    \n",
    "plt.bar(range(0, N + 1), distr)\n",
    "plt.xlabel('Количество успешных исходов')\n",
    "plt.ylabel('Вероятность')\n",
    "plt.title(f'Биномиальное распределение для N={N}, p={p}');\n",
    "plt.axvline(k, color='red', linestyle='--')\n",
    "plt.show()"
   ]
  },
  {
   "cell_type": "markdown",
   "id": "040deabd-b222-4f77-be4d-5f7a23f84163",
   "metadata": {},
   "source": [
    "**Вывод:**  \n",
    "В результате проделанных операций, было выяснено, что минимальное количество промокодов, чтобы вероятность выполнить план была 95% - 1161 штук. Красная линия на графике показывает значение 100 продлений, а основная часть вероятности (больше 95%) лежит справа от этой линии, что означает, что в большинстве случаев число продлений будет больше или равно 100."
   ]
  },
  {
   "cell_type": "markdown",
   "id": "ee54cd1f-9aac-43c0-bf8e-b51d19c2e118",
   "metadata": {},
   "source": [
    "7.2 Отдел маркетинга рассылает клиентам push-уведомления в мобильном приложении. Клиенты могут открыть его или не открывать. Известно, что уведомления открывают около 40 % получивших клиентов. Отдел планирует разослать 1 млн уведомлений. С помощью аппроксимации постройте примерный график распределения и оцените вероятность того, что уведомление откроют не более 399,5 тыс. пользователей."
   ]
  },
  {
   "cell_type": "code",
   "execution_count": 62,
   "id": "dca63912-3226-463d-8bf7-d5e73015d91d",
   "metadata": {},
   "outputs": [
    {
     "data": {
      "image/png": "[encoded data removed]",
      "text/plain": [
       "<Figure size 432x288 with 1 Axes>"
      ]
     },
     "metadata": {
      "needs_background": "light"
     },
     "output_type": "display_data"
    },
    {
     "name": "stdout",
     "output_type": "stream",
     "text": [
      "Условие выполняется\n"
     ]
    }
   ],
   "source": [
    "# Функция для создания массива значений\n",
    "def linspace(start, stop, num):\n",
    "    step = (stop - start) / (num - 1)\n",
    "    return [start + step * i for i in range(num)]\n",
    "\n",
    "# Параметры биномиального распределения\n",
    "n = 1000000\n",
    "p = 0.4\n",
    "\n",
    "# Параметры нормального распределения\n",
    "mu = n * p\n",
    "sigma = np.sqrt(n * p * (1 - p))\n",
    "\n",
    "# Границы промежутка для графика\n",
    "left = int(mu - 4 * sigma)\n",
    "right = int(mu + 4 * sigma)\n",
    "\n",
    "# Значения для биномиального распределения\n",
    "x = list(range(max(0, left), right + 1))\n",
    "\n",
    "# Построение графика биномиального распределения\n",
    "ax = plt.subplot()\n",
    "ax.plot(x, binom.pmf(x, n, p), 'bo', ms=5, label='Биномиальное распределение')\n",
    "\n",
    "# Значения для нормального распределения\n",
    "x = linspace(left, right, 100)\n",
    "ax.plot(x, norm.pdf(x, mu, sigma), 'r-', lw=3, alpha=0.5, label='Нормальное распределение')\n",
    "\n",
    "# Подписи по оси x\n",
    "x_ticks = list(range(int(mu - 3 * sigma), int(mu + 3 * sigma) + 1, int(sigma)))\n",
    "ax.set_xticks(x_ticks)\n",
    "\n",
    "# Настройка графика\n",
    "ax.legend(loc='best')\n",
    "plt.title('Аппроксимация биномиального распределения нормальным')\n",
    "plt.xlabel('Количество открытых уведомлений')\n",
    "plt.ylabel('Плотность вероятности')\n",
    "plt.grid(True)\n",
    "plt.show()\n",
    "\n",
    "# Проверка условия аппроксимации\n",
    "if (mu - 3 * sigma >= 0) and (mu + 3 * sigma <= n):\n",
    "    print('Условие выполняется')\n",
    "else:\n",
    "    print('Условие не выполняется')"
   ]
  },
  {
   "cell_type": "code",
   "execution_count": 63,
   "id": "c06c43ed-cf25-42c9-9fcf-6c9a7b19f586",
   "metadata": {},
   "outputs": [
    {
     "data": {
      "text/plain": [
       "0.15371708296369768"
      ]
     },
     "execution_count": 63,
     "metadata": {},
     "output_type": "execute_result"
    }
   ],
   "source": [
    "n = 1000000\n",
    "p = 0.4\n",
    "\n",
    "# зададим мат.ожидание и ст.отклонение нормального распределения равными\n",
    "# мат.ожиданию и ст.отклонению биномиального распределения\n",
    "mu = n * p\n",
    "sigma = sqrt(n * p * (1 - p))\n",
    "\n",
    "# задаём нормальное распределение\n",
    "distr = st.norm(mu, sigma) \n",
    "\n",
    "# считаем вероятность хвоста слева от 399,5 тыс.\n",
    "result = distr.cdf(399500)\n",
    "result"
   ]
  },
  {
   "cell_type": "markdown",
   "id": "ee07642d-83f0-4691-946c-1149d2748fa0",
   "metadata": {},
   "source": [
    "**Вывод:**  \n",
    "В результате проделанных операций, было выяснено, что примерно 15.37% вероятности того, что количество открытий будет равна 399,5 тыс. или меньше. Значит, существует большая вероятность, что фактическое число открытий будет больше."
   ]
  },
  {
   "cell_type": "markdown",
   "id": "f7730031-261f-449f-98ae-901bb5e43d35",
   "metadata": {},
   "source": [
    "**Общий вывод:**  \n",
    "В ходе анализа данных сервиса GoFast были проведены следующие операции:\n",
    "1. Предобработка данных:\n",
    "    - проверены столбцы таблиц на наличие пропущенных значений. Пропуски не обнаружены.  \n",
    "    - проведен поиск дубликатов. Дубликаты строк найдены только в таблице users и удалены.  \n",
    "    - таблице `rides` столбец `date` преобразован в тип дата и столбец `duration` в тип `int`.\n",
    "2. Исследовательский анализ данных. Проверены определенные параметры таблиц, построены их гистограммы и сделаны следующие выводы:\n",
    "    - *Частота встречаемости городов.* Величина является категориальной переменной, поэтому для нее построена столбчатая диаграмма. Выявлено, что в городе \"Пятигорск\" самое большое количество поездок - 219, а в городе \"Москва\" меньше - 168. Сервис больше всего популярен в городе \"Пятигорск\".\n",
    "    - *Соотношение пользователей с подпиской и без подписки.* Для визуализации соотношения, построена диаграмма типа pie. Пользователей без подписки больше - примерно 54.43% от общего числа пользователей, пользователей с подпиской меньше - 45.57% от общего числа. Разница составляет 8.86%.\n",
    "    - *Возраст пользователей.* Эта величина относится к количественной дискретной переменной. Для визуализации построена гистограмма. Гистограмма имеет нормальное распределение со средним значением в 25 лет, по обе строны от этого значения количество пользователей меньшего или большего возраста идет на спад. Основная масса пользователей находится в возрасте от 22-х до 28-ми лет.\n",
    "    - *Расстояние поездки.* Эта величина относится к количественной непрерывной величине. Ее гистограмма напоминает нормальное распределение, но с двумя пиками. Среднее значение составляет 3.1 км примерно. Большое количество пользователей берут самокать для расстояний от 2.5км до 3.8км. Однако есть маленькие значения расстояний. Нужно будет выяснить, это ошибки в данных или все-таки есть пользователи, которые берут самокат на маленькие расстояния.\n",
    "    - *Продолжительность поездки.* Эта величина относится к количественной непрерывной величине. Ее гистограмма имеет нормальное непрерыввное распределение с выбросом. Большинство поездок имеют интервал от 14 до 22 минут. Среднее значение примерно 18 минут. Однако можно заметить, что в данных есть короткие промежутки времени в 30 секунд. По таблице с отсортированным столбцом `duration` видно, что есть пользователи, которые за 30 секнд проезжают минимум 4030м. Это выглядит как аномалия, которая, вероятно, связана с ошибками в данных.\n",
    "\n",
    "3. Объеденены данные из трех таблиц `users`, `rides`, `subscriptions`. Для выявления разницы в использовании сервиса, данные разделили на отдельные датафреймы с данными о пользователях с подпиской и без подписки. В результате отдельной визуализации данных, было выяснено следующее:  \n",
    "    - Распределение расстояний поездок для пользователей с подпиской имеет два пика. Первый пик со средним значением в 1 км имеет примерно 20 поездок из выборки. Второй пик со средним значением 3-3.2 км чуть больше 140 поездок из выборки.\n",
    "    - Распределение продолжительности поездок для пользователей с подпиской имеет нормальное распределение со средним значением в 19 минут для 100 поездок.\n",
    "    - Распределение расстоянии поездок для пользователей без подписки имеет два пика. Первый пик со средним значением в 500 м имеет примерно 55 поездок из выборки. Второй пик со средним значением 2.5 км чуть больше 170 поездок из выборки\n",
    "    - Распределение продолжительности поездок для пользователей с подпиской имеет нормальное распределение с одним выбросом меньше 1 минуты. Нормальное распределение имеет среднее значение в 18 минут для 140 поездок. \n",
    "\n",
    "   Поездки на большие расстояния пользуются популярностю у пользователей с подпиской. А вот продолжительность поездки у обеих групп практически одинаковая, за исключением того, что у пользователей без подписки имеется выброс меньше 1 минуты для 100 поездок. По гистограмме видно, что пользователей без подписки больше, чем с подпиской.\n",
    "\n",
    "4. Подсчет выручки. Были проведены следующие действия:  \n",
    "    - Создан датафрейм с агрегированными данными о поездках на основе датафрейма с объединёнными данными: найдено суммарное расстояние, количество поездок и суммарное время для каждого пользователя за каждый месяц.\n",
    "    - Преобразован тип данных float столбца duration в тип int.\n",
    "    - Добавлен столбец с месячной выручкой от каждого пользователя.  \n",
    "Минимальная месячная выручка составляет 58р, максимальная - 1444р, а средняя выручка по всем пользователям равна 319р.\n",
    "\n",
    "5. Проверка гипотез. Были проверены следующие гипотезы:\n",
    "\n",
    "    - Тратят ли пользователи с подпиской больше времени на поездки, чем пользователи без подписки.  \n",
    "    - Среднее расстояние, которое проезжают пользователи с подпиской за одну поездку, не превышает 3130 метров.\n",
    "    - Помесячная выручка от пользователей с подпиской по месяцам выше, чем выручка от пользователей без подписки.  \n",
    "    \n",
    "Получены следующие результаты:    \n",
    "\n",
    "    - Гипотеза, что среднее время поездки у пользователей с подпиской больше, чем у пользователей без подписки, подтверждается.\n",
    "    - Гипотезу о том, что среднее расстояние, которое проезжают пользователи с подпиской за одну поездку, не превышает 3130 метров не отвергаем.\n",
    "    - Пользователи с подпиской приносят в среднем больший доход по сравнению с пользователями без подпиской \n",
    "\n",
    "Также проанализирована гипотетическая ситуация: техническая команда сервиса обновила сервера, с которыми взаимодействует мобильное приложение. Она надеется, что из-за этого количество обращений в техподдержку значимо снизилось. Некоторый файл содержит для каждого пользователя данные о количестве обращений до обновления и после него. Какой тест понадобился бы для проверки этой гипотезы?  \n",
    "\n",
    "В данном случае, сделан вывод: Так как мы имеем дело с зависимыми выборками, то есть рассматривается одна и та же выборка и переменная - количество обращений, измерена два раза для одних и тех же пользователей, до и после обновления сервера, то нужно использовать двухвыборочный t-тест для зависимых выборок scipy.stats.ttest_rel. Аргументы: наборы данных - парные выборки до и после изменения.  \n",
    "Так как выдвигается гипотеза о том, что количество обращений в техподдержку снизилось после обновления сервера, то это одностороння гипотеза. В параметре alternative нужно указать 'less'.\n",
    "\n",
    "6. Распределения. Были решены две задачи:\n",
    "    1. Отделу маркетинга GoFast поставили задачу: нужно провести акцию с раздачей промокодов на один бесплатный месяц подписки, в рамках которой как минимум 100 существующих клиентов должны продлить эту подписку. То есть по завершении периода действия подписки пользователь может либо отказаться от неё, либо продлить, совершив соответствующий платёж. Эта акция уже проводилась ранее и по итогу выяснилось, что после бесплатного пробного периода подписку продлевают 10 % пользователей. Выясните, какое минимальное количество промокодов нужно разослать, чтобы вероятность не выполнить план была примерно 5 %. Подберите параметры распределения, описывающего эту ситуацию, постройте график распределения и сформулируйте ответ на вопрос о количестве промокодов.\n",
    "       - В результате проделанных операций, построен график и было выяснено, что минимальное количество промокодов, чтобы вероятность выполнить план была 95% - 1161 штук. Красная линия на графике показывает значение 100 продлений, а основная часть вероятности (больше 95%) лежит справа от этой линии, что означает, что в большинстве случаев число продлений будет больше или равно 100.\n",
    "    2. Отдел маркетинга рассылает клиентам push-уведомления в мобильном приложении. Клиенты могут открыть его или не открывать. Известно, что уведомления открывают около 40 % получивших клиентов. Отдел планирует разослать 1 млн уведомлений. С помощью аппроксимации постройте примерный график распределения и оцените вероятность того, что уведомление откроют не более 399,5 тыс. пользователей.\n",
    "       - В результате проделанных операций, был построен график и было выяснено, что примерно 15.37% вероятности того, что количество открытий будет равна 399,5 тыс. или меньше. Значит, существует большая вероятность, что фактическое число открытий будет больше.\n",
    "\n",
    "Пользователи с подпиской являются более выгодными для сервиса аренды самокатов по сравнению с пользователями без подписки. Подписчики не только тратят больше времени на поездки, но и приносят больше дохода."
   ]
  }
 ],
 "metadata": {
  "ExecuteTimeLog": [
   {
    "duration": 1255,
    "start_time": "2024-08-28T10:42:24.340Z"
   },
   {
    "duration": 179,
    "start_time": "2024-08-28T10:42:25.598Z"
   },
   {
    "duration": 14,
    "start_time": "2024-08-28T10:42:25.782Z"
   },
   {
    "duration": 22,
    "start_time": "2024-08-28T10:42:25.797Z"
   },
   {
    "duration": 29,
    "start_time": "2024-08-28T10:42:25.821Z"
   },
   {
    "duration": 44,
    "start_time": "2024-08-28T10:42:25.853Z"
   },
   {
    "duration": 18,
    "start_time": "2024-08-28T10:42:25.898Z"
   },
   {
    "duration": 11,
    "start_time": "2024-08-28T10:42:25.918Z"
   },
   {
    "duration": 20,
    "start_time": "2024-08-28T10:42:25.931Z"
   },
   {
    "duration": 10,
    "start_time": "2024-08-28T10:42:25.953Z"
   },
   {
    "duration": 11,
    "start_time": "2024-08-28T10:42:25.965Z"
   },
   {
    "duration": 7,
    "start_time": "2024-08-28T10:42:25.978Z"
   },
   {
    "duration": 12,
    "start_time": "2024-08-28T10:42:26.008Z"
   },
   {
    "duration": 10,
    "start_time": "2024-08-28T10:42:26.022Z"
   },
   {
    "duration": 24,
    "start_time": "2024-08-28T10:42:26.034Z"
   },
   {
    "duration": 27,
    "start_time": "2024-08-28T10:42:26.059Z"
   },
   {
    "duration": 31,
    "start_time": "2024-08-28T10:42:26.087Z"
   },
   {
    "duration": 6,
    "start_time": "2024-08-28T10:42:26.120Z"
   },
   {
    "duration": 29,
    "start_time": "2024-08-28T10:42:26.127Z"
   },
   {
    "duration": 13,
    "start_time": "2024-08-28T10:42:26.158Z"
   },
   {
    "duration": 5,
    "start_time": "2024-08-28T10:42:26.173Z"
   },
   {
    "duration": 191,
    "start_time": "2024-08-28T10:42:26.180Z"
   },
   {
    "duration": 6,
    "start_time": "2024-08-28T10:42:26.373Z"
   },
   {
    "duration": 102,
    "start_time": "2024-08-28T10:42:26.380Z"
   },
   {
    "duration": 6,
    "start_time": "2024-08-28T10:42:26.484Z"
   },
   {
    "duration": 208,
    "start_time": "2024-08-28T10:42:26.492Z"
   },
   {
    "duration": 435,
    "start_time": "2024-08-28T10:42:26.711Z"
   },
   {
    "duration": 424,
    "start_time": "2024-08-28T10:42:27.147Z"
   },
   {
    "duration": 38,
    "start_time": "2024-08-28T10:42:27.574Z"
   },
   {
    "duration": 133,
    "start_time": "2024-08-28T10:42:27.618Z"
   },
   {
    "duration": 9,
    "start_time": "2024-08-28T10:42:27.753Z"
   },
   {
    "duration": 427,
    "start_time": "2024-08-28T10:42:27.763Z"
   },
   {
    "duration": 26,
    "start_time": "2024-08-28T10:42:28.192Z"
   },
   {
    "duration": 9,
    "start_time": "2024-08-28T10:42:28.220Z"
   },
   {
    "duration": 508,
    "start_time": "2024-08-28T10:42:28.230Z"
   },
   {
    "duration": 10,
    "start_time": "2024-08-28T10:42:28.740Z"
   },
   {
    "duration": 442,
    "start_time": "2024-08-28T10:42:28.751Z"
   },
   {
    "duration": 18,
    "start_time": "2024-08-28T10:42:29.195Z"
   },
   {
    "duration": 532,
    "start_time": "2024-08-28T10:42:29.217Z"
   },
   {
    "duration": 9,
    "start_time": "2024-08-28T10:42:29.750Z"
   },
   {
    "duration": 18,
    "start_time": "2024-08-28T10:42:29.760Z"
   },
   {
    "duration": 38,
    "start_time": "2024-08-28T10:42:29.779Z"
   },
   {
    "duration": 11,
    "start_time": "2024-08-28T10:42:29.819Z"
   },
   {
    "duration": 18,
    "start_time": "2024-08-28T10:42:29.832Z"
   },
   {
    "duration": 9,
    "start_time": "2024-08-28T10:42:29.852Z"
   },
   {
    "duration": 6,
    "start_time": "2024-08-28T10:42:29.863Z"
   },
   {
    "duration": 38,
    "start_time": "2024-08-28T10:42:29.871Z"
   },
   {
    "duration": 15,
    "start_time": "2024-08-28T10:42:29.912Z"
   },
   {
    "duration": 10,
    "start_time": "2024-08-28T10:42:29.929Z"
   },
   {
    "duration": 17,
    "start_time": "2024-08-28T10:42:29.941Z"
   },
   {
    "duration": 9,
    "start_time": "2024-08-28T10:42:29.959Z"
   },
   {
    "duration": 40,
    "start_time": "2024-08-28T10:42:29.970Z"
   },
   {
    "duration": 2252,
    "start_time": "2024-08-28T10:42:30.013Z"
   },
   {
    "duration": 259,
    "start_time": "2024-08-28T10:42:32.266Z"
   },
   {
    "duration": 8,
    "start_time": "2024-08-28T10:42:32.527Z"
   },
   {
    "duration": 118,
    "start_time": "2024-08-28T12:05:14.704Z"
   },
   {
    "duration": 6,
    "start_time": "2024-08-28T12:16:02.980Z"
   },
   {
    "duration": 1183,
    "start_time": "2024-08-28T12:19:18.811Z"
   },
   {
    "duration": 149,
    "start_time": "2024-08-28T12:19:19.997Z"
   },
   {
    "duration": 15,
    "start_time": "2024-08-28T12:19:20.147Z"
   },
   {
    "duration": 12,
    "start_time": "2024-08-28T12:19:20.163Z"
   },
   {
    "duration": 21,
    "start_time": "2024-08-28T12:19:20.178Z"
   },
   {
    "duration": 18,
    "start_time": "2024-08-28T12:19:20.201Z"
   },
   {
    "duration": 7,
    "start_time": "2024-08-28T12:19:20.221Z"
   },
   {
    "duration": 10,
    "start_time": "2024-08-28T12:19:20.229Z"
   },
   {
    "duration": 33,
    "start_time": "2024-08-28T12:19:20.241Z"
   },
   {
    "duration": 11,
    "start_time": "2024-08-28T12:19:20.276Z"
   },
   {
    "duration": 24,
    "start_time": "2024-08-28T12:19:20.289Z"
   },
   {
    "duration": 6,
    "start_time": "2024-08-28T12:19:20.314Z"
   },
   {
    "duration": 15,
    "start_time": "2024-08-28T12:19:20.322Z"
   },
   {
    "duration": 7,
    "start_time": "2024-08-28T12:19:20.340Z"
   },
   {
    "duration": 8,
    "start_time": "2024-08-28T12:19:20.349Z"
   },
   {
    "duration": 25,
    "start_time": "2024-08-28T12:19:20.358Z"
   },
   {
    "duration": 6,
    "start_time": "2024-08-28T12:19:20.384Z"
   },
   {
    "duration": 17,
    "start_time": "2024-08-28T12:19:20.392Z"
   },
   {
    "duration": 24,
    "start_time": "2024-08-28T12:19:20.411Z"
   },
   {
    "duration": 9,
    "start_time": "2024-08-28T12:19:20.436Z"
   },
   {
    "duration": 17,
    "start_time": "2024-08-28T12:19:20.447Z"
   },
   {
    "duration": 202,
    "start_time": "2024-08-28T12:19:20.465Z"
   },
   {
    "duration": 6,
    "start_time": "2024-08-28T12:19:20.668Z"
   },
   {
    "duration": 98,
    "start_time": "2024-08-28T12:19:20.676Z"
   },
   {
    "duration": 6,
    "start_time": "2024-08-28T12:19:20.776Z"
   },
   {
    "duration": 192,
    "start_time": "2024-08-28T12:19:20.783Z"
   },
   {
    "duration": 390,
    "start_time": "2024-08-28T12:19:20.977Z"
   },
   {
    "duration": 389,
    "start_time": "2024-08-28T12:19:21.368Z"
   },
   {
    "duration": 26,
    "start_time": "2024-08-28T12:19:21.759Z"
   },
   {
    "duration": 135,
    "start_time": "2024-08-28T12:19:21.786Z"
   },
   {
    "duration": 74,
    "start_time": "2024-08-28T12:19:21.922Z"
   },
   {
    "duration": 368,
    "start_time": "2024-08-28T12:19:21.998Z"
   },
   {
    "duration": 13,
    "start_time": "2024-08-28T12:19:22.368Z"
   },
   {
    "duration": 24,
    "start_time": "2024-08-28T12:19:22.382Z"
   },
   {
    "duration": 377,
    "start_time": "2024-08-28T12:19:22.407Z"
   },
   {
    "duration": 8,
    "start_time": "2024-08-28T12:19:22.786Z"
   },
   {
    "duration": 400,
    "start_time": "2024-08-28T12:19:22.805Z"
   },
   {
    "duration": 8,
    "start_time": "2024-08-28T12:19:23.207Z"
   },
   {
    "duration": 521,
    "start_time": "2024-08-28T12:19:23.217Z"
   },
   {
    "duration": 8,
    "start_time": "2024-08-28T12:19:23.740Z"
   },
   {
    "duration": 18,
    "start_time": "2024-08-28T12:19:23.752Z"
   },
   {
    "duration": 57,
    "start_time": "2024-08-28T12:19:23.771Z"
   },
   {
    "duration": 16,
    "start_time": "2024-08-28T12:19:23.830Z"
   },
   {
    "duration": 14,
    "start_time": "2024-08-28T12:19:23.848Z"
   },
   {
    "duration": 9,
    "start_time": "2024-08-28T12:19:23.864Z"
   },
   {
    "duration": 7,
    "start_time": "2024-08-28T12:19:23.875Z"
   },
   {
    "duration": 8,
    "start_time": "2024-08-28T12:19:23.883Z"
   },
   {
    "duration": 11,
    "start_time": "2024-08-28T12:19:23.906Z"
   },
   {
    "duration": 67,
    "start_time": "2024-08-28T12:19:23.919Z"
   },
   {
    "duration": 13,
    "start_time": "2024-08-28T12:19:23.988Z"
   },
   {
    "duration": 8,
    "start_time": "2024-08-28T12:19:24.003Z"
   },
   {
    "duration": 9,
    "start_time": "2024-08-28T12:19:24.013Z"
   },
   {
    "duration": 2192,
    "start_time": "2024-08-28T12:19:24.024Z"
   },
   {
    "duration": 225,
    "start_time": "2024-08-28T12:19:26.218Z"
   },
   {
    "duration": 6,
    "start_time": "2024-08-28T12:19:26.445Z"
   },
   {
    "duration": 1226,
    "start_time": "2024-08-28T21:32:24.080Z"
   },
   {
    "duration": 464,
    "start_time": "2024-08-28T21:32:25.308Z"
   },
   {
    "duration": 13,
    "start_time": "2024-08-28T21:32:25.773Z"
   },
   {
    "duration": 15,
    "start_time": "2024-08-28T21:32:25.788Z"
   },
   {
    "duration": 12,
    "start_time": "2024-08-28T21:32:25.805Z"
   },
   {
    "duration": 25,
    "start_time": "2024-08-28T21:32:25.818Z"
   },
   {
    "duration": 6,
    "start_time": "2024-08-28T21:32:25.845Z"
   },
   {
    "duration": 16,
    "start_time": "2024-08-28T21:32:25.853Z"
   },
   {
    "duration": 18,
    "start_time": "2024-08-28T21:32:25.870Z"
   },
   {
    "duration": 9,
    "start_time": "2024-08-28T21:32:25.890Z"
   },
   {
    "duration": 14,
    "start_time": "2024-08-28T21:32:25.901Z"
   },
   {
    "duration": 14,
    "start_time": "2024-08-28T21:32:25.916Z"
   },
   {
    "duration": 4,
    "start_time": "2024-08-28T21:32:25.931Z"
   },
   {
    "duration": 5,
    "start_time": "2024-08-28T21:32:25.937Z"
   },
   {
    "duration": 15,
    "start_time": "2024-08-28T21:32:25.943Z"
   },
   {
    "duration": 5,
    "start_time": "2024-08-28T21:32:25.960Z"
   },
   {
    "duration": 4,
    "start_time": "2024-08-28T21:32:25.967Z"
   },
   {
    "duration": 8,
    "start_time": "2024-08-28T21:32:25.973Z"
   },
   {
    "duration": 6,
    "start_time": "2024-08-28T21:32:25.983Z"
   },
   {
    "duration": 39,
    "start_time": "2024-08-28T21:32:25.990Z"
   },
   {
    "duration": 16,
    "start_time": "2024-08-28T21:32:26.030Z"
   },
   {
    "duration": 10,
    "start_time": "2024-08-28T21:32:26.048Z"
   },
   {
    "duration": 5,
    "start_time": "2024-08-28T21:32:26.059Z"
   },
   {
    "duration": 199,
    "start_time": "2024-08-28T21:32:26.066Z"
   },
   {
    "duration": 5,
    "start_time": "2024-08-28T21:32:26.267Z"
   },
   {
    "duration": 87,
    "start_time": "2024-08-28T21:32:26.274Z"
   },
   {
    "duration": 5,
    "start_time": "2024-08-28T21:32:26.363Z"
   },
   {
    "duration": 7,
    "start_time": "2024-08-28T21:32:26.372Z"
   },
   {
    "duration": 180,
    "start_time": "2024-08-28T21:32:26.380Z"
   },
   {
    "duration": 9,
    "start_time": "2024-08-28T21:32:26.561Z"
   },
   {
    "duration": 400,
    "start_time": "2024-08-28T21:32:26.571Z"
   },
   {
    "duration": 10,
    "start_time": "2024-08-28T21:32:26.973Z"
   },
   {
    "duration": 386,
    "start_time": "2024-08-28T21:32:26.984Z"
   },
   {
    "duration": 14,
    "start_time": "2024-08-28T21:32:27.371Z"
   },
   {
    "duration": 46,
    "start_time": "2024-08-28T21:32:27.387Z"
   },
   {
    "duration": 4,
    "start_time": "2024-08-28T21:32:27.435Z"
   },
   {
    "duration": 11,
    "start_time": "2024-08-28T21:32:27.441Z"
   },
   {
    "duration": 17,
    "start_time": "2024-08-28T21:32:27.453Z"
   },
   {
    "duration": 102,
    "start_time": "2024-08-28T21:32:27.472Z"
   },
   {
    "duration": 12,
    "start_time": "2024-08-28T21:32:27.575Z"
   },
   {
    "duration": 70,
    "start_time": "2024-08-28T21:32:27.588Z"
   },
   {
    "duration": 58,
    "start_time": "2024-08-28T21:32:27.659Z"
   },
   {
    "duration": 3,
    "start_time": "2024-08-28T21:32:27.719Z"
   },
   {
    "duration": 839,
    "start_time": "2024-08-28T21:32:27.723Z"
   },
   {
    "duration": 8,
    "start_time": "2024-08-28T21:32:28.563Z"
   },
   {
    "duration": 7,
    "start_time": "2024-08-28T21:32:28.572Z"
   },
   {
    "duration": 912,
    "start_time": "2024-08-28T21:32:28.581Z"
   },
   {
    "duration": 7,
    "start_time": "2024-08-28T21:32:29.495Z"
   },
   {
    "duration": 7,
    "start_time": "2024-08-28T21:32:29.504Z"
   },
   {
    "duration": 9,
    "start_time": "2024-08-28T21:32:29.525Z"
   },
   {
    "duration": 25,
    "start_time": "2024-08-28T21:32:29.536Z"
   },
   {
    "duration": 16,
    "start_time": "2024-08-28T21:32:29.563Z"
   },
   {
    "duration": 16,
    "start_time": "2024-08-28T21:32:29.582Z"
   },
   {
    "duration": 120,
    "start_time": "2024-08-28T21:32:29.600Z"
   },
   {
    "duration": 64,
    "start_time": "2024-08-28T21:32:29.722Z"
   },
   {
    "duration": 4,
    "start_time": "2024-08-28T21:32:29.788Z"
   },
   {
    "duration": 5,
    "start_time": "2024-08-28T21:32:29.794Z"
   },
   {
    "duration": 9,
    "start_time": "2024-08-28T21:32:29.801Z"
   },
   {
    "duration": 6,
    "start_time": "2024-08-28T21:32:29.811Z"
   },
   {
    "duration": 2065,
    "start_time": "2024-08-28T21:32:29.818Z"
   },
   {
    "duration": 221,
    "start_time": "2024-08-28T21:32:31.884Z"
   },
   {
    "duration": 6,
    "start_time": "2024-08-28T21:32:32.107Z"
   },
   {
    "duration": 12,
    "start_time": "2024-08-28T22:01:24.230Z"
   },
   {
    "duration": 1156,
    "start_time": "2024-08-28T22:06:01.324Z"
   },
   {
    "duration": 180,
    "start_time": "2024-08-28T22:06:02.482Z"
   },
   {
    "duration": 13,
    "start_time": "2024-08-28T22:06:02.664Z"
   },
   {
    "duration": 11,
    "start_time": "2024-08-28T22:06:02.679Z"
   },
   {
    "duration": 11,
    "start_time": "2024-08-28T22:06:02.692Z"
   },
   {
    "duration": 23,
    "start_time": "2024-08-28T22:06:02.705Z"
   },
   {
    "duration": 6,
    "start_time": "2024-08-28T22:06:02.730Z"
   },
   {
    "duration": 10,
    "start_time": "2024-08-28T22:06:02.737Z"
   },
   {
    "duration": 32,
    "start_time": "2024-08-28T22:06:02.748Z"
   },
   {
    "duration": 9,
    "start_time": "2024-08-28T22:06:02.783Z"
   },
   {
    "duration": 20,
    "start_time": "2024-08-28T22:06:02.793Z"
   },
   {
    "duration": 39,
    "start_time": "2024-08-28T22:06:02.815Z"
   },
   {
    "duration": 7,
    "start_time": "2024-08-28T22:06:02.856Z"
   },
   {
    "duration": 7,
    "start_time": "2024-08-28T22:06:02.864Z"
   },
   {
    "duration": 5,
    "start_time": "2024-08-28T22:06:02.873Z"
   },
   {
    "duration": 6,
    "start_time": "2024-08-28T22:06:02.879Z"
   },
   {
    "duration": 17,
    "start_time": "2024-08-28T22:06:02.887Z"
   },
   {
    "duration": 15,
    "start_time": "2024-08-28T22:06:02.906Z"
   },
   {
    "duration": 7,
    "start_time": "2024-08-28T22:06:02.923Z"
   },
   {
    "duration": 19,
    "start_time": "2024-08-28T22:06:02.932Z"
   },
   {
    "duration": 16,
    "start_time": "2024-08-28T22:06:02.953Z"
   },
   {
    "duration": 37,
    "start_time": "2024-08-28T22:06:02.970Z"
   },
   {
    "duration": 27,
    "start_time": "2024-08-28T22:06:03.009Z"
   },
   {
    "duration": 197,
    "start_time": "2024-08-28T22:06:03.038Z"
   },
   {
    "duration": 6,
    "start_time": "2024-08-28T22:06:03.236Z"
   },
   {
    "duration": 94,
    "start_time": "2024-08-28T22:06:03.244Z"
   },
   {
    "duration": 6,
    "start_time": "2024-08-28T22:06:03.339Z"
   },
   {
    "duration": 12,
    "start_time": "2024-08-28T22:06:03.349Z"
   },
   {
    "duration": 178,
    "start_time": "2024-08-28T22:06:03.362Z"
   },
   {
    "duration": 9,
    "start_time": "2024-08-28T22:06:03.541Z"
   },
   {
    "duration": 389,
    "start_time": "2024-08-28T22:06:03.551Z"
   },
   {
    "duration": 8,
    "start_time": "2024-08-28T22:06:03.942Z"
   },
   {
    "duration": 388,
    "start_time": "2024-08-28T22:06:03.952Z"
   },
   {
    "duration": 12,
    "start_time": "2024-08-28T22:06:04.342Z"
   },
   {
    "duration": 32,
    "start_time": "2024-08-28T22:06:04.355Z"
   },
   {
    "duration": 4,
    "start_time": "2024-08-28T22:06:04.388Z"
   },
   {
    "duration": 36,
    "start_time": "2024-08-28T22:06:04.394Z"
   },
   {
    "duration": 23,
    "start_time": "2024-08-28T22:06:04.432Z"
   },
   {
    "duration": 99,
    "start_time": "2024-08-28T22:06:04.457Z"
   },
   {
    "duration": 16,
    "start_time": "2024-08-28T22:06:04.558Z"
   },
   {
    "duration": 28,
    "start_time": "2024-08-28T22:06:04.575Z"
   },
   {
    "duration": 25,
    "start_time": "2024-08-28T22:06:04.604Z"
   },
   {
    "duration": 14,
    "start_time": "2024-08-28T22:06:04.631Z"
   },
   {
    "duration": 868,
    "start_time": "2024-08-28T22:06:04.647Z"
   },
   {
    "duration": 13,
    "start_time": "2024-08-28T22:06:05.516Z"
   },
   {
    "duration": 8,
    "start_time": "2024-08-28T22:06:05.530Z"
   },
   {
    "duration": 950,
    "start_time": "2024-08-28T22:06:05.539Z"
   },
   {
    "duration": 9,
    "start_time": "2024-08-28T22:06:06.491Z"
   },
   {
    "duration": 24,
    "start_time": "2024-08-28T22:06:06.502Z"
   },
   {
    "duration": 9,
    "start_time": "2024-08-28T22:06:06.528Z"
   },
   {
    "duration": 28,
    "start_time": "2024-08-28T22:06:06.538Z"
   },
   {
    "duration": 12,
    "start_time": "2024-08-28T22:06:06.568Z"
   },
   {
    "duration": 11,
    "start_time": "2024-08-28T22:06:06.581Z"
   },
   {
    "duration": 4,
    "start_time": "2024-08-28T22:06:06.625Z"
   },
   {
    "duration": 8,
    "start_time": "2024-08-28T22:06:06.631Z"
   },
   {
    "duration": 5,
    "start_time": "2024-08-28T22:06:06.640Z"
   },
   {
    "duration": 5,
    "start_time": "2024-08-28T22:06:06.646Z"
   },
   {
    "duration": 8,
    "start_time": "2024-08-28T22:06:06.653Z"
   },
   {
    "duration": 7,
    "start_time": "2024-08-28T22:06:06.662Z"
   },
   {
    "duration": 2102,
    "start_time": "2024-08-28T22:06:06.671Z"
   },
   {
    "duration": 222,
    "start_time": "2024-08-28T22:06:08.775Z"
   },
   {
    "duration": 5,
    "start_time": "2024-08-28T22:06:08.999Z"
   },
   {
    "duration": 57,
    "start_time": "2024-08-29T06:22:29.298Z"
   },
   {
    "duration": 1327,
    "start_time": "2024-08-29T06:22:50.521Z"
   },
   {
    "duration": 468,
    "start_time": "2024-08-29T06:22:51.851Z"
   },
   {
    "duration": 14,
    "start_time": "2024-08-29T06:22:52.321Z"
   },
   {
    "duration": 11,
    "start_time": "2024-08-29T06:22:52.337Z"
   },
   {
    "duration": 11,
    "start_time": "2024-08-29T06:22:52.350Z"
   },
   {
    "duration": 11,
    "start_time": "2024-08-29T06:22:52.362Z"
   },
   {
    "duration": 6,
    "start_time": "2024-08-29T06:22:52.375Z"
   },
   {
    "duration": 12,
    "start_time": "2024-08-29T06:22:52.383Z"
   },
   {
    "duration": 14,
    "start_time": "2024-08-29T06:22:52.425Z"
   },
   {
    "duration": 15,
    "start_time": "2024-08-29T06:22:52.442Z"
   },
   {
    "duration": 12,
    "start_time": "2024-08-29T06:22:52.459Z"
   },
   {
    "duration": 11,
    "start_time": "2024-08-29T06:22:52.473Z"
   },
   {
    "duration": 4,
    "start_time": "2024-08-29T06:22:52.486Z"
   },
   {
    "duration": 34,
    "start_time": "2024-08-29T06:22:52.492Z"
   },
   {
    "duration": 6,
    "start_time": "2024-08-29T06:22:52.528Z"
   },
   {
    "duration": 19,
    "start_time": "2024-08-29T06:22:52.535Z"
   },
   {
    "duration": 24,
    "start_time": "2024-08-29T06:22:52.556Z"
   },
   {
    "duration": 13,
    "start_time": "2024-08-29T06:22:52.582Z"
   },
   {
    "duration": 7,
    "start_time": "2024-08-29T06:22:52.596Z"
   },
   {
    "duration": 5,
    "start_time": "2024-08-29T06:22:52.604Z"
   },
   {
    "duration": 16,
    "start_time": "2024-08-29T06:22:52.610Z"
   },
   {
    "duration": 19,
    "start_time": "2024-08-29T06:22:52.628Z"
   },
   {
    "duration": 5,
    "start_time": "2024-08-29T06:22:52.649Z"
   },
   {
    "duration": 205,
    "start_time": "2024-08-29T06:22:52.656Z"
   },
   {
    "duration": 5,
    "start_time": "2024-08-29T06:22:52.862Z"
   },
   {
    "duration": 95,
    "start_time": "2024-08-29T06:22:52.869Z"
   },
   {
    "duration": 5,
    "start_time": "2024-08-29T06:22:52.966Z"
   },
   {
    "duration": 17,
    "start_time": "2024-08-29T06:22:52.975Z"
   },
   {
    "duration": 171,
    "start_time": "2024-08-29T06:22:52.993Z"
   },
   {
    "duration": 8,
    "start_time": "2024-08-29T06:22:53.166Z"
   },
   {
    "duration": 381,
    "start_time": "2024-08-29T06:22:53.176Z"
   },
   {
    "duration": 8,
    "start_time": "2024-08-29T06:22:53.559Z"
   },
   {
    "duration": 388,
    "start_time": "2024-08-29T06:22:53.569Z"
   },
   {
    "duration": 13,
    "start_time": "2024-08-29T06:22:53.959Z"
   },
   {
    "duration": 25,
    "start_time": "2024-08-29T06:22:53.973Z"
   },
   {
    "duration": 4,
    "start_time": "2024-08-29T06:22:54.000Z"
   },
   {
    "duration": 11,
    "start_time": "2024-08-29T06:22:54.026Z"
   },
   {
    "duration": 12,
    "start_time": "2024-08-29T06:22:54.038Z"
   },
   {
    "duration": 116,
    "start_time": "2024-08-29T06:22:54.052Z"
   },
   {
    "duration": 24,
    "start_time": "2024-08-29T06:22:54.170Z"
   },
   {
    "duration": 9,
    "start_time": "2024-08-29T06:22:54.195Z"
   },
   {
    "duration": 11,
    "start_time": "2024-08-29T06:22:54.205Z"
   },
   {
    "duration": 5,
    "start_time": "2024-08-29T06:22:54.225Z"
   },
   {
    "duration": 839,
    "start_time": "2024-08-29T06:22:54.233Z"
   },
   {
    "duration": 8,
    "start_time": "2024-08-29T06:22:55.074Z"
   },
   {
    "duration": 8,
    "start_time": "2024-08-29T06:22:55.083Z"
   },
   {
    "duration": 970,
    "start_time": "2024-08-29T06:22:55.092Z"
   },
   {
    "duration": 8,
    "start_time": "2024-08-29T06:22:56.064Z"
   },
   {
    "duration": 9,
    "start_time": "2024-08-29T06:22:56.073Z"
   },
   {
    "duration": 15,
    "start_time": "2024-08-29T06:22:56.083Z"
   },
   {
    "duration": 43,
    "start_time": "2024-08-29T06:22:56.100Z"
   },
   {
    "duration": 10,
    "start_time": "2024-08-29T06:22:56.145Z"
   },
   {
    "duration": 10,
    "start_time": "2024-08-29T06:22:56.157Z"
   },
   {
    "duration": 4,
    "start_time": "2024-08-29T06:22:56.168Z"
   },
   {
    "duration": 9,
    "start_time": "2024-08-29T06:22:56.173Z"
   },
   {
    "duration": 44,
    "start_time": "2024-08-29T06:22:56.183Z"
   },
   {
    "duration": 5,
    "start_time": "2024-08-29T06:22:56.229Z"
   },
   {
    "duration": 9,
    "start_time": "2024-08-29T06:22:56.235Z"
   },
   {
    "duration": 6,
    "start_time": "2024-08-29T06:22:56.245Z"
   },
   {
    "duration": 2173,
    "start_time": "2024-08-29T06:22:56.253Z"
   },
   {
    "duration": 231,
    "start_time": "2024-08-29T06:22:58.428Z"
   },
   {
    "duration": 6,
    "start_time": "2024-08-29T06:22:58.660Z"
   },
   {
    "duration": 61,
    "start_time": "2024-08-29T06:29:22.690Z"
   },
   {
    "duration": 58,
    "start_time": "2024-08-29T06:29:47.885Z"
   },
   {
    "duration": 42,
    "start_time": "2024-08-29T11:31:33.984Z"
   },
   {
    "duration": 1086,
    "start_time": "2024-08-29T11:31:43.446Z"
   },
   {
    "duration": 391,
    "start_time": "2024-08-29T11:31:44.534Z"
   },
   {
    "duration": 15,
    "start_time": "2024-08-29T11:31:44.927Z"
   },
   {
    "duration": 29,
    "start_time": "2024-08-29T11:31:44.944Z"
   },
   {
    "duration": 22,
    "start_time": "2024-08-29T11:31:44.975Z"
   },
   {
    "duration": 61,
    "start_time": "2024-08-29T11:31:44.998Z"
   },
   {
    "duration": 39,
    "start_time": "2024-08-29T11:31:45.060Z"
   },
   {
    "duration": 16,
    "start_time": "2024-08-29T11:31:45.100Z"
   },
   {
    "duration": 19,
    "start_time": "2024-08-29T11:31:45.117Z"
   },
   {
    "duration": 24,
    "start_time": "2024-08-29T11:31:45.139Z"
   },
   {
    "duration": 14,
    "start_time": "2024-08-29T11:31:45.164Z"
   },
   {
    "duration": 37,
    "start_time": "2024-08-29T11:31:45.180Z"
   },
   {
    "duration": 49,
    "start_time": "2024-08-29T11:31:45.219Z"
   },
   {
    "duration": 41,
    "start_time": "2024-08-29T11:31:45.269Z"
   },
   {
    "duration": 53,
    "start_time": "2024-08-29T11:31:45.311Z"
   },
   {
    "duration": 39,
    "start_time": "2024-08-29T11:31:45.366Z"
   },
   {
    "duration": 31,
    "start_time": "2024-08-29T11:31:45.407Z"
   },
   {
    "duration": 75,
    "start_time": "2024-08-29T11:31:45.439Z"
   },
   {
    "duration": 9,
    "start_time": "2024-08-29T11:31:45.515Z"
   },
   {
    "duration": 24,
    "start_time": "2024-08-29T11:31:45.526Z"
   },
   {
    "duration": 26,
    "start_time": "2024-08-29T11:31:45.552Z"
   },
   {
    "duration": 12,
    "start_time": "2024-08-29T11:31:45.580Z"
   },
   {
    "duration": 5,
    "start_time": "2024-08-29T11:31:45.593Z"
   },
   {
    "duration": 165,
    "start_time": "2024-08-29T11:31:45.599Z"
   },
   {
    "duration": 5,
    "start_time": "2024-08-29T11:31:45.765Z"
   },
   {
    "duration": 230,
    "start_time": "2024-08-29T11:31:45.771Z"
   },
   {
    "duration": 5,
    "start_time": "2024-08-29T11:31:46.002Z"
   },
   {
    "duration": 9,
    "start_time": "2024-08-29T11:31:46.011Z"
   },
   {
    "duration": 138,
    "start_time": "2024-08-29T11:31:46.021Z"
   },
   {
    "duration": 7,
    "start_time": "2024-08-29T11:31:46.160Z"
   },
   {
    "duration": 295,
    "start_time": "2024-08-29T11:31:46.169Z"
   },
   {
    "duration": 7,
    "start_time": "2024-08-29T11:31:46.465Z"
   },
   {
    "duration": 323,
    "start_time": "2024-08-29T11:31:46.474Z"
   },
   {
    "duration": 18,
    "start_time": "2024-08-29T11:31:46.798Z"
   },
   {
    "duration": 7,
    "start_time": "2024-08-29T11:31:46.818Z"
   },
   {
    "duration": 96,
    "start_time": "2024-08-29T11:31:46.826Z"
   },
   {
    "duration": 3,
    "start_time": "2024-08-29T11:31:46.923Z"
   },
   {
    "duration": 11,
    "start_time": "2024-08-29T11:31:46.927Z"
   },
   {
    "duration": 15,
    "start_time": "2024-08-29T11:31:46.939Z"
   },
   {
    "duration": 19,
    "start_time": "2024-08-29T11:31:46.955Z"
   },
   {
    "duration": 27,
    "start_time": "2024-08-29T11:31:46.975Z"
   },
   {
    "duration": 48,
    "start_time": "2024-08-29T11:31:47.003Z"
   },
   {
    "duration": 20,
    "start_time": "2024-08-29T11:31:47.052Z"
   },
   {
    "duration": 5,
    "start_time": "2024-08-29T11:31:47.073Z"
   },
   {
    "duration": 639,
    "start_time": "2024-08-29T11:31:47.079Z"
   },
   {
    "duration": 7,
    "start_time": "2024-08-29T11:31:47.719Z"
   },
   {
    "duration": 28,
    "start_time": "2024-08-29T11:31:47.727Z"
   },
   {
    "duration": 776,
    "start_time": "2024-08-29T11:31:47.757Z"
   },
   {
    "duration": 8,
    "start_time": "2024-08-29T11:31:48.534Z"
   },
   {
    "duration": 15,
    "start_time": "2024-08-29T11:31:48.543Z"
   },
   {
    "duration": 25,
    "start_time": "2024-08-29T11:31:48.560Z"
   },
   {
    "duration": 39,
    "start_time": "2024-08-29T11:31:48.586Z"
   },
   {
    "duration": 9,
    "start_time": "2024-08-29T11:31:48.626Z"
   },
   {
    "duration": 11,
    "start_time": "2024-08-29T11:31:48.637Z"
   },
   {
    "duration": 15,
    "start_time": "2024-08-29T11:31:48.649Z"
   },
   {
    "duration": 10,
    "start_time": "2024-08-29T11:31:48.666Z"
   },
   {
    "duration": 5,
    "start_time": "2024-08-29T11:31:48.677Z"
   },
   {
    "duration": 17,
    "start_time": "2024-08-29T11:31:48.683Z"
   },
   {
    "duration": 10,
    "start_time": "2024-08-29T11:31:48.701Z"
   },
   {
    "duration": 81,
    "start_time": "2024-08-29T11:31:48.712Z"
   },
   {
    "duration": 1723,
    "start_time": "2024-08-29T11:31:48.795Z"
   },
   {
    "duration": 183,
    "start_time": "2024-08-29T11:31:50.520Z"
   },
   {
    "duration": 5,
    "start_time": "2024-08-29T11:31:50.707Z"
   },
   {
    "duration": 13,
    "start_time": "2024-08-29T11:32:09.859Z"
   },
   {
    "duration": 8,
    "start_time": "2024-08-29T12:19:51.531Z"
   },
   {
    "duration": 10,
    "start_time": "2024-08-29T12:26:24.146Z"
   },
   {
    "duration": 1022,
    "start_time": "2024-08-29T12:27:58.185Z"
   },
   {
    "duration": 156,
    "start_time": "2024-08-29T12:27:59.208Z"
   },
   {
    "duration": 11,
    "start_time": "2024-08-29T12:27:59.366Z"
   },
   {
    "duration": 8,
    "start_time": "2024-08-29T12:27:59.379Z"
   },
   {
    "duration": 9,
    "start_time": "2024-08-29T12:27:59.388Z"
   },
   {
    "duration": 15,
    "start_time": "2024-08-29T12:27:59.398Z"
   },
   {
    "duration": 8,
    "start_time": "2024-08-29T12:27:59.414Z"
   },
   {
    "duration": 22,
    "start_time": "2024-08-29T12:27:59.423Z"
   },
   {
    "duration": 11,
    "start_time": "2024-08-29T12:27:59.447Z"
   },
   {
    "duration": 7,
    "start_time": "2024-08-29T12:27:59.460Z"
   },
   {
    "duration": 8,
    "start_time": "2024-08-29T12:27:59.468Z"
   },
   {
    "duration": 4,
    "start_time": "2024-08-29T12:27:59.477Z"
   },
   {
    "duration": 10,
    "start_time": "2024-08-29T12:27:59.482Z"
   },
   {
    "duration": 15,
    "start_time": "2024-08-29T12:27:59.493Z"
   },
   {
    "duration": 5,
    "start_time": "2024-08-29T12:27:59.509Z"
   },
   {
    "duration": 18,
    "start_time": "2024-08-29T12:27:59.515Z"
   },
   {
    "duration": 7,
    "start_time": "2024-08-29T12:27:59.534Z"
   },
   {
    "duration": 4,
    "start_time": "2024-08-29T12:27:59.542Z"
   },
   {
    "duration": 3,
    "start_time": "2024-08-29T12:27:59.547Z"
   },
   {
    "duration": 11,
    "start_time": "2024-08-29T12:27:59.551Z"
   },
   {
    "duration": 7,
    "start_time": "2024-08-29T12:27:59.564Z"
   },
   {
    "duration": 7,
    "start_time": "2024-08-29T12:27:59.572Z"
   },
   {
    "duration": 167,
    "start_time": "2024-08-29T12:27:59.580Z"
   },
   {
    "duration": 5,
    "start_time": "2024-08-29T12:27:59.748Z"
   },
   {
    "duration": 69,
    "start_time": "2024-08-29T12:27:59.754Z"
   },
   {
    "duration": 5,
    "start_time": "2024-08-29T12:27:59.824Z"
   },
   {
    "duration": 7,
    "start_time": "2024-08-29T12:27:59.830Z"
   },
   {
    "duration": 142,
    "start_time": "2024-08-29T12:27:59.839Z"
   },
   {
    "duration": 6,
    "start_time": "2024-08-29T12:27:59.982Z"
   },
   {
    "duration": 414,
    "start_time": "2024-08-29T12:27:59.989Z"
   },
   {
    "duration": 7,
    "start_time": "2024-08-29T12:28:00.406Z"
   },
   {
    "duration": 300,
    "start_time": "2024-08-29T12:28:00.414Z"
   },
   {
    "duration": 11,
    "start_time": "2024-08-29T12:28:00.716Z"
   },
   {
    "duration": 14,
    "start_time": "2024-08-29T12:28:00.729Z"
   },
   {
    "duration": 87,
    "start_time": "2024-08-29T12:28:00.744Z"
   },
   {
    "duration": 3,
    "start_time": "2024-08-29T12:28:00.833Z"
   },
   {
    "duration": 15,
    "start_time": "2024-08-29T12:28:00.837Z"
   },
   {
    "duration": 12,
    "start_time": "2024-08-29T12:28:00.853Z"
   },
   {
    "duration": 18,
    "start_time": "2024-08-29T12:28:00.866Z"
   },
   {
    "duration": 9,
    "start_time": "2024-08-29T12:28:00.885Z"
   },
   {
    "duration": 20,
    "start_time": "2024-08-29T12:28:00.895Z"
   },
   {
    "duration": 18,
    "start_time": "2024-08-29T12:28:00.916Z"
   },
   {
    "duration": 11,
    "start_time": "2024-08-29T12:28:00.935Z"
   },
   {
    "duration": 649,
    "start_time": "2024-08-29T12:28:00.947Z"
   },
   {
    "duration": 10,
    "start_time": "2024-08-29T12:28:01.597Z"
   },
   {
    "duration": 9,
    "start_time": "2024-08-29T12:28:01.608Z"
   },
   {
    "duration": 734,
    "start_time": "2024-08-29T12:28:01.618Z"
   },
   {
    "duration": 7,
    "start_time": "2024-08-29T12:28:02.354Z"
   },
   {
    "duration": 6,
    "start_time": "2024-08-29T12:28:02.362Z"
   },
   {
    "duration": 12,
    "start_time": "2024-08-29T12:28:02.369Z"
   },
   {
    "duration": 42,
    "start_time": "2024-08-29T12:28:02.382Z"
   },
   {
    "duration": 8,
    "start_time": "2024-08-29T12:28:02.425Z"
   },
   {
    "duration": 8,
    "start_time": "2024-08-29T12:28:02.435Z"
   },
   {
    "duration": 3,
    "start_time": "2024-08-29T12:28:02.444Z"
   },
   {
    "duration": 24,
    "start_time": "2024-08-29T12:28:02.448Z"
   },
   {
    "duration": 6,
    "start_time": "2024-08-29T12:28:02.473Z"
   },
   {
    "duration": 8,
    "start_time": "2024-08-29T12:28:02.480Z"
   },
   {
    "duration": 7,
    "start_time": "2024-08-29T12:28:02.489Z"
   },
   {
    "duration": 6,
    "start_time": "2024-08-29T12:28:02.506Z"
   },
   {
    "duration": 1709,
    "start_time": "2024-08-29T12:28:02.513Z"
   },
   {
    "duration": 173,
    "start_time": "2024-08-29T12:28:04.223Z"
   },
   {
    "duration": 5,
    "start_time": "2024-08-29T12:28:04.398Z"
   },
   {
    "duration": 10,
    "start_time": "2024-08-29T12:29:03.776Z"
   },
   {
    "duration": 6,
    "start_time": "2024-08-29T12:29:21.494Z"
   },
   {
    "duration": 969,
    "start_time": "2024-08-29T12:43:37.041Z"
   },
   {
    "duration": 159,
    "start_time": "2024-08-29T12:43:38.012Z"
   },
   {
    "duration": 11,
    "start_time": "2024-08-29T12:43:38.173Z"
   },
   {
    "duration": 19,
    "start_time": "2024-08-29T12:43:38.186Z"
   },
   {
    "duration": 10,
    "start_time": "2024-08-29T12:43:38.206Z"
   },
   {
    "duration": 20,
    "start_time": "2024-08-29T12:43:38.217Z"
   },
   {
    "duration": 5,
    "start_time": "2024-08-29T12:43:38.239Z"
   },
   {
    "duration": 64,
    "start_time": "2024-08-29T12:43:38.245Z"
   },
   {
    "duration": 18,
    "start_time": "2024-08-29T12:43:38.310Z"
   },
   {
    "duration": 8,
    "start_time": "2024-08-29T12:43:38.330Z"
   },
   {
    "duration": 8,
    "start_time": "2024-08-29T12:43:38.339Z"
   },
   {
    "duration": 8,
    "start_time": "2024-08-29T12:43:38.348Z"
   },
   {
    "duration": 8,
    "start_time": "2024-08-29T12:43:38.357Z"
   },
   {
    "duration": 17,
    "start_time": "2024-08-29T12:43:38.366Z"
   },
   {
    "duration": 14,
    "start_time": "2024-08-29T12:43:38.384Z"
   },
   {
    "duration": 6,
    "start_time": "2024-08-29T12:43:38.399Z"
   },
   {
    "duration": 10,
    "start_time": "2024-08-29T12:43:38.406Z"
   },
   {
    "duration": 5,
    "start_time": "2024-08-29T12:43:38.418Z"
   },
   {
    "duration": 22,
    "start_time": "2024-08-29T12:43:38.424Z"
   },
   {
    "duration": 28,
    "start_time": "2024-08-29T12:43:38.447Z"
   },
   {
    "duration": 14,
    "start_time": "2024-08-29T12:43:38.476Z"
   },
   {
    "duration": 8,
    "start_time": "2024-08-29T12:43:38.491Z"
   },
   {
    "duration": 154,
    "start_time": "2024-08-29T12:43:38.500Z"
   },
   {
    "duration": 4,
    "start_time": "2024-08-29T12:43:38.656Z"
   },
   {
    "duration": 78,
    "start_time": "2024-08-29T12:43:38.661Z"
   },
   {
    "duration": 6,
    "start_time": "2024-08-29T12:43:38.740Z"
   },
   {
    "duration": 50,
    "start_time": "2024-08-29T12:43:38.748Z"
   },
   {
    "duration": 128,
    "start_time": "2024-08-29T12:43:38.802Z"
   },
   {
    "duration": 6,
    "start_time": "2024-08-29T12:43:38.931Z"
   },
   {
    "duration": 300,
    "start_time": "2024-08-29T12:43:38.938Z"
   },
   {
    "duration": 9,
    "start_time": "2024-08-29T12:43:39.240Z"
   },
   {
    "duration": 330,
    "start_time": "2024-08-29T12:43:39.250Z"
   },
   {
    "duration": 13,
    "start_time": "2024-08-29T12:43:39.582Z"
   },
   {
    "duration": 21,
    "start_time": "2024-08-29T12:43:39.597Z"
   },
   {
    "duration": 22,
    "start_time": "2024-08-29T12:43:39.620Z"
   },
   {
    "duration": 82,
    "start_time": "2024-08-29T12:43:39.643Z"
   },
   {
    "duration": 4,
    "start_time": "2024-08-29T12:43:39.726Z"
   },
   {
    "duration": 8,
    "start_time": "2024-08-29T12:43:39.731Z"
   },
   {
    "duration": 14,
    "start_time": "2024-08-29T12:43:39.740Z"
   },
   {
    "duration": 7,
    "start_time": "2024-08-29T12:43:39.755Z"
   },
   {
    "duration": 16,
    "start_time": "2024-08-29T12:43:39.763Z"
   },
   {
    "duration": 19,
    "start_time": "2024-08-29T12:43:39.781Z"
   },
   {
    "duration": 12,
    "start_time": "2024-08-29T12:43:39.801Z"
   },
   {
    "duration": 3,
    "start_time": "2024-08-29T12:43:39.815Z"
   },
   {
    "duration": 625,
    "start_time": "2024-08-29T12:43:39.819Z"
   },
   {
    "duration": 9,
    "start_time": "2024-08-29T12:43:40.446Z"
   },
   {
    "duration": 23,
    "start_time": "2024-08-29T12:43:40.456Z"
   },
   {
    "duration": 715,
    "start_time": "2024-08-29T12:43:40.480Z"
   },
   {
    "duration": 13,
    "start_time": "2024-08-29T12:43:41.196Z"
   },
   {
    "duration": 16,
    "start_time": "2024-08-29T12:43:41.210Z"
   },
   {
    "duration": 21,
    "start_time": "2024-08-29T12:43:41.227Z"
   },
   {
    "duration": 45,
    "start_time": "2024-08-29T12:43:41.249Z"
   },
   {
    "duration": 9,
    "start_time": "2024-08-29T12:43:41.295Z"
   },
   {
    "duration": 24,
    "start_time": "2024-08-29T12:43:41.305Z"
   },
   {
    "duration": 33,
    "start_time": "2024-08-29T12:43:41.330Z"
   },
   {
    "duration": 38,
    "start_time": "2024-08-29T12:43:41.364Z"
   },
   {
    "duration": 7,
    "start_time": "2024-08-29T12:43:41.403Z"
   },
   {
    "duration": 27,
    "start_time": "2024-08-29T12:43:41.411Z"
   },
   {
    "duration": 21,
    "start_time": "2024-08-29T12:43:41.439Z"
   },
   {
    "duration": 29,
    "start_time": "2024-08-29T12:43:41.461Z"
   },
   {
    "duration": 1645,
    "start_time": "2024-08-29T12:43:41.491Z"
   },
   {
    "duration": 191,
    "start_time": "2024-08-29T12:43:43.138Z"
   },
   {
    "duration": 5,
    "start_time": "2024-08-29T12:43:43.330Z"
   },
   {
    "duration": 1009,
    "start_time": "2024-08-29T12:44:15.079Z"
   },
   {
    "duration": 496,
    "start_time": "2024-08-29T12:44:16.089Z"
   },
   {
    "duration": 12,
    "start_time": "2024-08-29T12:44:16.587Z"
   },
   {
    "duration": 109,
    "start_time": "2024-08-29T12:44:16.601Z"
   },
   {
    "duration": 30,
    "start_time": "2024-08-29T12:44:16.711Z"
   },
   {
    "duration": 53,
    "start_time": "2024-08-29T12:44:16.743Z"
   },
   {
    "duration": 8,
    "start_time": "2024-08-29T12:44:16.797Z"
   },
   {
    "duration": 32,
    "start_time": "2024-08-29T12:44:16.806Z"
   },
   {
    "duration": 30,
    "start_time": "2024-08-29T12:44:16.839Z"
   },
   {
    "duration": 13,
    "start_time": "2024-08-29T12:44:16.872Z"
   },
   {
    "duration": 13,
    "start_time": "2024-08-29T12:44:16.886Z"
   },
   {
    "duration": 4,
    "start_time": "2024-08-29T12:44:16.900Z"
   },
   {
    "duration": 9,
    "start_time": "2024-08-29T12:44:16.906Z"
   },
   {
    "duration": 17,
    "start_time": "2024-08-29T12:44:16.916Z"
   },
   {
    "duration": 18,
    "start_time": "2024-08-29T12:44:16.934Z"
   },
   {
    "duration": 10,
    "start_time": "2024-08-29T12:44:16.953Z"
   },
   {
    "duration": 26,
    "start_time": "2024-08-29T12:44:16.964Z"
   },
   {
    "duration": 12,
    "start_time": "2024-08-29T12:44:16.991Z"
   },
   {
    "duration": 5,
    "start_time": "2024-08-29T12:44:17.004Z"
   },
   {
    "duration": 14,
    "start_time": "2024-08-29T12:44:17.010Z"
   },
   {
    "duration": 82,
    "start_time": "2024-08-29T12:44:17.025Z"
   },
   {
    "duration": 42,
    "start_time": "2024-08-29T12:44:17.109Z"
   },
   {
    "duration": 182,
    "start_time": "2024-08-29T12:44:17.153Z"
   },
   {
    "duration": 5,
    "start_time": "2024-08-29T12:44:17.336Z"
   },
   {
    "duration": 80,
    "start_time": "2024-08-29T12:44:17.342Z"
   },
   {
    "duration": 5,
    "start_time": "2024-08-29T12:44:17.423Z"
   },
   {
    "duration": 14,
    "start_time": "2024-08-29T12:44:17.429Z"
   },
   {
    "duration": 137,
    "start_time": "2024-08-29T12:44:17.446Z"
   },
   {
    "duration": 7,
    "start_time": "2024-08-29T12:44:17.584Z"
   },
   {
    "duration": 286,
    "start_time": "2024-08-29T12:44:17.592Z"
   },
   {
    "duration": 7,
    "start_time": "2024-08-29T12:44:17.879Z"
   },
   {
    "duration": 324,
    "start_time": "2024-08-29T12:44:17.887Z"
   },
   {
    "duration": 13,
    "start_time": "2024-08-29T12:44:18.213Z"
   },
   {
    "duration": 9,
    "start_time": "2024-08-29T12:44:18.227Z"
   },
   {
    "duration": 8,
    "start_time": "2024-08-29T12:44:18.237Z"
   },
   {
    "duration": 112,
    "start_time": "2024-08-29T12:44:18.247Z"
   },
   {
    "duration": 4,
    "start_time": "2024-08-29T12:44:18.360Z"
   },
   {
    "duration": 36,
    "start_time": "2024-08-29T12:44:18.365Z"
   },
   {
    "duration": 24,
    "start_time": "2024-08-29T12:44:18.403Z"
   },
   {
    "duration": 15,
    "start_time": "2024-08-29T12:44:18.428Z"
   },
   {
    "duration": 17,
    "start_time": "2024-08-29T12:44:18.445Z"
   },
   {
    "duration": 36,
    "start_time": "2024-08-29T12:44:18.463Z"
   },
   {
    "duration": 20,
    "start_time": "2024-08-29T12:44:18.500Z"
   },
   {
    "duration": 20,
    "start_time": "2024-08-29T12:44:18.521Z"
   },
   {
    "duration": 703,
    "start_time": "2024-08-29T12:44:18.542Z"
   },
   {
    "duration": 7,
    "start_time": "2024-08-29T12:44:19.246Z"
   },
   {
    "duration": 54,
    "start_time": "2024-08-29T12:44:19.255Z"
   },
   {
    "duration": 695,
    "start_time": "2024-08-29T12:44:19.310Z"
   },
   {
    "duration": 6,
    "start_time": "2024-08-29T12:44:20.007Z"
   },
   {
    "duration": 171,
    "start_time": "2024-08-29T12:44:20.015Z"
   },
   {
    "duration": 25,
    "start_time": "2024-08-29T12:44:20.188Z"
   },
   {
    "duration": 40,
    "start_time": "2024-08-29T12:44:20.215Z"
   },
   {
    "duration": 8,
    "start_time": "2024-08-29T12:44:20.257Z"
   },
   {
    "duration": 16,
    "start_time": "2024-08-29T12:44:20.266Z"
   },
   {
    "duration": 30,
    "start_time": "2024-08-29T12:44:20.283Z"
   },
   {
    "duration": 7,
    "start_time": "2024-08-29T12:44:20.314Z"
   },
   {
    "duration": 4,
    "start_time": "2024-08-29T12:44:20.322Z"
   },
   {
    "duration": 10,
    "start_time": "2024-08-29T12:44:20.328Z"
   },
   {
    "duration": 14,
    "start_time": "2024-08-29T12:44:20.339Z"
   },
   {
    "duration": 9,
    "start_time": "2024-08-29T12:44:20.354Z"
   },
   {
    "duration": 1588,
    "start_time": "2024-08-29T12:44:20.364Z"
   },
   {
    "duration": 176,
    "start_time": "2024-08-29T12:44:21.953Z"
   },
   {
    "duration": 5,
    "start_time": "2024-08-29T12:44:22.131Z"
   },
   {
    "duration": 971,
    "start_time": "2024-08-29T12:50:27.321Z"
   },
   {
    "duration": 159,
    "start_time": "2024-08-29T12:50:28.293Z"
   },
   {
    "duration": 11,
    "start_time": "2024-08-29T12:50:28.453Z"
   },
   {
    "duration": 9,
    "start_time": "2024-08-29T12:50:28.466Z"
   },
   {
    "duration": 17,
    "start_time": "2024-08-29T12:50:28.477Z"
   },
   {
    "duration": 13,
    "start_time": "2024-08-29T12:50:28.495Z"
   },
   {
    "duration": 5,
    "start_time": "2024-08-29T12:50:28.509Z"
   },
   {
    "duration": 26,
    "start_time": "2024-08-29T12:50:28.515Z"
   },
   {
    "duration": 33,
    "start_time": "2024-08-29T12:50:28.543Z"
   },
   {
    "duration": 10,
    "start_time": "2024-08-29T12:50:28.578Z"
   },
   {
    "duration": 8,
    "start_time": "2024-08-29T12:50:28.590Z"
   },
   {
    "duration": 6,
    "start_time": "2024-08-29T12:50:28.600Z"
   },
   {
    "duration": 21,
    "start_time": "2024-08-29T12:50:28.607Z"
   },
   {
    "duration": 10,
    "start_time": "2024-08-29T12:50:28.630Z"
   },
   {
    "duration": 9,
    "start_time": "2024-08-29T12:50:28.641Z"
   },
   {
    "duration": 10,
    "start_time": "2024-08-29T12:50:28.652Z"
   },
   {
    "duration": 16,
    "start_time": "2024-08-29T12:50:28.663Z"
   },
   {
    "duration": 5,
    "start_time": "2024-08-29T12:50:28.681Z"
   },
   {
    "duration": 6,
    "start_time": "2024-08-29T12:50:28.687Z"
   },
   {
    "duration": 8,
    "start_time": "2024-08-29T12:50:28.694Z"
   },
   {
    "duration": 14,
    "start_time": "2024-08-29T12:50:28.703Z"
   },
   {
    "duration": 13,
    "start_time": "2024-08-29T12:50:28.718Z"
   },
   {
    "duration": 161,
    "start_time": "2024-08-29T12:50:28.732Z"
   },
   {
    "duration": 4,
    "start_time": "2024-08-29T12:50:28.895Z"
   },
   {
    "duration": 91,
    "start_time": "2024-08-29T12:50:28.901Z"
   },
   {
    "duration": 4,
    "start_time": "2024-08-29T12:50:28.993Z"
   },
   {
    "duration": 43,
    "start_time": "2024-08-29T12:50:28.998Z"
   },
   {
    "duration": 147,
    "start_time": "2024-08-29T12:50:29.044Z"
   },
   {
    "duration": 6,
    "start_time": "2024-08-29T12:50:29.192Z"
   },
   {
    "duration": 282,
    "start_time": "2024-08-29T12:50:29.200Z"
   },
   {
    "duration": 6,
    "start_time": "2024-08-29T12:50:29.484Z"
   },
   {
    "duration": 285,
    "start_time": "2024-08-29T12:50:29.492Z"
   },
   {
    "duration": 11,
    "start_time": "2024-08-29T12:50:29.778Z"
   },
   {
    "duration": 19,
    "start_time": "2024-08-29T12:50:29.790Z"
   },
   {
    "duration": 16,
    "start_time": "2024-08-29T12:50:29.810Z"
   },
   {
    "duration": 80,
    "start_time": "2024-08-29T12:50:29.827Z"
   },
   {
    "duration": 4,
    "start_time": "2024-08-29T12:50:29.908Z"
   },
   {
    "duration": 82,
    "start_time": "2024-08-29T12:50:29.913Z"
   },
   {
    "duration": 210,
    "start_time": "2024-08-29T12:50:29.997Z"
   },
   {
    "duration": 39,
    "start_time": "2024-08-29T12:50:30.208Z"
   },
   {
    "duration": 47,
    "start_time": "2024-08-29T12:50:30.249Z"
   },
   {
    "duration": 44,
    "start_time": "2024-08-29T12:50:30.298Z"
   },
   {
    "duration": 50,
    "start_time": "2024-08-29T12:50:30.343Z"
   },
   {
    "duration": 22,
    "start_time": "2024-08-29T12:50:30.394Z"
   },
   {
    "duration": 636,
    "start_time": "2024-08-29T12:50:30.417Z"
   },
   {
    "duration": 6,
    "start_time": "2024-08-29T12:50:31.054Z"
   },
   {
    "duration": 106,
    "start_time": "2024-08-29T12:50:31.061Z"
   },
   {
    "duration": 717,
    "start_time": "2024-08-29T12:50:31.168Z"
   },
   {
    "duration": 7,
    "start_time": "2024-08-29T12:50:31.887Z"
   },
   {
    "duration": 16,
    "start_time": "2024-08-29T12:50:31.895Z"
   },
   {
    "duration": 10,
    "start_time": "2024-08-29T12:50:31.912Z"
   },
   {
    "duration": 28,
    "start_time": "2024-08-29T12:50:31.923Z"
   },
   {
    "duration": 10,
    "start_time": "2024-08-29T12:50:31.952Z"
   },
   {
    "duration": 20,
    "start_time": "2024-08-29T12:50:31.963Z"
   },
   {
    "duration": 28,
    "start_time": "2024-08-29T12:50:31.984Z"
   },
   {
    "duration": 102,
    "start_time": "2024-08-29T12:50:32.013Z"
   },
   {
    "duration": 93,
    "start_time": "2024-08-29T12:50:32.116Z"
   },
   {
    "duration": 11,
    "start_time": "2024-08-29T12:50:32.210Z"
   },
   {
    "duration": 8,
    "start_time": "2024-08-29T12:50:32.223Z"
   },
   {
    "duration": 19,
    "start_time": "2024-08-29T12:50:32.233Z"
   },
   {
    "duration": 1691,
    "start_time": "2024-08-29T12:50:32.253Z"
   },
   {
    "duration": 172,
    "start_time": "2024-08-29T12:50:33.945Z"
   },
   {
    "duration": 5,
    "start_time": "2024-08-29T12:50:34.118Z"
   },
   {
    "duration": 1101,
    "start_time": "2024-08-29T14:11:47.252Z"
   },
   {
    "duration": 173,
    "start_time": "2024-08-29T14:11:48.355Z"
   },
   {
    "duration": 12,
    "start_time": "2024-08-29T14:11:48.529Z"
   },
   {
    "duration": 19,
    "start_time": "2024-08-29T14:11:48.543Z"
   },
   {
    "duration": 12,
    "start_time": "2024-08-29T14:11:48.564Z"
   },
   {
    "duration": 37,
    "start_time": "2024-08-29T14:11:48.578Z"
   },
   {
    "duration": 6,
    "start_time": "2024-08-29T14:11:48.617Z"
   },
   {
    "duration": 10,
    "start_time": "2024-08-29T14:11:48.625Z"
   },
   {
    "duration": 15,
    "start_time": "2024-08-29T14:11:48.637Z"
   },
   {
    "duration": 9,
    "start_time": "2024-08-29T14:11:48.656Z"
   },
   {
    "duration": 11,
    "start_time": "2024-08-29T14:11:48.667Z"
   },
   {
    "duration": 6,
    "start_time": "2024-08-29T14:11:48.679Z"
   },
   {
    "duration": 20,
    "start_time": "2024-08-29T14:11:48.686Z"
   },
   {
    "duration": 6,
    "start_time": "2024-08-29T14:11:48.708Z"
   },
   {
    "duration": 28,
    "start_time": "2024-08-29T14:11:48.716Z"
   },
   {
    "duration": 6,
    "start_time": "2024-08-29T14:11:48.745Z"
   },
   {
    "duration": 11,
    "start_time": "2024-08-29T14:11:48.752Z"
   },
   {
    "duration": 5,
    "start_time": "2024-08-29T14:11:48.764Z"
   },
   {
    "duration": 4,
    "start_time": "2024-08-29T14:11:48.770Z"
   },
   {
    "duration": 11,
    "start_time": "2024-08-29T14:11:48.775Z"
   },
   {
    "duration": 10,
    "start_time": "2024-08-29T14:11:48.787Z"
   },
   {
    "duration": 4,
    "start_time": "2024-08-29T14:11:48.799Z"
   },
   {
    "duration": 197,
    "start_time": "2024-08-29T14:11:48.804Z"
   },
   {
    "duration": 5,
    "start_time": "2024-08-29T14:11:49.002Z"
   },
   {
    "duration": 86,
    "start_time": "2024-08-29T14:11:49.008Z"
   },
   {
    "duration": 6,
    "start_time": "2024-08-29T14:11:49.095Z"
   },
   {
    "duration": 9,
    "start_time": "2024-08-29T14:11:49.102Z"
   },
   {
    "duration": 171,
    "start_time": "2024-08-29T14:11:49.116Z"
   },
   {
    "duration": 7,
    "start_time": "2024-08-29T14:11:49.289Z"
   },
   {
    "duration": 371,
    "start_time": "2024-08-29T14:11:49.298Z"
   },
   {
    "duration": 8,
    "start_time": "2024-08-29T14:11:49.671Z"
   },
   {
    "duration": 338,
    "start_time": "2024-08-29T14:11:49.680Z"
   },
   {
    "duration": 20,
    "start_time": "2024-08-29T14:11:50.020Z"
   },
   {
    "duration": 16,
    "start_time": "2024-08-29T14:11:50.042Z"
   },
   {
    "duration": 7,
    "start_time": "2024-08-29T14:11:50.059Z"
   },
   {
    "duration": 95,
    "start_time": "2024-08-29T14:11:50.068Z"
   },
   {
    "duration": 4,
    "start_time": "2024-08-29T14:11:50.164Z"
   },
   {
    "duration": 9,
    "start_time": "2024-08-29T14:11:50.169Z"
   },
   {
    "duration": 23,
    "start_time": "2024-08-29T14:11:50.180Z"
   },
   {
    "duration": 7,
    "start_time": "2024-08-29T14:11:50.205Z"
   },
   {
    "duration": 25,
    "start_time": "2024-08-29T14:11:50.214Z"
   },
   {
    "duration": 16,
    "start_time": "2024-08-29T14:11:50.240Z"
   },
   {
    "duration": 21,
    "start_time": "2024-08-29T14:11:50.257Z"
   },
   {
    "duration": 4,
    "start_time": "2024-08-29T14:11:50.280Z"
   },
   {
    "duration": 783,
    "start_time": "2024-08-29T14:11:50.286Z"
   },
   {
    "duration": 8,
    "start_time": "2024-08-29T14:11:51.070Z"
   },
   {
    "duration": 7,
    "start_time": "2024-08-29T14:11:51.080Z"
   },
   {
    "duration": 883,
    "start_time": "2024-08-29T14:11:51.088Z"
   },
   {
    "duration": 8,
    "start_time": "2024-08-29T14:11:51.972Z"
   },
   {
    "duration": 7,
    "start_time": "2024-08-29T14:11:51.982Z"
   },
   {
    "duration": 12,
    "start_time": "2024-08-29T14:11:51.991Z"
   },
   {
    "duration": 52,
    "start_time": "2024-08-29T14:11:52.004Z"
   },
   {
    "duration": 9,
    "start_time": "2024-08-29T14:11:52.058Z"
   },
   {
    "duration": 10,
    "start_time": "2024-08-29T14:11:52.068Z"
   },
   {
    "duration": 13,
    "start_time": "2024-08-29T14:11:52.079Z"
   },
   {
    "duration": 21,
    "start_time": "2024-08-29T14:11:52.093Z"
   },
   {
    "duration": 9,
    "start_time": "2024-08-29T14:11:52.115Z"
   },
   {
    "duration": 12,
    "start_time": "2024-08-29T14:11:52.126Z"
   },
   {
    "duration": 15,
    "start_time": "2024-08-29T14:11:52.139Z"
   },
   {
    "duration": 9,
    "start_time": "2024-08-29T14:11:52.155Z"
   },
   {
    "duration": 1995,
    "start_time": "2024-08-29T14:11:52.166Z"
   },
   {
    "duration": 221,
    "start_time": "2024-08-29T14:11:54.162Z"
   },
   {
    "duration": 7,
    "start_time": "2024-08-29T14:11:54.384Z"
   },
   {
    "duration": 1072,
    "start_time": "2024-08-29T14:14:17.058Z"
   },
   {
    "duration": 157,
    "start_time": "2024-08-29T14:14:18.131Z"
   },
   {
    "duration": 12,
    "start_time": "2024-08-29T14:14:18.289Z"
   },
   {
    "duration": 15,
    "start_time": "2024-08-29T14:14:18.303Z"
   },
   {
    "duration": 32,
    "start_time": "2024-08-29T14:14:18.319Z"
   },
   {
    "duration": 11,
    "start_time": "2024-08-29T14:14:18.353Z"
   },
   {
    "duration": 6,
    "start_time": "2024-08-29T14:14:18.366Z"
   },
   {
    "duration": 13,
    "start_time": "2024-08-29T14:14:18.374Z"
   },
   {
    "duration": 12,
    "start_time": "2024-08-29T14:14:18.388Z"
   },
   {
    "duration": 9,
    "start_time": "2024-08-29T14:14:18.403Z"
   },
   {
    "duration": 31,
    "start_time": "2024-08-29T14:14:18.413Z"
   },
   {
    "duration": 4,
    "start_time": "2024-08-29T14:14:18.446Z"
   },
   {
    "duration": 5,
    "start_time": "2024-08-29T14:14:18.452Z"
   },
   {
    "duration": 8,
    "start_time": "2024-08-29T14:14:18.458Z"
   },
   {
    "duration": 14,
    "start_time": "2024-08-29T14:14:18.467Z"
   },
   {
    "duration": 23,
    "start_time": "2024-08-29T14:14:18.482Z"
   },
   {
    "duration": 14,
    "start_time": "2024-08-29T14:14:18.506Z"
   },
   {
    "duration": 14,
    "start_time": "2024-08-29T14:14:18.522Z"
   },
   {
    "duration": 3,
    "start_time": "2024-08-29T14:14:18.538Z"
   },
   {
    "duration": 8,
    "start_time": "2024-08-29T14:14:18.543Z"
   },
   {
    "duration": 8,
    "start_time": "2024-08-29T14:14:18.553Z"
   },
   {
    "duration": 27,
    "start_time": "2024-08-29T14:14:18.563Z"
   },
   {
    "duration": 185,
    "start_time": "2024-08-29T14:14:18.591Z"
   },
   {
    "duration": 6,
    "start_time": "2024-08-29T14:14:18.777Z"
   },
   {
    "duration": 92,
    "start_time": "2024-08-29T14:14:18.784Z"
   },
   {
    "duration": 7,
    "start_time": "2024-08-29T14:14:18.878Z"
   },
   {
    "duration": 20,
    "start_time": "2024-08-29T14:14:18.886Z"
   },
   {
    "duration": 173,
    "start_time": "2024-08-29T14:14:18.909Z"
   },
   {
    "duration": 9,
    "start_time": "2024-08-29T14:14:19.083Z"
   },
   {
    "duration": 384,
    "start_time": "2024-08-29T14:14:19.093Z"
   },
   {
    "duration": 10,
    "start_time": "2024-08-29T14:14:19.479Z"
   },
   {
    "duration": 377,
    "start_time": "2024-08-29T14:14:19.491Z"
   },
   {
    "duration": 14,
    "start_time": "2024-08-29T14:14:19.869Z"
   },
   {
    "duration": 43,
    "start_time": "2024-08-29T14:14:19.884Z"
   },
   {
    "duration": 15,
    "start_time": "2024-08-29T14:14:19.929Z"
   },
   {
    "duration": 131,
    "start_time": "2024-08-29T14:14:19.945Z"
   },
   {
    "duration": 4,
    "start_time": "2024-08-29T14:14:20.077Z"
   },
   {
    "duration": 22,
    "start_time": "2024-08-29T14:14:20.082Z"
   },
   {
    "duration": 14,
    "start_time": "2024-08-29T14:14:20.106Z"
   },
   {
    "duration": 8,
    "start_time": "2024-08-29T14:14:20.121Z"
   },
   {
    "duration": 18,
    "start_time": "2024-08-29T14:14:20.130Z"
   },
   {
    "duration": 48,
    "start_time": "2024-08-29T14:14:20.149Z"
   },
   {
    "duration": 11,
    "start_time": "2024-08-29T14:14:20.199Z"
   },
   {
    "duration": 12,
    "start_time": "2024-08-29T14:14:20.211Z"
   },
   {
    "duration": 824,
    "start_time": "2024-08-29T14:14:20.224Z"
   },
   {
    "duration": 8,
    "start_time": "2024-08-29T14:14:21.050Z"
   },
   {
    "duration": 17,
    "start_time": "2024-08-29T14:14:21.060Z"
   },
   {
    "duration": 901,
    "start_time": "2024-08-29T14:14:21.078Z"
   },
   {
    "duration": 8,
    "start_time": "2024-08-29T14:14:21.981Z"
   },
   {
    "duration": 11,
    "start_time": "2024-08-29T14:14:21.991Z"
   },
   {
    "duration": 12,
    "start_time": "2024-08-29T14:14:22.004Z"
   },
   {
    "duration": 28,
    "start_time": "2024-08-29T14:14:22.037Z"
   },
   {
    "duration": 10,
    "start_time": "2024-08-29T14:14:22.067Z"
   },
   {
    "duration": 12,
    "start_time": "2024-08-29T14:14:22.078Z"
   },
   {
    "duration": 52,
    "start_time": "2024-08-29T14:14:22.091Z"
   },
   {
    "duration": 10,
    "start_time": "2024-08-29T14:14:22.145Z"
   },
   {
    "duration": 7,
    "start_time": "2024-08-29T14:14:22.156Z"
   },
   {
    "duration": 6,
    "start_time": "2024-08-29T14:14:22.164Z"
   },
   {
    "duration": 9,
    "start_time": "2024-08-29T14:14:22.172Z"
   },
   {
    "duration": 7,
    "start_time": "2024-08-29T14:14:22.182Z"
   },
   {
    "duration": 2095,
    "start_time": "2024-08-29T14:14:22.190Z"
   },
   {
    "duration": 222,
    "start_time": "2024-08-29T14:14:24.288Z"
   },
   {
    "duration": 5,
    "start_time": "2024-08-29T14:14:24.511Z"
   }
  ],
  "kernelspec": {
   "display_name": "Python 3 (ipykernel)",
   "language": "python",
   "name": "python3"
  },
  "language_info": {
   "codemirror_mode": {
    "name": "ipython",
    "version": 3
   },
   "file_extension": ".py",
   "mimetype": "text/x-python",
   "name": "python",
   "nbconvert_exporter": "python",
   "pygments_lexer": "ipython3",
   "version": "3.9.19"
  },
  "toc": {
   "base_numbering": 1,
   "nav_menu": {},
   "number_sections": true,
   "sideBar": true,
   "skip_h1_title": true,
   "title_cell": "Table of Contents",
   "title_sidebar": "Contents",
   "toc_cell": false,
   "toc_position": {},
   "toc_section_display": true,
   "toc_window_display": false
  }
 },
 "nbformat": 4,
 "nbformat_minor": 5
}
